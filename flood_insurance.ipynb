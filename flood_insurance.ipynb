{
 "cells": [
  {
   "cell_type": "code",
   "execution_count": 10,
   "id": "b198aec0",
   "metadata": {},
   "outputs": [
    {
     "ename": "NameError",
     "evalue": "name 'kernel' is not defined",
     "output_type": "error",
     "traceback": [
      "\u001b[0;31m---------------------------------------------------------------------------\u001b[0m",
      "\u001b[0;31mNameError\u001b[0m                                 Traceback (most recent call last)",
      "Cell \u001b[0;32mIn[10], line 25\u001b[0m\n\u001b[1;32m     21\u001b[0m \u001b[38;5;28;01mfrom\u001b[39;00m \u001b[38;5;21;01msklearn\u001b[39;00m\u001b[38;5;21;01m.\u001b[39;00m\u001b[38;5;21;01mgaussian_process\u001b[39;00m\u001b[38;5;21;01m.\u001b[39;00m\u001b[38;5;21;01mkernels\u001b[39;00m \u001b[38;5;28;01mimport\u001b[39;00m RBF, WhiteKernel, ConstantKernel, Kernel\n\u001b[1;32m     24\u001b[0m \u001b[38;5;28;01mfrom\u001b[39;00m \u001b[38;5;21;01mflood_density\u001b[39;00m\u001b[38;5;21;01m.\u001b[39;00m\u001b[38;5;21;01mplots\u001b[39;00m \u001b[38;5;28;01mimport\u001b[39;00m plot_gdf, city_bounds_and_density_plot\n\u001b[0;32m---> 25\u001b[0m \u001b[38;5;28;01mfrom\u001b[39;00m \u001b[38;5;21;01mflood_density\u001b[39;00m\u001b[38;5;21;01m.\u001b[39;00m\u001b[38;5;21;01mpreprocess\u001b[39;00m \u001b[38;5;28;01mimport\u001b[39;00m convert_kml_to_gdf, export_to_geojson,get_bounds_xy_min_max, extract_bounds_polygon, polygon_to_gdf, extract_city_data, coordinates_to_box, points_geocoordinates, convert_points_in_gdf, extract_city_bounds_from_df_to_gdf, gdf_to_geojson, clip_density_to_urban_area, prepare_coords, prepare_centroids, create_kriging_kernel, create_gpr_model\n\u001b[1;32m     28\u001b[0m CRS_4326 \u001b[38;5;241m=\u001b[39m \u001b[38;5;241m4326\u001b[39m\n",
      "File \u001b[0;32m~/projects/flood-insurance-lead-detection/flood_density/preprocess.py:176\u001b[0m\n\u001b[1;32m    172\u001b[0m     \u001b[38;5;28;01mreturn\u001b[39;00m kernel\n\u001b[1;32m    175\u001b[0m \u001b[38;5;66;03m# Generar el modelo GaussianProcessRegressor\u001b[39;00m\n\u001b[0;32m--> 176\u001b[0m \u001b[38;5;28;01mdef\u001b[39;00m \u001b[38;5;21mcreate_gpr_model\u001b[39m(kernel \u001b[38;5;241m=\u001b[39m \u001b[43mkernel\u001b[49m) \u001b[38;5;241m-\u001b[39m\u001b[38;5;241m>\u001b[39m GaussianProcessRegressor:\n\u001b[1;32m    177\u001b[0m     gpr \u001b[38;5;241m=\u001b[39m GaussianProcessRegressor(kernel\u001b[38;5;241m=\u001b[39mkernel, alpha\u001b[38;5;241m=\u001b[39m\u001b[38;5;241m1e-6\u001b[39m, n_restarts_optimizer\u001b[38;5;241m=\u001b[39m\u001b[38;5;241m10\u001b[39m)\n\u001b[1;32m    178\u001b[0m     \u001b[38;5;28;01mreturn\u001b[39;00m gpr\n",
      "\u001b[0;31mNameError\u001b[0m: name 'kernel' is not defined"
     ]
    }
   ],
   "source": [
    "from typing import List, Tuple, Callable\n",
    "\n",
    "\n",
    "import pandas as pd\n",
    "import geopandas as gpd\n",
    "import fiona\n",
    "import matplotlib.pyplot as plt\n",
    "import numpy as np\n",
    "import contextily as ctx\n",
    "import rasterio\n",
    "\n",
    "\n",
    "from rasterio.crs import CRS\n",
    "from rasterio.transform import from_bounds\n",
    "from shapely import force_2d\n",
    "from shapely.geometry import box, Point, Polygon, MultiPolygon\n",
    "from scipy.spatial import cKDTree\n",
    "from sklearn.gaussian_process import GaussianProcessRegressor\n",
    "from pykrige.rk import Krige\n",
    "from pykrige.ok import OrdinaryKriging\n",
    "from sklearn.gaussian_process.kernels import RBF, WhiteKernel, ConstantKernel, Kernel\n",
    "\n",
    "\n",
    "from flood_density.plots import plot_gdf, city_bounds_and_density_plot\n",
    "from flood_density.preprocess import convert_kml_to_gdf, export_to_geojson,get_bounds_xy_min_max, extract_bounds_polygon, polygon_to_gdf, extract_city_data, coordinates_to_box, points_geocoordinates, convert_points_in_gdf, extract_city_bounds_from_df_to_gdf, gdf_to_geojson, clip_density_to_urban_area, prepare_coords, prepare_centroids, create_kriging_kernel, create_gpr_model\n",
    "\n",
    "\n",
    "CRS_4326 = 4326\n"
   ]
  },
  {
   "cell_type": "markdown",
   "id": "483e96eb",
   "metadata": {},
   "source": [
    "# Etapa 1 : Obtener datos .kml de la ciudad de La Plata."
   ]
  },
  {
   "cell_type": "code",
   "execution_count": 2,
   "id": "12fd2d65",
   "metadata": {},
   "outputs": [
    {
     "ename": "NameError",
     "evalue": "name 'convert_kml_to_gdf' is not defined",
     "output_type": "error",
     "traceback": [
      "\u001b[0;31m---------------------------------------------------------------------------\u001b[0m",
      "\u001b[0;31mNameError\u001b[0m                                 Traceback (most recent call last)",
      "Cell \u001b[0;32mIn[2], line 1\u001b[0m\n\u001b[0;32m----> 1\u001b[0m gdf_from_kml \u001b[38;5;241m=\u001b[39m \u001b[43mconvert_kml_to_gdf\u001b[49m(\u001b[38;5;124m'\u001b[39m\u001b[38;5;124mlaplata_cascourbano.kml\u001b[39m\u001b[38;5;124m'\u001b[39m)\n",
      "\u001b[0;31mNameError\u001b[0m: name 'convert_kml_to_gdf' is not defined"
     ]
    }
   ],
   "source": [
    "gdf_from_kml = convert_kml_to_gdf('laplata_cascourbano.kml')\n"
   ]
  },
  {
   "cell_type": "code",
   "execution_count": 3,
   "id": "7af9d9e2",
   "metadata": {},
   "outputs": [
    {
     "ename": "NameError",
     "evalue": "name 'export_to_geojson' is not defined",
     "output_type": "error",
     "traceback": [
      "\u001b[0;31m---------------------------------------------------------------------------\u001b[0m",
      "\u001b[0;31mNameError\u001b[0m                                 Traceback (most recent call last)",
      "Cell \u001b[0;32mIn[3], line 1\u001b[0m\n\u001b[0;32m----> 1\u001b[0m gdf_peligrosidad \u001b[38;5;241m=\u001b[39m \u001b[43mexport_to_geojson\u001b[49m(gdf_from_kml, \u001b[38;5;124m'\u001b[39m\u001b[38;5;124mlaplata_cascourbano.geojson\u001b[39m\u001b[38;5;124m'\u001b[39m)\n",
      "\u001b[0;31mNameError\u001b[0m: name 'export_to_geojson' is not defined"
     ]
    }
   ],
   "source": [
    "gdf_peligrosidad = export_to_geojson(gdf_from_kml, 'laplata_cascourbano.geojson')"
   ]
  },
  {
   "cell_type": "code",
   "execution_count": 4,
   "id": "8618c855",
   "metadata": {},
   "outputs": [
    {
     "ename": "NameError",
     "evalue": "name 'gdf_peligrosidad' is not defined",
     "output_type": "error",
     "traceback": [
      "\u001b[0;31m---------------------------------------------------------------------------\u001b[0m",
      "\u001b[0;31mNameError\u001b[0m                                 Traceback (most recent call last)",
      "Cell \u001b[0;32mIn[4], line 1\u001b[0m\n\u001b[0;32m----> 1\u001b[0m plot_peligrosidad \u001b[38;5;241m=\u001b[39m plot_gdf(\u001b[43mgdf_peligrosidad\u001b[49m)\n",
      "\u001b[0;31mNameError\u001b[0m: name 'gdf_peligrosidad' is not defined"
     ]
    }
   ],
   "source": [
    "plot_peligrosidad = plot_gdf(gdf_peligrosidad)"
   ]
  },
  {
   "cell_type": "markdown",
   "id": "ee7cb6d5",
   "metadata": {},
   "source": [
    "# Etapa 2: Obtener las coordenadas de los puntos de la ciudad, formamos un polígono y luego, transformamos a un gdf.\n"
   ]
  },
  {
   "cell_type": "code",
   "execution_count": 5,
   "id": "8f11c23e",
   "metadata": {},
   "outputs": [],
   "source": [
    "#¿Cómo obtengo bounds_dict? son coordenadas de la ciudad de La Plata Desde el archivo geojson"
   ]
  },
  {
   "cell_type": "code",
   "execution_count": 6,
   "id": "9144d7c1",
   "metadata": {},
   "outputs": [
    {
     "ename": "NameError",
     "evalue": "name 'get_bounds_xy_min_max' is not defined",
     "output_type": "error",
     "traceback": [
      "\u001b[0;31m---------------------------------------------------------------------------\u001b[0m",
      "\u001b[0;31mNameError\u001b[0m                                 Traceback (most recent call last)",
      "Cell \u001b[0;32mIn[6], line 2\u001b[0m\n\u001b[1;32m      1\u001b[0m \u001b[38;5;66;03m#Extraemos las coordenadas geográficas de la ciudad \u001b[39;00m\n\u001b[0;32m----> 2\u001b[0m city_bounds_coordinates\u001b[38;5;241m=\u001b[39m \u001b[43mget_bounds_xy_min_max\u001b[49m(gdf_peligrosidad)\n\u001b[1;32m      3\u001b[0m city_bounds_coordinates\n",
      "\u001b[0;31mNameError\u001b[0m: name 'get_bounds_xy_min_max' is not defined"
     ]
    }
   ],
   "source": [
    "#Extraemos las coordenadas geográficas de la ciudad \n",
    "city_bounds_coordinates= get_bounds_xy_min_max(gdf_peligrosidad)\n",
    "city_bounds_coordinates"
   ]
  },
  {
   "cell_type": "code",
   "execution_count": null,
   "id": "0ed0639a",
   "metadata": {},
   "outputs": [],
   "source": [
    "# Convertimos las coordenadas de la ciudad a un box\n",
    "boxx = coordinates_to_box(city_bounds_coordinates)"
   ]
  },
  {
   "cell_type": "code",
   "execution_count": null,
   "id": "4d6757a7",
   "metadata": {},
   "outputs": [],
   "source": [
    "#Usar el dataframe del polígono que forma las coordenadas de la LP\n",
    "gdf_la_plata_from_polygon = gpd.GeoDataFrame({'geometry': [boxx]}, crs='EPSG:4326')"
   ]
  },
  {
   "cell_type": "code",
   "execution_count": null,
   "id": "e0d3d5a6",
   "metadata": {},
   "outputs": [],
   "source": [
    "# Convertir a EPSG 32721 (UTM zona 21S)\n",
    "gdf_la_plata_from_polygon = gdf_la_plata_from_polygon.to_crs(epsg=32721)"
   ]
  },
  {
   "cell_type": "markdown",
   "id": "5b5fdf1d",
   "metadata": {},
   "source": [
    "# Etapa 3 : Obtener y transformar datos de densidad poblacional de la ciudad de La Plata."
   ]
  },
  {
   "cell_type": "markdown",
   "id": "6d01b12a",
   "metadata": {},
   "source": [
    "Primero extraemos las filas que pertenecen a la ciudad de La Plata(sigue siendo un .csv), luego convertimos ese dataframe en un geodataframe."
   ]
  },
  {
   "cell_type": "code",
   "execution_count": null,
   "id": "30c382e9",
   "metadata": {},
   "outputs": [],
   "source": [
    "#Levantamos el dataset completo\n",
    "df_arg = pd.read_csv(\"arg_pd_2020_1km_ASCII_XYZ.csv\") "
   ]
  },
  {
   "cell_type": "code",
   "execution_count": null,
   "id": "ea374d82",
   "metadata": {},
   "outputs": [],
   "source": [
    "# Extraemos las filas referidas a la ciudad de La Plata\n",
    "df_lp_coordinates = extract_city_data(df_arg,'la_plata',city_bounds_coordinates)\n",
    "df_lp_coordinates"
   ]
  },
  {
   "cell_type": "code",
   "execution_count": null,
   "id": "eb2c4159",
   "metadata": {},
   "outputs": [],
   "source": [
    "#Leemos los datos específicos de la ciudad de La Plata\n",
    "df_lp_coordinates = pd.read_csv('la_plata_population_2020.csv')\n",
    "df_lp_coordinates\n"
   ]
  },
  {
   "cell_type": "code",
   "execution_count": null,
   "id": "d1bb0a21",
   "metadata": {},
   "outputs": [],
   "source": [
    "#Convertir dataframe de los puntos pertenecientes a la ciudad de La Plata en un geodataframe\n",
    "gdf_lp_coordinates = extract_city_bounds_from_df_to_gdf(df_lp_coordinates, 'Y','X')"
   ]
  },
  {
   "cell_type": "code",
   "execution_count": null,
   "id": "4e26435e",
   "metadata": {},
   "outputs": [],
   "source": [
    "# Extraemos las coordenadas de los puntos dentro de la ciudad de La Plata\n",
    "casco_urbano = clip_density_to_urban_area(gdf_lp_coordinates,gdf_peligrosidad)"
   ]
  },
  {
   "cell_type": "code",
   "execution_count": null,
   "id": "04b6bb0b",
   "metadata": {},
   "outputs": [],
   "source": [
    "# Reproyectar a EPSG 32721 (UTM zona 21S)\n",
    "casco_urbano_utm = casco_urbano.to_crs(epsg=32721)\n",
    "casco_urbano_utm"
   ]
  },
  {
   "cell_type": "code",
   "execution_count": null,
   "id": "8d6b2bbb",
   "metadata": {},
   "outputs": [],
   "source": [
    "# Calcular centroides en el CRS proyectado\n",
    "centroides = casco_urbano_utm.geometry.centroid"
   ]
  },
  {
   "cell_type": "code",
   "execution_count": null,
   "id": "0d3d75a3",
   "metadata": {},
   "outputs": [],
   "source": [
    "# Convertir centroides a un array de coordenadas\n",
    "coords_centroides = np.array([[pt.x, pt.y] for pt in centroides])"
   ]
  },
  {
   "cell_type": "code",
   "execution_count": null,
   "id": "5bc92af3",
   "metadata": {},
   "outputs": [],
   "source": [
    "# Extraer densidades de casco_urbano_utm\n",
    "values_density_lp = casco_urbano_utm['Z'].values"
   ]
  },
  {
   "cell_type": "code",
   "execution_count": null,
   "id": "9f3fc49b",
   "metadata": {},
   "outputs": [],
   "source": [
    "#Extraer los límites del polígono de la ciudad de La Plata\n",
    "bounds_lp = gdf_la_plata_from_polygon.total_bounds  # [minx, miny, maxx, maxy]\n",
    "bounds_lp"
   ]
  },
  {
   "cell_type": "code",
   "execution_count": null,
   "id": "45acc12b",
   "metadata": {},
   "outputs": [],
   "source": [
    "fig, ax = plt.subplots(figsize=(8, 6))\n",
    "sc = ax.scatter(coords_centroides[:, 0], coords_centroides[:, 1],\n",
    "                c=values_density_lp, s=100,\n",
    "                cmap='viridis', alpha=0.9,\n",
    "                edgecolor='black', linewidth=1,\n",
    "                marker='o')\n",
    "\n",
    "plt.colorbar(sc, ax=ax, label='Densidad')\n",
    "ax.set_title(\"Centroides (EPSG:32721)\")\n",
    "plt.show()"
   ]
  },
  {
   "cell_type": "markdown",
   "id": "4240c2cf",
   "metadata": {},
   "source": [
    "# Etapa 4 : Merge polígono y zona de densidad de la ciudad de La Plata en un plot para corroborar consistencia geográfica."
   ]
  },
  {
   "cell_type": "code",
   "execution_count": null,
   "id": "79b4a2c4",
   "metadata": {},
   "outputs": [],
   "source": [
    "city_bounds_and_density_plot(gdf_la_plata_from_polygon, coords_centroides, values_density_lp, bounds_lp)"
   ]
  },
  {
   "cell_type": "markdown",
   "id": "958243ae",
   "metadata": {},
   "source": [
    "# Etapa 5 :  Visualización de la densidad poblacional de La Plata usando kriging."
   ]
  },
  {
   "cell_type": "code",
   "execution_count": null,
   "id": "5980123c",
   "metadata": {},
   "outputs": [],
   "source": [
    "casco_urbano_utm"
   ]
  },
  {
   "cell_type": "markdown",
   "id": "eebb5191",
   "metadata": {},
   "source": [
    "## 1. Preparar los datos (coordenadas y centroides)"
   ]
  },
  {
   "cell_type": "code",
   "execution_count": null,
   "id": "c187e9f3",
   "metadata": {},
   "outputs": [],
   "source": [
    "coordinates_lp = prepare_coords(casco_urbano_utm, 'Z')"
   ]
  },
  {
   "cell_type": "code",
   "execution_count": null,
   "id": "41522bcd",
   "metadata": {},
   "outputs": [],
   "source": [
    "centroids_lp = prepare_centroids(casco_urbano_utm)"
   ]
  },
  {
   "cell_type": "markdown",
   "id": "3be16abc",
   "metadata": {},
   "source": [
    "## 2. Ajustar modelo kriging"
   ]
  },
  {
   "cell_type": "code",
   "execution_count": null,
   "id": "c61a470b",
   "metadata": {},
   "outputs": [],
   "source": [
    "kernel = create_kriging_kernel(constant_value=1.0, length_scale=1000.0, noise_level=0.1)"
   ]
  },
  {
   "cell_type": "code",
   "execution_count": null,
   "id": "37abf9a9",
   "metadata": {},
   "outputs": [],
   "source": [
    "#gpr_model_kriging = create_gpr_model(kernel)"
   ]
  },
  {
   "cell_type": "code",
   "execution_count": null,
   "id": "4a131ad9",
   "metadata": {},
   "outputs": [],
   "source": [
    "#def oned_to_2d(coords: np.ndarray, values: np.ndarray) ->  tuple[np.ndarray, np.ndarray]:\n",
    "#    coords = np.array(coords)\n",
    "#    if coords.ndim == 1:\n",
    "#        coords = coords.reshape(-1, 1)\n",
    "#    values = np.array(values)\n",
    "#    if values.ndim == 1:\n",
    "#        values = values.reshape(-1, 1)\n",
    "#    return coords, values"
   ]
  },
  {
   "cell_type": "code",
   "execution_count": null,
   "id": "ec1c3b9c",
   "metadata": {},
   "outputs": [],
   "source": [
    "#coords, values = oned_to_2d(coordinates_lp, centroids_lp)"
   ]
  },
  {
   "cell_type": "code",
   "execution_count": null,
   "id": "c68196fd",
   "metadata": {},
   "outputs": [],
   "source": [
    "#def fit_gpr_model(gpr: GaussianProcessRegressor, coords: np.ndarray, values: np.ndarray) -> GaussianProcessRegressor:\n",
    "#    gpr.fit(coords, values)\n",
    "#    return gpr"
   ]
  },
  {
   "cell_type": "code",
   "execution_count": null,
   "id": "20f586d4",
   "metadata": {},
   "outputs": [],
   "source": [
    "#fit_gpr_model(gpr_model_kriging, coords, values)"
   ]
  },
  {
   "cell_type": "code",
   "execution_count": null,
   "id": "fc72ecdd",
   "metadata": {},
   "outputs": [],
   "source": [
    "#def plot_kriging_results_with_basemap(gdf: gpd.GeoDataFrame, \n",
    "#                                      coords: np.ndarray, \n",
    "#                                      bounds: Tuple[float, float, float, float], \n",
    "#                                      grid_x: np.ndarray, \n",
    "#                                      grid_y: np.ndarray, \n",
    "#                                      model: OrdinaryKriging, \n",
    "#                                      predict_fn: Callable[[OrdinaryKriging, np.ndarray, np.ndarray], Tuple[np.ndarray, np.ndarray]]) -> plt.Figure:\n",
    "#\n",
    "#    fig, ax = plt.subplots(figsize=(10, 10))\n",
    "#\n",
    "#    # Obtener la superficie interpolada desde la función predict_fn\n",
    "#    grid_z, ss = predict_fn(model, grid_x, grid_y)\n",
    "#    \n",
    "#    # Plotear superficie Kriging interpolada\n",
    "#    contour = ax.contourf(grid_x, grid_y, grid_z, levels=30, cmap='viridis', alpha=0.5)\n",
    "#    \n",
    "#\n",
    "#    # Plotear los polígonos originales\n",
    "#    casco_urbano_utm.plot(column='Z', \n",
    "#               cmap='viridis',\n",
    "#               alpha=0.5,\n",
    "#               edgecolor='black',\n",
    "#               linewidth=1.0,\n",
    "#               ax=ax)\n",
    "#\n",
    "#    # Plotear los polígonos originales con bordes\n",
    "#    casco_urbano_utm.plot(column='Z', \n",
    "#               cmap='viridis',\n",
    "#               alpha=0.5,\n",
    "#               edgecolor='black',\n",
    "#               linewidth=1.0,\n",
    "#               ax=ax)\n",
    "#\n",
    "#    # Plotear los puntos centroides\n",
    "#    scatter = ax.scatter(coords[:, 0], coords[:, 1],\n",
    "#                    c=gdf['Z'],\n",
    "#                    cmap='viridis',\n",
    "#                    s=30,\n",
    "#                    edgecolors='black',\n",
    "#                    linewidths=1,\n",
    "#                    zorder=5)\n",
    "#\n",
    "#    # Ajustar límites del gráfico según los límites de La Plata\n",
    "#    ax.set_xlim(bounds[0], bounds[2])\n",
    "#    ax.set_ylim(bounds[1], bounds[3])\n",
    "#\n",
    "#    #Mapa base más sutil\n",
    "#    ctx.add_basemap(ax, crs=casco_urbano_utm.crs.to_string(),\n",
    "#                   source=ctx.providers.CartoDB.Positron,\n",
    "#                   alpha = 0.9)\n",
    "#\n",
    "#    # Agregar colorbar para el scatter\n",
    "#    plt.colorbar(scatter, ax=ax, label='Densidad poblacional',shrink=0.7, aspect=25)\n",
    "#\n",
    "#    # Agregar título y etiquetas\n",
    "#    ax.set_title('Interpolación Kriging - Densidad Poblacional La Plata')\n",
    "#    ax.set_xlabel('X (UTM)')\n",
    "#    ax.set_ylabel('Y (UTM)')\n",
    "#\n",
    "#    plt.tight_layout()\n",
    "#    plt.show()\n",
    "#"
   ]
  },
  {
   "cell_type": "code",
   "execution_count": null,
   "id": "8812e99d",
   "metadata": {},
   "outputs": [],
   "source": [
    "#plot_kriging_results_with_basemap(casco_urbano_utm, coords_centroides, bounds_lp, grid_x, grid_y, model_fit_kriging, predict_grid)"
   ]
  },
  {
   "cell_type": "code",
   "execution_count": null,
   "id": "f92491a3",
   "metadata": {},
   "outputs": [],
   "source": [
    "# 5. Pipeline principal\n",
    "#def run_kriging_pipeline(geodf, value_column, bounds, step=100):\n",
    "#    coords, values = prepare_data(geodf, value_column)\n",
    "#    model = fit_kriging(coords, values)\n",
    "#    grid_xx, grid_yy, z = interpolate_grid(model, bounds, step)\n",
    "#    plot_kriging_results(grid_xx, grid_yy, z, coords, values, bounds)"
   ]
  },
  {
   "cell_type": "markdown",
   "id": "94e80be5",
   "metadata": {},
   "source": [
    "---------------------------------"
   ]
  },
  {
   "cell_type": "code",
   "execution_count": null,
   "id": "5884d6bd",
   "metadata": {},
   "outputs": [],
   "source": [
    "# 3. Generar el modelo GaussianProcessRegressor\n",
    "def gaussian_process_regressor(kernel: kernel, coords: np.ndarray, values: np.ndarray) -> GaussianProcessRegressor:\n",
    "    gpr = GaussianProcessRegressor(kernel=kernel, alpha=1e-6, n_restarts_optimizer=10)\n",
    "    gpr.fit(coords, values)\n",
    "    return gpr"
   ]
  },
  {
   "cell_type": "code",
   "execution_count": null,
   "id": "2d443b2f",
   "metadata": {},
   "outputs": [],
   "source": [
    "model_gpr = gaussian_process_regressor(kernel, coords_centroides, values_density_lp)"
   ]
  },
  {
   "cell_type": "code",
   "execution_count": null,
   "id": "19fe6305",
   "metadata": {},
   "outputs": [],
   "source": [
    "type(model_gpr)"
   ]
  },
  {
   "cell_type": "code",
   "execution_count": null,
   "id": "1f2b0018",
   "metadata": {},
   "outputs": [],
   "source": [
    "# 4. Crear malla para interpolar\n",
    "\n",
    "def interpolate_grid(\n",
    "    bounds: Tuple[float, float, float, float],\n",
    "    step: int = 100\n",
    ") -> Tuple[np.ndarray, np.ndarray]:\n",
    "\n",
    "    # Crear malla con np.mgrid\n",
    "    grid_x, grid_y = np.mgrid[bounds[0]:bounds[2]:step*1j, bounds[1]:bounds[3]:step*1j]\n",
    "\n",
    "    # Crear coordenadas de la malla\n",
    "    grid_coords = np.column_stack([grid_x.ravel(), grid_y.ravel()])\n",
    "\n",
    "    return grid_x, grid_y, grid_coords"
   ]
  },
  {
   "cell_type": "code",
   "execution_count": null,
   "id": "7f2dffd7",
   "metadata": {},
   "outputs": [],
   "source": [
    "grid_x, grid_y, grid_coords = interpolate_grid(bounds_lp, step=100)\n",
    "interpolate_lp = interpolate_grid(bounds_lp, step=100)\n"
   ]
  },
  {
   "cell_type": "code",
   "execution_count": null,
   "id": "1dc6723f",
   "metadata": {},
   "outputs": [],
   "source": [
    "# 5. Predecir en la malla\n",
    "\n",
    "def predict_grid(\n",
    "    model: GaussianProcessRegressor, \n",
    "    grid: Tuple[np.ndarray, np.ndarray, np.ndarray]\n",
    ") -> Tuple[np.ndarray, np.ndarray]:\n",
    "    \n",
    "    # Desempaquetar la tupla grid\n",
    "    grid_x, grid_y, _ = grid\n",
    "\n",
    "    # Preparar puntos para predicción\n",
    "    points = np.column_stack((grid_x.ravel(), grid_y.ravel()))\n",
    "    \n",
    "    # Predecir\n",
    "    z, ss = model.predict(points, return_std=True)\n",
    "\n",
    "    return z, ss\n"
   ]
  },
  {
   "cell_type": "code",
   "execution_count": null,
   "id": "f1c9d94c",
   "metadata": {},
   "outputs": [],
   "source": [
    "predict_grid_lp = predict_grid(model_gpr, interpolate_lp)"
   ]
  },
  {
   "cell_type": "code",
   "execution_count": null,
   "id": "491826c5",
   "metadata": {},
   "outputs": [],
   "source": [
    "type(predict_grid_lp)"
   ]
  },
  {
   "cell_type": "code",
   "execution_count": null,
   "id": "d78f9749",
   "metadata": {},
   "outputs": [],
   "source": [
    "# 6. Convertir resultados a grillas 2D\n",
    "\n",
    "def convert_to_2d_grid(\n",
    "    data: Tuple[np.ndarray, np.ndarray], \n",
    "    grid_shape: Tuple[int, int]\n",
    ") -> Tuple[np.ndarray, np.ndarray]:\n",
    "\n",
    "    # Desempaquetar la tupla data\n",
    "    z, ss = data \n",
    "\n",
    "    # Convertir a grillas 2D los valores predichos\n",
    "    z_2d = z.reshape(grid_shape)\n",
    "\n",
    "    # Convertir a grillas 2D las desviacciones estándar(incertidumbre)\n",
    "    ss_2d = ss.reshape(grid_shape)\n",
    "\n",
    "    return z_2d, ss_2d\n"
   ]
  },
  {
   "cell_type": "code",
   "execution_count": null,
   "id": "aaae6886",
   "metadata": {},
   "outputs": [],
   "source": [
    "predict_grid_lp = predict_grid(model_gpr, (grid_x, grid_y, grid_coords))\n",
    "grid_2d_lp = convert_to_2d_grid(predict_grid_lp, grid_x.shape)"
   ]
  },
  {
   "cell_type": "code",
   "execution_count": null,
   "id": "a9cd70db",
   "metadata": {},
   "outputs": [],
   "source": [
    "predict_grid(model_gpr, grid_x, grid_y)"
   ]
  },
  {
   "cell_type": "code",
   "execution_count": null,
   "id": "053afc2d",
   "metadata": {},
   "outputs": [],
   "source": [
    "# Visualización de la densidad poblacional de La Plata usando kriging\n",
    "\n",
    "# Extraer coordenadas y valores desde el GeoDataFrame\n",
    "#coords =np.array([[point.x, point.y] for point in casco_utm.geometry.centroid])\n",
    "#values = casco_urbano['densidad_poblacional_lp'].values\n",
    "#\n",
    "#print(f\"Puntos de datos: {len(coords)}\")\n",
    "#print(f\"Rango de valores: {values.min():.2f} - {values.max():.2f}\")\n",
    "#\n",
    "##Definir kernel para el modelo de kriging\n",
    "#kernel = (ConstantKernel(1.0) * RBF(length_scale=1000.0) + \n",
    "#          WhiteKernel(noise_level=0.1, noise_level_bounds=(1e-10, 1e3)))\n",
    "#\n",
    "## Crear modelo de kriging\n",
    "#gpr = GaussianProcessRegressor(kernel=kernel,\n",
    "#                                n_restarts_optimizer=10,\n",
    "#                                alpha=1e-04,\n",
    "#                                normalize_y=True)\n",
    "#\n",
    "## Crear grid de puntos para interpolación\n",
    "#bounds_casco_lp = casco_utm.total_bounds\n",
    "#grid_x, grid_y = np.mgrid[bounds_casco_lp[0]:bounds_casco_lp[2]:100j, bounds_casco_lp[1]:bounds_casco_lp[3]:100j]\n",
    "#grid_coords = np.column_stack([grid_x.ravel(), grid_y.ravel()])\n",
    "#\n",
    "#\n",
    "#\n",
    "## Entrenar el modelo\n",
    "#gpr.fit(coords, values)\n",
    "#\n",
    "##Predecir en el grid\n",
    "#grid_2_kriging, pred_std = gpr.predict(grid_coords, return_std=True)\n",
    "#grid_z = grid_2_kriging.reshape(grid_x.shape)\n",
    "#grid_uncertainty = pred_std.reshape(grid_x.shape)\n",
    "#\n",
    "## Visualización de la superficie Kriging interpolada\n",
    "#fig, ax = plt.subplots(figsize=(8, 10))\n",
    "#\n",
    "## Plotear superficie Kriging interpolada\n",
    "#contour = ax.contourf(grid_x, grid_y, grid_z, levels=30, cmap='viridis', alpha=0.7)\n",
    "#\n",
    "## Plotear los polígonos originales con bordes\n",
    "#casco_utm.plot(column='densidad_poblacional_lp', \n",
    "#               cmap='viridis',\n",
    "#               alpha=0.5,\n",
    "#               edgecolor='black',\n",
    "#               linewidth=1.0,\n",
    "#               ax=ax)\n",
    "#\n",
    "## Plotear los puntos centroides\n",
    "#scatter = ax.scatter(coords[:, 0], coords[:, 1],\n",
    "#                    c=values,\n",
    "#                    cmap='viridis',\n",
    "#                    s=30,\n",
    "#                    edgecolors='black',\n",
    "#                    linewidths=1,\n",
    "#                    zorder=5)\n",
    "#\n",
    "##Mapa base más sutil\n",
    "#ctx.add_basemap(ax, crs=casco_utm.crs.to_string(),\n",
    "#               source=ctx.providers.CartoDB.Positron,\n",
    "#               alpha = 0.9)\n",
    "#\n",
    "## Agregar colorbar para el scatter\n",
    "#plt.colorbar(scatter, ax=ax, label='Densidad poblacional',shrink=0.7, aspect=25)\n",
    "#\n",
    "## Agregar título y etiquetas\n",
    "#ax.set_title('Interpolación Kriging - Densidad Poblacional La Plata')\n",
    "#ax.set_xlabel('X (UTM)')\n",
    "#ax.set_ylabel('Y (UTM)')\n",
    "#\n",
    "#plt.tight_layout()\n",
    "#plt.show()\n",
    "#"
   ]
  },
  {
   "cell_type": "code",
   "execution_count": null,
   "id": "080adb80",
   "metadata": {},
   "outputs": [],
   "source": [
    "def export_to_geotiff(grid_data: np.ndarray, gdf: gpd.GeoDataFrame,  crs_epsg: int = 32721):\n",
    "\n",
    "     # Crear un GeoDataFrame con los límites del área de La Plata en EPSG:4326\n",
    "    boxx = coordinates_to_box(city_bounds_coordinates) \n",
    "    gdf_la_plata_from_polygon = gpd.GeoDataFrame({'geometry': [boxx]}, crs='EPSG:4326')\n",
    "    \n",
    "    # Transformar al CRS del plot\n",
    "    gdf_la_plata_from_polygon = gdf_la_plata_from_polygon.to_crs(epsg=32721)\n",
    "\n",
    "    # Obtener límites en coordenadas proyectadas\n",
    "    bounds_proj = gdf_la_plata_from_polygon.total_bounds  # [xmin, ymin, xmax, ymax]\n",
    "    height, width = grid_data.shape\n",
    "\n",
    "    # Calcula la transformación georreferenciada\n",
    "    transform = from_bounds(bounds_proj[0], bounds_proj[1], bounds_proj[2], bounds_proj[3], width, height)\n",
    "\n",
    "    with rasterio.open(\n",
    "        filename,\n",
    "        'w',\n",
    "        driver='GTiff',\n",
    "        height=height,\n",
    "        width=width,\n",
    "        count=1,\n",
    "        dtype=grid_data.dtype,\n",
    "        crs=CRS.from_epsg(crs_epsg),\n",
    "        transform=transform,\n",
    "        compress='lzw'\n",
    "    ) as dst:\n",
    "        dst.write(grid_data, 1)\n",
    "        dst.set_band_description(1, 'Densidad Poblacional Kriging')\n",
    "\n"
   ]
  },
  {
   "cell_type": "code",
   "execution_count": null,
   "id": "f27e36f1",
   "metadata": {},
   "outputs": [],
   "source": [
    "# Exportar superficie interpolada\n",
    "export_to_geotiff(grid_z, gdf_la_plata_from_polygon, 32721)"
   ]
  },
  {
   "cell_type": "markdown",
   "id": "0f418dfc",
   "metadata": {},
   "source": [
    "# Etapa 5 : superposición de mapas de densidad y peligrosidad de inundación de la ciudad de La Plata (QGIS)."
   ]
  }
 ],
 "metadata": {
  "kernelspec": {
   "display_name": "Python 3",
   "language": "python",
   "name": "python3"
  },
  "language_info": {
   "codemirror_mode": {
    "name": "ipython",
    "version": 3
   },
   "file_extension": ".py",
   "mimetype": "text/x-python",
   "name": "python",
   "nbconvert_exporter": "python",
   "pygments_lexer": "ipython3",
   "version": "3.10.12"
  }
 },
 "nbformat": 4,
 "nbformat_minor": 5
}
