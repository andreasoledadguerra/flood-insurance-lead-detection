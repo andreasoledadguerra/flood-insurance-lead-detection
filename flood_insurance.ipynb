{
 "cells": [
  {
   "cell_type": "code",
   "execution_count": null,
   "id": "b198aec0",
   "metadata": {},
   "outputs": [],
   "source": [
    "from typing import List, Tuple, Callable, Union\n",
    "\n",
    "\n",
    "import pandas as pd\n",
    "import geopandas as gpd\n",
    "import fiona\n",
    "import matplotlib.pyplot as plt\n",
    "import numpy as np\n",
    "import contextily as ctx\n",
    "import rasterio\n",
    "\n",
    "\n",
    "from rasterio.crs import CRS\n",
    "from rasterio.transform import from_bounds\n",
    "from shapely import force_2d\n",
    "from shapely.geometry import box, Point, Polygon, MultiPolygon\n",
    "from scipy.spatial import cKDTree\n",
    "from sklearn.gaussian_process import GaussianProcessRegressor\n",
    "from pykrige.rk import Krige\n",
    "from pykrige.ok import OrdinaryKriging\n",
    "from sklearn.gaussian_process.kernels import RBF, WhiteKernel, ConstantKernel, Kernel\n",
    "\n",
    "\n",
    "from flood_density.plots import plot_gdf, city_bounds_and_density_plot, plot_kriging_results_with_basemap\n",
    "from flood_density.preprocess import convert_kml_to_gdf, export_to_geojson,get_bounds_xy_min_max, extract_bounds_polygon, polygon_to_gdf, extract_city_data, coordinates_to_box, points_geocoordinates, convert_points_in_gdf, extract_city_bounds_from_df_to_gdf, gdf_to_geojson, clip_density_to_urban_area, prepare_coords, prepare_centroids, create_kriging_kernel, create_gpr_model, interpolate_grid, predict_grid, fit_gpr_model,convert_to_2d_grid\n",
    "\n",
    "CRS_4326 = 4326\n"
   ]
  },
  {
   "cell_type": "markdown",
   "id": "483e96eb",
   "metadata": {},
   "source": [
    "# Etapa 1 : Obtener datos .kml de la ciudad de La Plata."
   ]
  },
  {
   "cell_type": "code",
   "execution_count": null,
   "id": "12fd2d65",
   "metadata": {},
   "outputs": [],
   "source": [
    "gdf_from_kml = convert_kml_to_gdf('laplata_cascourbano.kml')\n"
   ]
  },
  {
   "cell_type": "code",
   "execution_count": null,
   "id": "7af9d9e2",
   "metadata": {},
   "outputs": [],
   "source": [
    "gdf_peligrosidad = export_to_geojson(gdf_from_kml, 'laplata_cascourbano.geojson')"
   ]
  },
  {
   "cell_type": "code",
   "execution_count": null,
   "id": "4209b250",
   "metadata": {},
   "outputs": [],
   "source": [
    "gdf_peligrosidad"
   ]
  },
  {
   "cell_type": "code",
   "execution_count": null,
   "id": "8618c855",
   "metadata": {},
   "outputs": [],
   "source": [
    "plot_peligrosidad = plot_gdf(gdf_peligrosidad)"
   ]
  },
  {
   "cell_type": "markdown",
   "id": "ee7cb6d5",
   "metadata": {},
   "source": [
    "# Etapa 2: Obtener las coordenadas de los puntos de la ciudad, formamos un polígono y luego, transformamos a un gdf.\n"
   ]
  },
  {
   "cell_type": "code",
   "execution_count": null,
   "id": "8f11c23e",
   "metadata": {},
   "outputs": [],
   "source": [
    "#¿Cómo obtengo bounds_dict? son coordenadas de la ciudad de La Plata Desde el archivo geojson"
   ]
  },
  {
   "cell_type": "code",
   "execution_count": null,
   "id": "9144d7c1",
   "metadata": {},
   "outputs": [],
   "source": [
    "#Extraemos las coordenadas geográficas de la ciudad \n",
    "city_bounds_coordinates= get_bounds_xy_min_max(gdf_peligrosidad)\n",
    "city_bounds_coordinates"
   ]
  },
  {
   "cell_type": "code",
   "execution_count": null,
   "id": "0ed0639a",
   "metadata": {},
   "outputs": [],
   "source": [
    "# Convertimos las coordenadas de la ciudad a un box\n",
    "boxx = coordinates_to_box(city_bounds_coordinates)"
   ]
  },
  {
   "cell_type": "code",
   "execution_count": null,
   "id": "4d6757a7",
   "metadata": {},
   "outputs": [],
   "source": [
    "#Usar el dataframe del polígono que forma las coordenadas de la LP\n",
    "gdf_la_plata_from_polygon = gpd.GeoDataFrame({'geometry': [boxx]}, crs='EPSG:4326')"
   ]
  },
  {
   "cell_type": "code",
   "execution_count": null,
   "id": "e0d3d5a6",
   "metadata": {},
   "outputs": [],
   "source": [
    "# Convertir a EPSG 32721 (UTM zona 21S) --- lo uso para el plot de geotiff\n",
    "#gdf_la_plata_from_polygon = gdf_la_plata_from_polygon.to_crs(epsg=32721)"
   ]
  },
  {
   "cell_type": "markdown",
   "id": "5b5fdf1d",
   "metadata": {},
   "source": [
    "# Etapa 3 : Obtener y transformar datos de densidad poblacional de la ciudad de La Plata."
   ]
  },
  {
   "cell_type": "markdown",
   "id": "6d01b12a",
   "metadata": {},
   "source": [
    "Primero extraemos las filas que pertenecen a la ciudad de La Plata(sigue siendo un .csv), luego convertimos ese dataframe en un geodataframe."
   ]
  },
  {
   "cell_type": "code",
   "execution_count": null,
   "id": "30c382e9",
   "metadata": {},
   "outputs": [],
   "source": [
    "#Levantamos el dataset completo\n",
    "df_arg = pd.read_csv(\"arg_pd_2020_1km_ASCII_XYZ.csv\") "
   ]
  },
  {
   "cell_type": "code",
   "execution_count": null,
   "id": "ea374d82",
   "metadata": {},
   "outputs": [],
   "source": [
    "# Extraemos las filas referidas a la ciudad de La Plata\n",
    "df_lp_coordinates = extract_city_data(df_arg,'la_plata',city_bounds_coordinates)\n",
    "df_lp_coordinates"
   ]
  },
  {
   "cell_type": "code",
   "execution_count": null,
   "id": "eb2c4159",
   "metadata": {},
   "outputs": [],
   "source": [
    "#Leemos los datos específicos de la ciudad de La Plata\n",
    "df_lp_coordinates = pd.read_csv('la_plata_population_2020.csv')\n",
    "df_lp_coordinates\n"
   ]
  },
  {
   "cell_type": "code",
   "execution_count": null,
   "id": "d1bb0a21",
   "metadata": {},
   "outputs": [],
   "source": [
    "#Convertir dataframe de los puntos pertenecientes a la ciudad de La Plata en un geodataframe\n",
    "gdf_lp_coordinates = extract_city_bounds_from_df_to_gdf(df_lp_coordinates, 'Y','X')"
   ]
  },
  {
   "cell_type": "code",
   "execution_count": null,
   "id": "4e26435e",
   "metadata": {},
   "outputs": [],
   "source": [
    "# Extraemos las coordenadas de los puntos dentro de la ciudad de La Plata\n",
    "casco_urbano = clip_density_to_urban_area(gdf_lp_coordinates,gdf_peligrosidad)"
   ]
  },
  {
   "cell_type": "code",
   "execution_count": null,
   "id": "04b6bb0b",
   "metadata": {},
   "outputs": [],
   "source": [
    "# Reproyectar a EPSG 32721 (UTM zona 21S)\n",
    "casco_urbano_utm = casco_urbano.to_crs(epsg=32721)\n",
    "casco_urbano_utm"
   ]
  },
  {
   "cell_type": "code",
   "execution_count": null,
   "id": "8d6b2bbb",
   "metadata": {},
   "outputs": [],
   "source": [
    "# Calcular centroides en el CRS proyectado\n",
    "centroides = casco_urbano_utm.geometry.centroid"
   ]
  },
  {
   "cell_type": "code",
   "execution_count": null,
   "id": "0d3d75a3",
   "metadata": {},
   "outputs": [],
   "source": [
    "# Convertir centroides a un array de coordenadas\n",
    "coords_centroides = np.array([[pt.x, pt.y] for pt in centroides])"
   ]
  },
  {
   "cell_type": "code",
   "execution_count": null,
   "id": "5bc92af3",
   "metadata": {},
   "outputs": [],
   "source": [
    "# Extraer densidades de casco_urbano_utm\n",
    "values_density_lp = casco_urbano_utm['Z'].values"
   ]
  },
  {
   "cell_type": "code",
   "execution_count": null,
   "id": "9f3fc49b",
   "metadata": {},
   "outputs": [],
   "source": [
    "#Extraer los límites del polígono de la ciudad de La Plata\n",
    "bounds_lp = gdf_la_plata_from_polygon.total_bounds  # [minx, miny, maxx, maxy]\n",
    "bounds_lp"
   ]
  },
  {
   "cell_type": "code",
   "execution_count": null,
   "id": "45acc12b",
   "metadata": {},
   "outputs": [],
   "source": [
    "fig, ax = plt.subplots(figsize=(8, 6))\n",
    "sc = ax.scatter(coords_centroides[:, 0], coords_centroides[:, 1],\n",
    "                c=values_density_lp, s=100,\n",
    "                cmap='viridis', alpha=0.9,\n",
    "                edgecolor='black', linewidth=1,\n",
    "                marker='o')\n",
    "\n",
    "plt.colorbar(sc, ax=ax, label='Densidad')\n",
    "ax.set_title(\"Centroides (EPSG:32721)\")\n",
    "plt.show()"
   ]
  },
  {
   "cell_type": "markdown",
   "id": "4240c2cf",
   "metadata": {},
   "source": [
    "# Etapa 4 : Merge polígono y zona de densidad de la ciudad de La Plata en un plot para corroborar consistencia geográfica."
   ]
  },
  {
   "cell_type": "code",
   "execution_count": null,
   "id": "79b4a2c4",
   "metadata": {},
   "outputs": [],
   "source": [
    "city_bounds_and_density_plot(gdf_la_plata_from_polygon, coords_centroides, values_density_lp, bounds_lp)"
   ]
  },
  {
   "cell_type": "markdown",
   "id": "958243ae",
   "metadata": {},
   "source": [
    "# Etapa 5 :  Visualización de la densidad poblacional de La Plata usando kriging."
   ]
  },
  {
   "cell_type": "code",
   "execution_count": null,
   "id": "5980123c",
   "metadata": {},
   "outputs": [],
   "source": [
    "casco_urbano_utm"
   ]
  },
  {
   "cell_type": "markdown",
   "id": "eebb5191",
   "metadata": {},
   "source": [
    "## 1. Preparar los datos (coordenadas y centroides)"
   ]
  },
  {
   "cell_type": "code",
   "execution_count": null,
   "id": "c187e9f3",
   "metadata": {},
   "outputs": [],
   "source": [
    "centroids_lp = prepare_centroids(casco_urbano_utm, 'Z')"
   ]
  },
  {
   "cell_type": "code",
   "execution_count": null,
   "id": "41522bcd",
   "metadata": {},
   "outputs": [],
   "source": [
    "coordinates_lp = prepare_coords(casco_urbano_utm)"
   ]
  },
  {
   "cell_type": "markdown",
   "id": "3be16abc",
   "metadata": {},
   "source": [
    "## 2. Ajustar modelo kriging"
   ]
  },
  {
   "cell_type": "code",
   "execution_count": null,
   "id": "c61a470b",
   "metadata": {},
   "outputs": [],
   "source": [
    "kernel = create_kriging_kernel(constant_value=1.0, length_scale=1000.0, noise_level=0.1,length_scale_bounds= (1e-2, 1e3), noise_level_bounds=(1e-10, 1e3))"
   ]
  },
  {
   "cell_type": "markdown",
   "id": "0a2d83ce",
   "metadata": {},
   "source": [
    "## 3. Generar el modelo GaussianProcessRegressor\n"
   ]
  },
  {
   "cell_type": "code",
   "execution_count": null,
   "id": "08d6a29a",
   "metadata": {},
   "outputs": [],
   "source": [
    "gpr_model_kriging = create_gpr_model(kernel)"
   ]
  },
  {
   "cell_type": "code",
   "execution_count": null,
   "id": "b0676087",
   "metadata": {},
   "outputs": [],
   "source": [
    "gpr_kriging_fit = fit_gpr_model(gpr_model_kriging, coordinates_lp, centroids_lp)"
   ]
  },
  {
   "cell_type": "markdown",
   "id": "a3c340fa",
   "metadata": {},
   "source": [
    "## 4. Crear malla para interpolar\n"
   ]
  },
  {
   "cell_type": "code",
   "execution_count": null,
   "id": "66ca04cb",
   "metadata": {},
   "outputs": [],
   "source": [
    "grid_x, grid_y, grid_coords = interpolate_grid(bounds_lp, step=100)"
   ]
  },
  {
   "cell_type": "markdown",
   "id": "4dae0ab1",
   "metadata": {},
   "source": [
    "## 5. Predecir en la malla\n",
    "\n"
   ]
  },
  {
   "cell_type": "code",
   "execution_count": null,
   "id": "76486a26",
   "metadata": {},
   "outputs": [],
   "source": [
    "predict_grid_lp = predict_grid(gpr_kriging_fit, (grid_x, grid_y, grid_coords))"
   ]
  },
  {
   "cell_type": "markdown",
   "id": "a44aab9a",
   "metadata": {},
   "source": [
    "## 6. Convertir resultados a grillas 2D\n"
   ]
  },
  {
   "cell_type": "code",
   "execution_count": null,
   "id": "1870ab91",
   "metadata": {},
   "outputs": [],
   "source": [
    "grid_2d_lp = convert_to_2d_grid(predict_grid_lp, grid_x.shape)"
   ]
  },
  {
   "cell_type": "code",
   "execution_count": null,
   "id": "8812e99d",
   "metadata": {},
   "outputs": [],
   "source": [
    "plot_kriging_results_with_basemap(casco_urbano_utm, coordinates_lp, centroids_lp, bounds_lp, grid_x, grid_y, gpr_kriging_fit, grid_2d_lp)"
   ]
  },
  {
   "cell_type": "markdown",
   "id": "f3539618",
   "metadata": {},
   "source": [
    "# Etapa 6 : Exportar plot a GeoTIFF"
   ]
  },
  {
   "cell_type": "code",
   "execution_count": null,
   "id": "f27e36f1",
   "metadata": {},
   "outputs": [],
   "source": [
    "# Exportar superficie interpolada\n",
    "export_to_geotiff(grid_2d_lp, gdf_peligrosidad, gdf_la_plata_from_polygon, 'Densidad Poblacional Kriging', 32721)"
   ]
  },
  {
   "cell_type": "markdown",
   "id": "e83aadf7",
   "metadata": {},
   "source": [
    "## 1. Extraer grilla de datos"
   ]
  },
  {
   "cell_type": "code",
   "execution_count": null,
   "id": "08584dba",
   "metadata": {},
   "outputs": [],
   "source": [
    "#def extract_grid_from_tuple(grid_data: Tuple[np.ndarray]) -> np.ndarray:\n",
    "#    \n",
    "#    grid_array = grid_data[0]\n",
    "#    \n",
    "#    return grid_array.shape"
   ]
  },
  {
   "cell_type": "code",
   "execution_count": null,
   "id": "10b9c93c",
   "metadata": {},
   "outputs": [],
   "source": [
    "#grid_lp = extract_grid_from_tuple(grid_2d_lp)"
   ]
  },
  {
   "cell_type": "markdown",
   "id": "181e2bda",
   "metadata": {},
   "source": [
    "## 2. Preparar límites geoespaciales y transformación para raster"
   ]
  },
  {
   "cell_type": "code",
   "execution_count": null,
   "id": "cfaab46d",
   "metadata": {},
   "outputs": [],
   "source": [
    "#def prepare_geospatial_bounds(gdf: gpd.GeoDataFrame, target_crs: int) -> tuple:\n",
    "#    \n",
    "#    # Obtener límites en coordenadas proyectadas\n",
    "#    bounds_proj = gdf.total_bounds  # [xmin, ymin, xmax, ymax]\n",
    "#\n",
    "#    return bounds_proj"
   ]
  },
  {
   "cell_type": "code",
   "execution_count": null,
   "id": "63cbbe5a",
   "metadata": {},
   "outputs": [],
   "source": [
    "#geo_bounds_lp = prepare_geospatial_bounds(gdf_la_plata_from_polygon, 32721)"
   ]
  },
  {
   "cell_type": "code",
   "execution_count": null,
   "id": "d1e6e3c6",
   "metadata": {},
   "outputs": [],
   "source": [
    "#type(geo_bounds_lp)"
   ]
  },
  {
   "cell_type": "markdown",
   "id": "a2324283",
   "metadata": {},
   "source": [
    "## 3. Escribir un array de numpy como archivo GeoTIFF"
   ]
  },
  {
   "cell_type": "code",
   "execution_count": null,
   "id": "3bd1a07b",
   "metadata": {},
   "outputs": [],
   "source": [
    "#def write_geotiff(grid_array: np.ndarray, \n",
    "#                  bounds_proj:  Union[tuple, np.ndarray], \n",
    "#                  filename: str, \n",
    "#                  crs_epsg: int,\n",
    "#                  description: str) -> str:\n",
    "#    \n",
    "#    bounds_array = bounds_proj[0] if len(bounds_proj) > 0 else bounds_proj\n",
    "#\n",
    "#    height, width = grid_array.shape\n",
    "#    \n",
    "#    # Calcular la transformación georreferenciada\n",
    "#    transform = from_bounds(bounds_array[0], bounds_array[1], \n",
    "#                          bounds_array[2], bounds_array[3], \n",
    "#                          width, height)\n",
    "#    \n",
    "#    with rasterio.open(\n",
    "#        filename,\n",
    "#        'w',\n",
    "#        driver='GTiff',\n",
    "#        height=height,\n",
    "#        width=width,\n",
    "#        count=1,\n",
    "#        dtype=grid_array.dtype,\n",
    "#        crs=CRS.from_epsg(crs_epsg),\n",
    "#        transform=transform,\n",
    "#        compress='lzw'\n",
    "#    ) as dst:\n",
    "#        dst.write(grid_array, 1)\n",
    "#        dst.set_band_description(1, description)\n",
    "#    \n",
    "#    return filename"
   ]
  },
  {
   "cell_type": "code",
   "execution_count": null,
   "id": "ae73b0f2",
   "metadata": {},
   "outputs": [],
   "source": [
    "#write_geotiff(grid_lp,geo_bounds_lp,'kriging_densidad_poblacional.tif',32721,'Densidad Poblacional Kriging')"
   ]
  },
  {
   "cell_type": "markdown",
   "id": "94e80be5",
   "metadata": {},
   "source": [
    "---------------------------------"
   ]
  },
  {
   "cell_type": "code",
   "execution_count": null,
   "id": "0a8da351",
   "metadata": {},
   "outputs": [],
   "source": [
    "#Exportar una grilla de datos a formato GeoTIFF desde una tupla\n",
    "#def export_to_geotiff(grid_data: Tuple[np.ndarray], \n",
    "#                     gdf: gpd.GeoDataFrame,\n",
    "#                     gdf_2: gpd.GeoDataFrame,\n",
    "#                     filename: str,\n",
    "#                     crs_epsg: int = 32721):\n",
    "#    \n",
    "#    # Extraer el primer elemento (la grilla de datos)\n",
    "#    grid_array = grid_data[0]\n",
    "#\n",
    "#    # Convertir las coordenadas del polígono a un objeto de caja\n",
    "#    boxx = coordinates_to_box(city_bounds_coordinates)\n",
    "#\n",
    "#    #city_bounds_coordinates= get_bounds_xy_min_max(gdf)\n",
    "#\n",
    "#    #def get_bounds_xy_min_max(gdf: gpd.GeoDataFrame) -> Dict[str,float]:\n",
    "#    ## Extraer límites\n",
    "#    #minx, miny, maxx, maxy = gdf.total_bounds\n",
    "#    #return {\n",
    "#    #    \"x_min\": minx,\n",
    "#    #    \"y_min\": miny,\n",
    "#    #    \"x_max\": maxx,\n",
    "#    #    \"y_max\": maxy\n",
    "#    #}\n",
    "#\n",
    "#\n",
    "#\n",
    "#    # Usar el dataframe del polígono que forma las coordenadas de  La Plata (EOPSG:4326)\n",
    "#    gdf_2= gpd.GeoDataFrame({'geometry': [boxx]}, crs='EPSG:4326')\n",
    "#\n",
    "#    # Transformar al CRS del plot (EPSG:32721)\n",
    "#    gdf_2 = gdf_2.to_crs(epsg=32721)\n",
    "#\n",
    "#    # Obtener límites en coordenadas proyectadas\n",
    "#    bounds_proj = gdf_2.total_bounds  # [xmin, ymin, xmax, ymax]\n",
    "#    height, width = grid_array.shape\n",
    "#    \n",
    "#    # Calcula la transformación georreferenciada\n",
    "#    transform = from_bounds(bounds_proj[0], bounds_proj[1], bounds_proj[2], bounds_proj[3], width, height)\n",
    "#    \n",
    "#    with rasterio.open(\n",
    "#        filename,\n",
    "#        'w',\n",
    "#        driver='GTiff',\n",
    "#        height=height,\n",
    "#        width=width,\n",
    "#        count=1,\n",
    "#        dtype=grid_array.dtype,\n",
    "#        crs=CRS.from_epsg(crs_epsg),\n",
    "#        transform=transform,\n",
    "#        compress='lzw'\n",
    "#    ) as dst:\n",
    "#        dst.write(grid_array, 1)\n",
    "#        dst.set_band_description(1, 'Densidad Poblacional Kriging')"
   ]
  },
  {
   "cell_type": "code",
   "execution_count": null,
   "id": "f92491a3",
   "metadata": {},
   "outputs": [],
   "source": [
    "# 5. Pipeline principal\n",
    "#def run_kriging_pipeline(geodf, value_column, bounds, step=100):\n",
    "#    coords, values = prepare_data(geodf, value_column)\n",
    "#    model = fit_kriging(coords, values)\n",
    "#    grid_xx, grid_yy, z = interpolate_grid(model, bounds, step)\n",
    "#    plot_kriging_results(grid_xx, grid_yy, z, coords, values, bounds)"
   ]
  },
  {
   "cell_type": "code",
   "execution_count": null,
   "id": "75cb8a35",
   "metadata": {},
   "outputs": [],
   "source": []
  }
 ],
 "metadata": {
  "kernelspec": {
   "display_name": "Python 3",
   "language": "python",
   "name": "python3"
  },
  "language_info": {
   "codemirror_mode": {
    "name": "ipython",
    "version": 3
   },
   "file_extension": ".py",
   "mimetype": "text/x-python",
   "name": "python",
   "nbconvert_exporter": "python",
   "pygments_lexer": "ipython3",
   "version": "3.10.12"
  }
 },
 "nbformat": 4,
 "nbformat_minor": 5
}
