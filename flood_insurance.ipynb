{
 "cells": [
  {
   "cell_type": "code",
   "execution_count": 2,
   "id": "b198aec0",
   "metadata": {},
   "outputs": [],
   "source": [
    "import pandas as pd\n",
    "import geopandas as gpd"
   ]
  },
  {
   "cell_type": "code",
   "execution_count": null,
   "id": "0ca856b9",
   "metadata": {},
   "outputs": [
    {
     "name": "stdout",
     "output_type": "stream",
     "text": [
      "       Name                                        Description  \\\n",
      "0  La Plata  descripción: <br>name: La Plata <br>descriptio...   \n",
      "1  La Plata  descripción: <br>name: La Plata <br>descriptio...   \n",
      "2  La Plata  descripción: <br>name: La Plata <br>descriptio...   \n",
      "3  La Plata  descripción: <br>name: La Plata <br>descriptio...   \n",
      "4  La Plata  descripción: <br>name: La Plata <br>descriptio...   \n",
      "\n",
      "                                            geometry  \n",
      "0  MULTIPOLYGON Z (((-57.93986 -34.92733 0, -57.9...  \n",
      "1  MULTIPOLYGON Z (((-57.9475 -34.94511 0, -57.94...  \n",
      "2  MULTIPOLYGON Z (((-57.93726 -34.93996 0, -57.9...  \n",
      "3  MULTIPOLYGON Z (((-57.9535 -34.95246 0, -57.95...  \n",
      "4  POLYGON Z ((-57.93649 -34.93926 0, -57.93649 -...  \n"
     ]
    },
    {
     "name": "stderr",
     "output_type": "stream",
     "text": [
      "/home/andy/.local/lib/python3.10/site-packages/pyogrio/geopandas.py:275: UserWarning: More than one layer found in 'laplata_cascourbano.kml': 'La Plata' (default), 'La Plata (#2)', 'La Plata (#3)'. Specify layer parameter to avoid this warning.\n",
      "  result = read_func(\n"
     ]
    }
   ],
   "source": [
    "gdf = gpd.read_file(\"laplata_cascourbano.kml\", driver=\"KML\")\n",
    "print(gdf.head())"
   ]
  },
  {
   "cell_type": "code",
   "execution_count": 4,
   "id": "d52865cb",
   "metadata": {},
   "outputs": [],
   "source": [
    "# Convertir el archivo kml a geojson\n",
    "gdf.to_file(\"salida.geojson\", driver='GeoJSON')"
   ]
  },
  {
   "cell_type": "code",
   "execution_count": null,
   "id": "85763a02",
   "metadata": {},
   "outputs": [],
   "source": []
  }
 ],
 "metadata": {
  "kernelspec": {
   "display_name": "Python 3",
   "language": "python",
   "name": "python3"
  },
  "language_info": {
   "codemirror_mode": {
    "name": "ipython",
    "version": 3
   },
   "file_extension": ".py",
   "mimetype": "text/x-python",
   "name": "python",
   "nbconvert_exporter": "python",
   "pygments_lexer": "ipython3",
   "version": "3.10.12"
  }
 },
 "nbformat": 4,
 "nbformat_minor": 5
}
