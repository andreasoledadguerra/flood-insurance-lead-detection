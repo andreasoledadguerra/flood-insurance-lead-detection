{
 "cells": [
  {
   "cell_type": "code",
   "execution_count": 1,
   "id": "b198aec0",
   "metadata": {},
   "outputs": [],
   "source": [
    "import pandas as pd\n",
    "import geopandas as gpd\n",
    "import fiona\n",
    "import matplotlib.pyplot as plt\n",
    "import numpy as np\n",
    "import contextily as ctx\n",
    "import rasterio\n",
    "from rasterio.crs import CRS\n",
    "from rasterio.transform import from_bounds\n",
    "from shapely.geometry import Point, Polygon, MultiPolygon,box\n",
    "from scipy.spatial import cKDTree\n",
    "from sklearn.gaussian_process import GaussianProcessRegressor\n",
    "from sklearn.gaussian_process.kernels import RBF,WhiteKernel,ConstantKernel\n"
   ]
  },
  {
   "cell_type": "markdown",
   "id": "483e96eb",
   "metadata": {},
   "source": [
    "# Etapa 1 : Obtener datos .kml de la ciudad de La Plata."
   ]
  },
  {
   "cell_type": "code",
   "execution_count": 2,
   "id": "0ca856b9",
   "metadata": {},
   "outputs": [
    {
     "name": "stderr",
     "output_type": "stream",
     "text": [
      "/home/andy/.local/lib/python3.10/site-packages/pyogrio/geopandas.py:275: UserWarning: More than one layer found in 'laplata_cascourbano.kml': 'La Plata' (default), 'La Plata (#2)', 'La Plata (#3)'. Specify layer parameter to avoid this warning.\n",
      "  result = read_func(\n"
     ]
    },
    {
     "data": {
      "text/html": [
       "<div>\n",
       "<style scoped>\n",
       "    .dataframe tbody tr th:only-of-type {\n",
       "        vertical-align: middle;\n",
       "    }\n",
       "\n",
       "    .dataframe tbody tr th {\n",
       "        vertical-align: top;\n",
       "    }\n",
       "\n",
       "    .dataframe thead th {\n",
       "        text-align: right;\n",
       "    }\n",
       "</style>\n",
       "<table border=\"1\" class=\"dataframe\">\n",
       "  <thead>\n",
       "    <tr style=\"text-align: right;\">\n",
       "      <th></th>\n",
       "      <th>Name</th>\n",
       "      <th>Description</th>\n",
       "      <th>geometry</th>\n",
       "    </tr>\n",
       "  </thead>\n",
       "  <tbody>\n",
       "    <tr>\n",
       "      <th>0</th>\n",
       "      <td>La Plata</td>\n",
       "      <td>descripción: &lt;br&gt;name: La Plata &lt;br&gt;descriptio...</td>\n",
       "      <td>MULTIPOLYGON Z (((-57.93986 -34.92733 0, -57.9...</td>\n",
       "    </tr>\n",
       "    <tr>\n",
       "      <th>1</th>\n",
       "      <td>La Plata</td>\n",
       "      <td>descripción: &lt;br&gt;name: La Plata &lt;br&gt;descriptio...</td>\n",
       "      <td>MULTIPOLYGON Z (((-57.9475 -34.94511 0, -57.94...</td>\n",
       "    </tr>\n",
       "    <tr>\n",
       "      <th>2</th>\n",
       "      <td>La Plata</td>\n",
       "      <td>descripción: &lt;br&gt;name: La Plata &lt;br&gt;descriptio...</td>\n",
       "      <td>MULTIPOLYGON Z (((-57.93726 -34.93996 0, -57.9...</td>\n",
       "    </tr>\n",
       "    <tr>\n",
       "      <th>3</th>\n",
       "      <td>La Plata</td>\n",
       "      <td>descripción: &lt;br&gt;name: La Plata &lt;br&gt;descriptio...</td>\n",
       "      <td>MULTIPOLYGON Z (((-57.9535 -34.95246 0, -57.95...</td>\n",
       "    </tr>\n",
       "    <tr>\n",
       "      <th>4</th>\n",
       "      <td>La Plata</td>\n",
       "      <td>descripción: &lt;br&gt;name: La Plata &lt;br&gt;descriptio...</td>\n",
       "      <td>POLYGON Z ((-57.93649 -34.93926 0, -57.93649 -...</td>\n",
       "    </tr>\n",
       "    <tr>\n",
       "      <th>5</th>\n",
       "      <td>La Plata</td>\n",
       "      <td>descripción: &lt;br&gt;name: La Plata &lt;br&gt;descriptio...</td>\n",
       "      <td>GEOMETRYCOLLECTION Z (LINESTRING Z (-57.94451 ...</td>\n",
       "    </tr>\n",
       "  </tbody>\n",
       "</table>\n",
       "</div>"
      ],
      "text/plain": [
       "       Name                                        Description  \\\n",
       "0  La Plata  descripción: <br>name: La Plata <br>descriptio...   \n",
       "1  La Plata  descripción: <br>name: La Plata <br>descriptio...   \n",
       "2  La Plata  descripción: <br>name: La Plata <br>descriptio...   \n",
       "3  La Plata  descripción: <br>name: La Plata <br>descriptio...   \n",
       "4  La Plata  descripción: <br>name: La Plata <br>descriptio...   \n",
       "5  La Plata  descripción: <br>name: La Plata <br>descriptio...   \n",
       "\n",
       "                                            geometry  \n",
       "0  MULTIPOLYGON Z (((-57.93986 -34.92733 0, -57.9...  \n",
       "1  MULTIPOLYGON Z (((-57.9475 -34.94511 0, -57.94...  \n",
       "2  MULTIPOLYGON Z (((-57.93726 -34.93996 0, -57.9...  \n",
       "3  MULTIPOLYGON Z (((-57.9535 -34.95246 0, -57.95...  \n",
       "4  POLYGON Z ((-57.93649 -34.93926 0, -57.93649 -...  \n",
       "5  GEOMETRYCOLLECTION Z (LINESTRING Z (-57.94451 ...  "
      ]
     },
     "metadata": {},
     "output_type": "display_data"
    }
   ],
   "source": [
    "gdf = gpd.read_file(\"laplata_cascourbano.kml\", driver=\"KML\")\n",
    "display(gdf)"
   ]
  },
  {
   "cell_type": "code",
   "execution_count": 3,
   "id": "85763a02",
   "metadata": {},
   "outputs": [
    {
     "name": "stdout",
     "output_type": "stream",
     "text": [
      "La Plata\n",
      "La Plata (#2)\n",
      "La Plata (#3)\n"
     ]
    }
   ],
   "source": [
    "# Chequear cuántas capas tiene el archivo kml\n",
    "for layer in fiona.listlayers(\"laplata_cascourbano.kml\"):\n",
    "    print(layer)"
   ]
  },
  {
   "cell_type": "code",
   "execution_count": 4,
   "id": "d52865cb",
   "metadata": {},
   "outputs": [],
   "source": [
    "# Convertir el archivo kml a geojson\n",
    "gdf.to_file(\"salida.geojson\", driver='GeoJSON')"
   ]
  },
  {
   "cell_type": "code",
   "execution_count": 5,
   "id": "d92a1664",
   "metadata": {},
   "outputs": [
    {
     "data": {
      "text/plain": [
       "<AxesSubplot:>"
      ]
     },
     "execution_count": 5,
     "metadata": {},
     "output_type": "execute_result"
    },
    {
     "data": {
      "image/png": "[encoded data removed]",
      "text/plain": [
       "<Figure size 640x480 with 1 Axes>"
      ]
     },
     "metadata": {},
     "output_type": "display_data"
    }
   ],
   "source": [
    "# Plotear el archivo geojson\n",
    "gdf = gpd.read_file(\"salida.geojson\")\n",
    "gdf.plot()"
   ]
  },
  {
   "cell_type": "markdown",
   "id": "ee7cb6d5",
   "metadata": {},
   "source": [
    "# Etapa 2: Obtener las coordenadas de los puntos de la ciudad\n"
   ]
  },
  {
   "cell_type": "code",
   "execution_count": 6,
   "id": "36a9dc9d",
   "metadata": {},
   "outputs": [],
   "source": [
    "# Extraer los límites  del área de La Plata\n",
    "\n",
    "bounds = gdf.total_bounds  # Devuelve [minx, miny, maxx, maxy]\n",
    "\n",
    "# Extraer las coordenadas de los puntos de la ciudad\n",
    "west_longitude = bounds[0]   # Minimum X (westernmost)\n",
    "south_latitude = bounds[1]   # Minimum Y (southernmost) \n",
    "east_longitude = bounds[2]   # Maximum X (easternmost)\n",
    "north_latitude = bounds[3]   # Maximum Y (northernmost)\n"
   ]
  },
  {
   "cell_type": "code",
   "execution_count": 7,
   "id": "836e1801",
   "metadata": {},
   "outputs": [],
   "source": [
    "# Crear diccionario con las coordenadas de las esquinas de la ciudad\n",
    "bounds = {\n",
    "    'x_min': west_longitude,\n",
    "   'x_max': east_longitude, \n",
    "    'y_min': south_latitude,\n",
    "    'y_max': north_latitude\n",
    "}\n"
   ]
  },
  {
   "cell_type": "code",
   "execution_count": 8,
   "id": "24bad47c",
   "metadata": {},
   "outputs": [
    {
     "name": "stdout",
     "output_type": "stream",
     "text": [
      "x_min: -57.992667\n",
      "x_max: -57.913120\n",
      "y_min: -34.953843\n",
      "y_max: -34.887489\n"
     ]
    }
   ],
   "source": [
    "# Imprimir las coordenadas de las esquinas\n",
    "for corner, coord in bounds.items():\n",
    "    print(f\"{corner}: {coord:.6f}\")"
   ]
  },
  {
   "cell_type": "markdown",
   "id": "cef5952c",
   "metadata": {},
   "source": [
    "# Etapa 3 : Obtener datos de densidad poblacional de la ciudad de La Plata."
   ]
  },
  {
   "cell_type": "code",
   "execution_count": 9,
   "id": "35397983",
   "metadata": {},
   "outputs": [],
   "source": [
    "# Dataset de densidad poblacional Argentina 2020 (1km resolución, ~4M puntos)\n",
    "df_arg = pd.read_csv(\"arg_pd_2020_1km_ASCII_XYZ.csv\")"
   ]
  },
  {
   "cell_type": "code",
   "execution_count": 10,
   "id": "7b8e0b6d",
   "metadata": {},
   "outputs": [],
   "source": [
    "# Function to extract data from a specific city in the complete dataset\n",
    "def extract_city_data(df: pd.DataFrame, city_name: str, bounds_dict: dict) -> pd.DataFrame:\n",
    "    \"\"\"\n",
    "    Extract data for a specific city from the dataset.\n",
    "    \n",
    "    Args:\n",
    "        city_name (str): Name of the city to extract data for\n",
    "        bounds_dict (dict): Dictionary containing city boundaries with keys:\n",
    "                           'x_min', 'x_max', 'y_min', 'y_max'\n",
    "    \n",
    "    Returns:\n",
    "        pd.DataFrame: Filtered data for the specified city\n",
    "    \"\"\"\n",
    "    \n",
    "    # Filter data based on city boundaries\n",
    "    city_data = df[\n",
    "        (df['X'] >= bounds_dict['x_min']) & \n",
    "        (df['X'] <= bounds_dict['x_max']) & \n",
    "        (df['Y'] >= bounds_dict['y_min']) & \n",
    "        (df['Y'] <= bounds_dict['y_max'])\n",
    "    ]\n",
    "    \n",
    "    # Save filtered data to CSV file\n",
    "    output_file = f\"{city_name.lower().replace(' ', '_')}_population_2020.csv\"\n",
    "    city_data.to_csv(output_file, index=False)\n",
    "    \n",
    "    print(f\"Extracted data: {len(city_data)} rows for {city_name}\")\n",
    "    \n",
    "    return city_data\n"
   ]
  },
  {
   "cell_type": "code",
   "execution_count": 11,
   "id": "e048a483",
   "metadata": {},
   "outputs": [
    {
     "name": "stdout",
     "output_type": "stream",
     "text": [
      "Extracted data: 80 rows for La Plata\n"
     ]
    }
   ],
   "source": [
    "# Extract data for La Plata\n",
    "la_plata_data = extract_city_data(df_arg, 'La Plata', bounds)"
   ]
  },
  {
   "cell_type": "code",
   "execution_count": 12,
   "id": "4f7f8b26",
   "metadata": {},
   "outputs": [
    {
     "data": {
      "text/html": [
       "<div>\n",
       "<style scoped>\n",
       "    .dataframe tbody tr th:only-of-type {\n",
       "        vertical-align: middle;\n",
       "    }\n",
       "\n",
       "    .dataframe tbody tr th {\n",
       "        vertical-align: top;\n",
       "    }\n",
       "\n",
       "    .dataframe thead th {\n",
       "        text-align: right;\n",
       "    }\n",
       "</style>\n",
       "<table border=\"1\" class=\"dataframe\">\n",
       "  <thead>\n",
       "    <tr style=\"text-align: right;\">\n",
       "      <th></th>\n",
       "      <th>X</th>\n",
       "      <th>Y</th>\n",
       "      <th>Z</th>\n",
       "    </tr>\n",
       "  </thead>\n",
       "  <tbody>\n",
       "    <tr>\n",
       "      <th>2005769</th>\n",
       "      <td>-57.988750</td>\n",
       "      <td>-34.887916</td>\n",
       "      <td>4390.450195</td>\n",
       "    </tr>\n",
       "    <tr>\n",
       "      <th>2005770</th>\n",
       "      <td>-57.980416</td>\n",
       "      <td>-34.887916</td>\n",
       "      <td>4219.690918</td>\n",
       "    </tr>\n",
       "    <tr>\n",
       "      <th>2005771</th>\n",
       "      <td>-57.972083</td>\n",
       "      <td>-34.887916</td>\n",
       "      <td>3577.566895</td>\n",
       "    </tr>\n",
       "    <tr>\n",
       "      <th>2005772</th>\n",
       "      <td>-57.963750</td>\n",
       "      <td>-34.887916</td>\n",
       "      <td>4450.521973</td>\n",
       "    </tr>\n",
       "    <tr>\n",
       "      <th>2005773</th>\n",
       "      <td>-57.955416</td>\n",
       "      <td>-34.887916</td>\n",
       "      <td>3841.554199</td>\n",
       "    </tr>\n",
       "  </tbody>\n",
       "</table>\n",
       "</div>"
      ],
      "text/plain": [
       "                 X          Y            Z\n",
       "2005769 -57.988750 -34.887916  4390.450195\n",
       "2005770 -57.980416 -34.887916  4219.690918\n",
       "2005771 -57.972083 -34.887916  3577.566895\n",
       "2005772 -57.963750 -34.887916  4450.521973\n",
       "2005773 -57.955416 -34.887916  3841.554199"
      ]
     },
     "execution_count": 12,
     "metadata": {},
     "output_type": "execute_result"
    }
   ],
   "source": [
    "la_plata_data.head()\n"
   ]
  },
  {
   "cell_type": "code",
   "execution_count": 13,
   "id": "91b7d8ca",
   "metadata": {},
   "outputs": [],
   "source": [
    "bbox = box(\n",
    "    bounds['x_min'], bounds['y_min'],\n",
    "    bounds['x_max'], bounds['y_max']\n",
    ")"
   ]
  },
  {
   "cell_type": "code",
   "execution_count": 14,
   "id": "15ed6064",
   "metadata": {},
   "outputs": [],
   "source": [
    "# Create GeoDataFrame from the bounding box\n",
    "gdf_la_plata = gpd.GeoDataFrame({'geometry': [bbox]}, crs='EPSG:4326')\n",
    "\n",
    "# Display the result\n",
    "gdf_la_plata.to_file(\"la_plata_bounds.geojson\", driver='GeoJSON')"
   ]
  },
  {
   "cell_type": "markdown",
   "id": "83d1b690",
   "metadata": {},
   "source": [
    "# Etapa 4 : Transformar datos de densidad poblacional de la ciudad de La Plata."
   ]
  },
  {
   "cell_type": "code",
   "execution_count": 15,
   "id": "88bbe212",
   "metadata": {},
   "outputs": [],
   "source": [
    "# Leer el archivo CSV de densidad de población de La Plata\n",
    "df = pd.read_csv('la_plata_population_2020.csv')\n",
    "    \n",
    "# Crear geometría de puntos usando X,Y como longitud,latitud\n",
    "geometry = [Point(xy) for xy in zip(df['X'], df['Y'])]\n",
    "    "
   ]
  },
  {
   "cell_type": "code",
   "execution_count": 16,
   "id": "846705a8",
   "metadata": {},
   "outputs": [
    {
     "data": {
      "text/html": [
       "<div>\n",
       "<style scoped>\n",
       "    .dataframe tbody tr th:only-of-type {\n",
       "        vertical-align: middle;\n",
       "    }\n",
       "\n",
       "    .dataframe tbody tr th {\n",
       "        vertical-align: top;\n",
       "    }\n",
       "\n",
       "    .dataframe thead th {\n",
       "        text-align: right;\n",
       "    }\n",
       "</style>\n",
       "<table border=\"1\" class=\"dataframe\">\n",
       "  <thead>\n",
       "    <tr style=\"text-align: right;\">\n",
       "      <th></th>\n",
       "      <th>X</th>\n",
       "      <th>Y</th>\n",
       "      <th>Z</th>\n",
       "      <th>geometry</th>\n",
       "      <th>densidad_poblacional_lp</th>\n",
       "    </tr>\n",
       "  </thead>\n",
       "  <tbody>\n",
       "    <tr>\n",
       "      <th>0</th>\n",
       "      <td>-57.988750</td>\n",
       "      <td>-34.887916</td>\n",
       "      <td>4390.450195</td>\n",
       "      <td>POINT (-57.98875 -34.88792)</td>\n",
       "      <td>4390.450195</td>\n",
       "    </tr>\n",
       "    <tr>\n",
       "      <th>1</th>\n",
       "      <td>-57.980416</td>\n",
       "      <td>-34.887916</td>\n",
       "      <td>4219.690918</td>\n",
       "      <td>POINT (-57.98042 -34.88792)</td>\n",
       "      <td>4219.690918</td>\n",
       "    </tr>\n",
       "    <tr>\n",
       "      <th>2</th>\n",
       "      <td>-57.972083</td>\n",
       "      <td>-34.887916</td>\n",
       "      <td>3577.566895</td>\n",
       "      <td>POINT (-57.97208 -34.88792)</td>\n",
       "      <td>3577.566895</td>\n",
       "    </tr>\n",
       "    <tr>\n",
       "      <th>3</th>\n",
       "      <td>-57.963750</td>\n",
       "      <td>-34.887916</td>\n",
       "      <td>4450.521973</td>\n",
       "      <td>POINT (-57.96375 -34.88792)</td>\n",
       "      <td>4450.521973</td>\n",
       "    </tr>\n",
       "    <tr>\n",
       "      <th>4</th>\n",
       "      <td>-57.955416</td>\n",
       "      <td>-34.887916</td>\n",
       "      <td>3841.554199</td>\n",
       "      <td>POINT (-57.95542 -34.88792)</td>\n",
       "      <td>3841.554199</td>\n",
       "    </tr>\n",
       "    <tr>\n",
       "      <th>...</th>\n",
       "      <td>...</td>\n",
       "      <td>...</td>\n",
       "      <td>...</td>\n",
       "      <td>...</td>\n",
       "      <td>...</td>\n",
       "    </tr>\n",
       "    <tr>\n",
       "      <th>75</th>\n",
       "      <td>-57.947083</td>\n",
       "      <td>-34.946250</td>\n",
       "      <td>4543.715820</td>\n",
       "      <td>POINT (-57.94708 -34.94625)</td>\n",
       "      <td>4543.715820</td>\n",
       "    </tr>\n",
       "    <tr>\n",
       "      <th>76</th>\n",
       "      <td>-57.938750</td>\n",
       "      <td>-34.946250</td>\n",
       "      <td>4086.931885</td>\n",
       "      <td>POINT (-57.93875 -34.94625)</td>\n",
       "      <td>4086.931885</td>\n",
       "    </tr>\n",
       "    <tr>\n",
       "      <th>77</th>\n",
       "      <td>-57.930416</td>\n",
       "      <td>-34.946250</td>\n",
       "      <td>3947.445801</td>\n",
       "      <td>POINT (-57.93042 -34.94625)</td>\n",
       "      <td>3947.445801</td>\n",
       "    </tr>\n",
       "    <tr>\n",
       "      <th>78</th>\n",
       "      <td>-57.922083</td>\n",
       "      <td>-34.946250</td>\n",
       "      <td>3537.828613</td>\n",
       "      <td>POINT (-57.92208 -34.94625)</td>\n",
       "      <td>3537.828613</td>\n",
       "    </tr>\n",
       "    <tr>\n",
       "      <th>79</th>\n",
       "      <td>-57.913750</td>\n",
       "      <td>-34.946250</td>\n",
       "      <td>3521.489746</td>\n",
       "      <td>POINT (-57.91375 -34.94625)</td>\n",
       "      <td>3521.489746</td>\n",
       "    </tr>\n",
       "  </tbody>\n",
       "</table>\n",
       "<p>80 rows × 5 columns</p>\n",
       "</div>"
      ],
      "text/plain": [
       "            X          Y            Z                     geometry  \\\n",
       "0  -57.988750 -34.887916  4390.450195  POINT (-57.98875 -34.88792)   \n",
       "1  -57.980416 -34.887916  4219.690918  POINT (-57.98042 -34.88792)   \n",
       "2  -57.972083 -34.887916  3577.566895  POINT (-57.97208 -34.88792)   \n",
       "3  -57.963750 -34.887916  4450.521973  POINT (-57.96375 -34.88792)   \n",
       "4  -57.955416 -34.887916  3841.554199  POINT (-57.95542 -34.88792)   \n",
       "..        ...        ...          ...                          ...   \n",
       "75 -57.947083 -34.946250  4543.715820  POINT (-57.94708 -34.94625)   \n",
       "76 -57.938750 -34.946250  4086.931885  POINT (-57.93875 -34.94625)   \n",
       "77 -57.930416 -34.946250  3947.445801  POINT (-57.93042 -34.94625)   \n",
       "78 -57.922083 -34.946250  3537.828613  POINT (-57.92208 -34.94625)   \n",
       "79 -57.913750 -34.946250  3521.489746  POINT (-57.91375 -34.94625)   \n",
       "\n",
       "    densidad_poblacional_lp  \n",
       "0               4390.450195  \n",
       "1               4219.690918  \n",
       "2               3577.566895  \n",
       "3               4450.521973  \n",
       "4               3841.554199  \n",
       "..                      ...  \n",
       "75              4543.715820  \n",
       "76              4086.931885  \n",
       "77              3947.445801  \n",
       "78              3537.828613  \n",
       "79              3521.489746  \n",
       "\n",
       "[80 rows x 5 columns]"
      ]
     },
     "execution_count": 16,
     "metadata": {},
     "output_type": "execute_result"
    }
   ],
   "source": [
    "# Crear GeoDataFrame\n",
    "CRS_4326 = 4326\n",
    "gdf_densidad= gpd.GeoDataFrame(df, geometry=geometry, crs=CRS_4326)\n",
    "    \n",
    "# Agregar columna de densidad con nombre descriptivo\n",
    "gdf_densidad['densidad_poblacional_lp'] = gdf_densidad['Z']\n",
    "gdf_densidad\n"
   ]
  },
  {
   "cell_type": "code",
   "execution_count": 17,
   "id": "3440d38d",
   "metadata": {},
   "outputs": [],
   "source": [
    "def export_to_geojson(gdf_densidad: gpd.GeoDataFrame, output_path:str = \"la_plata_densidad.geojson\") -> str:\n",
    "        \"\"\"\n",
    "    Exporta un GeoDataFrame a formato GeoJSON\n",
    "    \n",
    "    Args:\n",
    "        gdf_densidad: GeoDataFrame con datos de densidad\n",
    "        output_path: Ruta de salida (default: \"la_plata_densidad.geojson\")\n",
    "    \n",
    "    Returns:\n",
    "        str: Ruta del archivo exportado\n",
    "    \"\"\"\n",
    "        \n",
    "        gdf_densidad.to_file(output_path, driver='GeoJSON')\n",
    "        print(f\"Archivo exportado: {output_path}\")\n",
    "        return output_path"
   ]
  },
  {
   "cell_type": "code",
   "execution_count": 18,
   "id": "75c543c4",
   "metadata": {},
   "outputs": [
    {
     "name": "stdout",
     "output_type": "stream",
     "text": [
      "Archivo exportado: la_plata_densidad.geojson\n"
     ]
    },
    {
     "data": {
      "text/plain": [
       "'la_plata_densidad.geojson'"
      ]
     },
     "execution_count": 18,
     "metadata": {},
     "output_type": "execute_result"
    }
   ],
   "source": [
    "export_to_geojson(gdf_densidad)"
   ]
  },
  {
   "cell_type": "code",
   "execution_count": 19,
   "id": "a3367c62",
   "metadata": {},
   "outputs": [
    {
     "data": {
      "image/png": "[encoded data removed]",
      "text/plain": [
       "<Figure size 1000x1000 with 2 Axes>"
      ]
     },
     "metadata": {},
     "output_type": "display_data"
    }
   ],
   "source": [
    "# Visualización de la densidad poblacional de La Plata\n",
    "fig, axes = plt.subplots(figsize=(10, 10))\n",
    "\n",
    "# Gráfico de dispersión geográfica\n",
    "scatter = axes.scatter(\n",
    "    gdf_densidad['X'], gdf_densidad['Y'], c=gdf_densidad['Z'],\n",
    "    cmap='inferno', alpha=0.6, s=10\n",
    ")\n",
    "axes.set_xlabel('Longitud')\n",
    "axes.set_ylabel('Latitud')\n",
    "axes.set_title('Distribución Geográfica de Densidad Poblacional de La Plata')\n",
    "\n",
    "# Ajustar límites del gráfico según los límites de La Plata\n",
    "axes.set_xlim(bounds['x_min'], bounds['x_max'])\n",
    "axes.set_ylim(bounds['y_min'], bounds['y_max'])\n",
    "\n",
    "\n",
    "plt.colorbar(scatter, ax=axes, label='Densidad')\n",
    "plt.tight_layout()\n",
    "plt.savefig('densidad_la_plata.png', dpi=300, bbox_inches='tight')\n",
    "plt.show()"
   ]
  },
  {
   "cell_type": "code",
   "execution_count": null,
   "id": "88c72973",
   "metadata": {},
   "outputs": [],
   "source": [
    "def clip_density_to_urban_area(gdf_density: gpd.GeoDataFrame, gdf_geographical: gpd.GeoDataFrame) -> gpd.GeoDataFrame: \n",
    "    \"\"\"\n",
    "    Recorta los puntos de densidad que caen dentro del casco urbano de un límite geográfico dado.\n",
    "    \n",
    "    Args:\n",
    "        gdf_density: GeoDataFrame con datos de densidad\n",
    "        gdf_geographical: GeoDataFrame con límites geográficos\n",
    "\n",
    "    Returns:\n",
    "        gpd.GeoDataFrame: GeoDataFrame recortado a la zona urbana\n",
    "    \"\"\"\n",
    "    # Usar uniones espaciales para mantener solo puntos dentro del casco urbano\n",
    "    points_in_casco = gpd.sjoin(gdf_density, gdf_geographical, how='inner', predicate='intersects')\n",
    "    \n",
    "    # Limpiar columnas duplicadas del join \n",
    "    points_in_casco = points_in_casco.drop(columns=[col for col in points_in_casco.columns if col.endswith('_right')]) \n",
    "    \n",
    "    return points_in_casco"
   ]
  },
  {
   "cell_type": "code",
   "execution_count": null,
   "id": "dff5b005",
   "metadata": {},
   "outputs": [],
   "source": [
    "casco_urbano = clip_density_to_urban_area(gdf_densidad, gdf_geographical= gdf)"
   ]
  },
  {
   "cell_type": "code",
   "execution_count": null,
   "id": "3e7b057b",
   "metadata": {},
   "outputs": [],
   "source": [
    "casco_urbano"
   ]
  },
  {
   "cell_type": "code",
   "execution_count": null,
   "id": "4d406bcf",
   "metadata": {},
   "outputs": [],
   "source": [
    "# Convertir a Web Mercator (sist. de proyección cartográfica EPSG 3857)\n",
    "casco_utm = casco_urbano.to_crs(epsg=3857)"
   ]
  },
  {
   "cell_type": "code",
   "execution_count": null,
   "id": "1a77024e",
   "metadata": {},
   "outputs": [],
   "source": [
    "# Plotear usando un mapa base más clara y con mayor contraste\n",
    "fig, ax = plt.subplots(figsize=(10, 10))\n",
    "\n",
    "casco_utm.plot(column='densidad_poblacional_lp', \n",
    "               cmap='viridis',  \n",
    "               alpha=0.8,    \n",
    "               edgecolor='black',\n",
    "               linewidth=2,\n",
    "               ax=ax,\n",
    "               legend=True,\n",
    "               legend_kwds={'shrink': 1.0})\n",
    "\n",
    "# Mapa base\n",
    "ctx.add_basemap(ax, crs=casco_utm.crs.to_string(), \n",
    "                source=ctx.providers.CartoDB.Positron,  # Fondo más claro\n",
    "                alpha=0.7)  \n",
    "\n",
    "ax.set_title('Densidad Poblacional - Casco Urbano La Plata', fontsize=16)\n",
    "ax.axis('on')\n",
    "plt.tight_layout()\n",
    "plt.show()"
   ]
  },
  {
   "cell_type": "code",
   "execution_count": null,
   "id": "f7f03afe",
   "metadata": {},
   "outputs": [],
   "source": [
    "# Visualización de la densidad poblacional de La Plata usando kriging\n",
    "\n",
    "# Extraer coordenadas de los centroides,y valores desde el GeoDataFrame\n",
    "coords =np.array([[point.x, point.y] for point in casco_utm.geometry.centroid]) \n",
    "values_density = casco_urbano['densidad_poblacional_lp'].values\n",
    "\n",
    "print(f\"Puntos de datos: {len(coords)}\")    \n",
    "print(f\"Rango de valores: {values_density.min():.2f} - {values_density.max():.2f}\")\n",
    "\n",
    "# Crear grid de puntos para interpolación\n",
    "bounds_casco_lp = casco_utm.total_bounds\n",
    "grid_x, grid_y = np.mgrid[bounds_casco_lp[0]:bounds_casco_lp[2]:150j, bounds_casco_lp[1]:bounds_casco_lp[3]:150j]\n",
    "grid_coords = np.column_stack([grid_x.ravel(), grid_y.ravel()])\n",
    "\n",
    "#Definir kernel para el modelo de kriging\n",
    "kernel = (ConstantKernel(1.0) * RBF(length_scale=1000.0) + \n",
    "          WhiteKernel(noise_level=0.1, noise_level_bounds=(1e-10, 1e3)))\n",
    "\n",
    "# Crear modelo de kriging\n",
    "gpr = GaussianProcessRegressor(kernel=kernel,\n",
    "                                n_restarts_optimizer=10,\n",
    "                                alpha=1e-04,\n",
    "                                normalize_y=True)\n",
    "\n",
    "# Entrenar el modelo\n",
    "gpr.fit(coords, values_density)\n",
    "\n",
    "#Predecir en el grid\n",
    "grid_2_kriging, pred_std = gpr.predict(grid_coords, return_std=True)\n",
    "grid_z = grid_2_kriging.reshape(grid_x.shape)\n",
    "grid_uncertainty = pred_std.reshape(grid_x.shape)\n",
    "\n",
    "# Visualización de la superficie Kriging interpolada\n",
    "fig, ax = plt.subplots(figsize=(10, 10))\n",
    "\n",
    "# Plotear superficie Kriging interpolada\n",
    "contour = ax.contourf(grid_x, grid_y, grid_z, levels=30, cmap='viridis', alpha=0.7)\n",
    "\n",
    "# Plotear los polígonos originales con bordes\n",
    "casco_utm.plot(column='densidad_poblacional_lp', \n",
    "               cmap='viridis',\n",
    "               alpha=0.5,\n",
    "               edgecolor='black',\n",
    "               linewidth=1.0,\n",
    "               ax=ax)\n",
    "\n",
    "# Plotear los puntos centroides\n",
    "scatter = ax.scatter(coords[:, 0], coords[:, 1],\n",
    "                    c=values_density,\n",
    "                    cmap='viridis',\n",
    "                    s=30,\n",
    "                    edgecolors='black',\n",
    "                    linewidths=1,\n",
    "                    zorder=5)\n",
    "\n",
    "#Mapa base más sutil\n",
    "ctx.add_basemap(ax, crs=casco_utm.crs.to_string(),\n",
    "               source=ctx.providers.CartoDB.Positron,\n",
    "               alpha = 0.9)\n",
    "\n",
    "# Agregar colorbar para el scatter\n",
    "plt.colorbar(scatter, ax=ax, label='Densidad poblacional',shrink=0.7, aspect=25)\n",
    "\n",
    "# Agregar título y etiquetas\n",
    "ax.set_title('Interpolación Kriging - Densidad Poblacional La Plata')\n",
    "ax.set_xlabel('X (UTM)')\n",
    "ax.set_ylabel('Y (UTM)')\n",
    "\n",
    "plt.tight_layout()\n",
    "plt.show()"
   ]
  },
  {
   "cell_type": "code",
   "execution_count": null,
   "id": "080adb80",
   "metadata": {},
   "outputs": [],
   "source": [
    "def export_to_geotiff(grid_data: np.ndarray, gdf: gpd.GeoDataFrame, filename: str, crs_epsg: int = 3857):\n",
    "    \"\"\"\n",
    "    Exporta una grilla (raster 2D) a un archivo GeoTIFF usando los límites geográficos de un GeoDataFrame.\n",
    "    \n",
    "    Parámetros:\n",
    "    - grid_data: np.ndarray 2D, la grilla interpolada (como grid_z)\n",
    "    - gdf: GeoDataFrame con CRS definido\n",
    "    - filename: str, nombre de salida\n",
    "    - crs_epsg: entero del sistema de coordenadas (ej. 3857)\n",
    "    \"\"\"\n",
    "    bounds = gdf.total_bounds  # [minx, miny, maxx, maxy]\n",
    "    height, width = grid_data.shape\n",
    "\n",
    "    # Calcula la transformación georreferenciada\n",
    "    transform = from_bounds(bounds[0], bounds[1], bounds[2], bounds[3], width, height)\n",
    "\n",
    "    with rasterio.open(\n",
    "        filename,\n",
    "        'w',\n",
    "        driver='GTiff',\n",
    "        height=height,\n",
    "        width=width,\n",
    "        count=1,\n",
    "        dtype=grid_data.dtype,\n",
    "        crs=CRS.from_epsg(crs_epsg),\n",
    "        transform=transform,\n",
    "        compress='lzw'\n",
    "    ) as dst:\n",
    "        dst.write(grid_data, 1)\n",
    "        dst.set_band_description(1, 'Densidad Poblacional Kriging')\n",
    "\n",
    "    print(f\"Archivo exportado correctamente: {filename}\")\n"
   ]
  },
  {
   "cell_type": "code",
   "execution_count": null,
   "id": "f27e36f1",
   "metadata": {},
   "outputs": [],
   "source": [
    "# Exportar superficie interpolada\n",
    "export_to_geotiff(grid_z, casco_utm, 'kriging_densidad_poblacional.tif', 3857)"
   ]
  },
  {
   "cell_type": "markdown",
   "id": "0f418dfc",
   "metadata": {},
   "source": [
    "# Etapa 5 : superposición de mapas de densidad y peligrosidad de inundación de la ciudad de La Plata (QGIS)."
   ]
  }
 ],
 "metadata": {
  "kernelspec": {
   "display_name": "Python 3",
   "language": "python",
   "name": "python3"
  },
  "language_info": {
   "codemirror_mode": {
    "name": "ipython",
    "version": 3
   },
   "file_extension": ".py",
   "mimetype": "text/x-python",
   "name": "python",
   "nbconvert_exporter": "python",
   "pygments_lexer": "ipython3",
   "version": "3.10.12"
  }
 },
 "nbformat": 4,
 "nbformat_minor": 5
}
