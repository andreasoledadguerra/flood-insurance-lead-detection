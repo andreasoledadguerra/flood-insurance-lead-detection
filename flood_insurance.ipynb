{
 "cells": [
  {
   "cell_type": "code",
   "execution_count": 2,
   "id": "b198aec0",
   "metadata": {},
   "outputs": [
    {
     "ename": "AttributeError",
     "evalue": "module 'shapely' has no attribute 'geos_version'",
     "output_type": "error",
     "traceback": [
      "\u001b[0;31m---------------------------------------------------------------------------\u001b[0m",
      "\u001b[0;31mAttributeError\u001b[0m                            Traceback (most recent call last)",
      "Cell \u001b[0;32mIn[2], line 2\u001b[0m\n\u001b[1;32m      1\u001b[0m \u001b[38;5;28;01mimport\u001b[39;00m \u001b[38;5;21;01mpandas\u001b[39;00m \u001b[38;5;28;01mas\u001b[39;00m \u001b[38;5;21;01mpd\u001b[39;00m\n\u001b[0;32m----> 2\u001b[0m \u001b[38;5;28;01mimport\u001b[39;00m \u001b[38;5;21;01mgeopandas\u001b[39;00m \u001b[38;5;28;01mas\u001b[39;00m \u001b[38;5;21;01mgpd\u001b[39;00m\n\u001b[1;32m      3\u001b[0m \u001b[38;5;28;01mimport\u001b[39;00m \u001b[38;5;21;01mfiona\u001b[39;00m\n\u001b[1;32m      4\u001b[0m \u001b[38;5;28;01mimport\u001b[39;00m \u001b[38;5;21;01mosmnx\u001b[39;00m \u001b[38;5;28;01mas\u001b[39;00m \u001b[38;5;21;01mox\u001b[39;00m\n",
      "File \u001b[0;32m~/.local/lib/python3.10/site-packages/geopandas/__init__.py:3\u001b[0m\n\u001b[1;32m      1\u001b[0m \u001b[38;5;28;01mfrom\u001b[39;00m \u001b[38;5;21;01mgeopandas\u001b[39;00m\u001b[38;5;21;01m.\u001b[39;00m\u001b[38;5;21;01m_config\u001b[39;00m \u001b[38;5;28;01mimport\u001b[39;00m options\n\u001b[0;32m----> 3\u001b[0m \u001b[38;5;28;01mfrom\u001b[39;00m \u001b[38;5;21;01mgeopandas\u001b[39;00m\u001b[38;5;21;01m.\u001b[39;00m\u001b[38;5;21;01mgeoseries\u001b[39;00m \u001b[38;5;28;01mimport\u001b[39;00m GeoSeries\n\u001b[1;32m      4\u001b[0m \u001b[38;5;28;01mfrom\u001b[39;00m \u001b[38;5;21;01mgeopandas\u001b[39;00m\u001b[38;5;21;01m.\u001b[39;00m\u001b[38;5;21;01mgeodataframe\u001b[39;00m \u001b[38;5;28;01mimport\u001b[39;00m GeoDataFrame\n\u001b[1;32m      5\u001b[0m \u001b[38;5;28;01mfrom\u001b[39;00m \u001b[38;5;21;01mgeopandas\u001b[39;00m\u001b[38;5;21;01m.\u001b[39;00m\u001b[38;5;21;01marray\u001b[39;00m \u001b[38;5;28;01mimport\u001b[39;00m points_from_xy\n",
      "File \u001b[0;32m~/.local/lib/python3.10/site-packages/geopandas/geoseries.py:17\u001b[0m\n\u001b[1;32m     14\u001b[0m \u001b[38;5;28;01mfrom\u001b[39;00m \u001b[38;5;21;01mshapely\u001b[39;00m\u001b[38;5;21;01m.\u001b[39;00m\u001b[38;5;21;01mgeometry\u001b[39;00m\u001b[38;5;21;01m.\u001b[39;00m\u001b[38;5;21;01mbase\u001b[39;00m \u001b[38;5;28;01mimport\u001b[39;00m BaseGeometry\n\u001b[1;32m     16\u001b[0m \u001b[38;5;28;01mimport\u001b[39;00m \u001b[38;5;21;01mgeopandas\u001b[39;00m\n\u001b[0;32m---> 17\u001b[0m \u001b[38;5;28;01mfrom\u001b[39;00m \u001b[38;5;21;01mgeopandas\u001b[39;00m\u001b[38;5;21;01m.\u001b[39;00m\u001b[38;5;21;01mbase\u001b[39;00m \u001b[38;5;28;01mimport\u001b[39;00m GeoPandasBase, _delegate_property\n\u001b[1;32m     18\u001b[0m \u001b[38;5;28;01mfrom\u001b[39;00m \u001b[38;5;21;01mgeopandas\u001b[39;00m\u001b[38;5;21;01m.\u001b[39;00m\u001b[38;5;21;01mexplore\u001b[39;00m \u001b[38;5;28;01mimport\u001b[39;00m _explore_geoseries\n\u001b[1;32m     19\u001b[0m \u001b[38;5;28;01mfrom\u001b[39;00m \u001b[38;5;21;01mgeopandas\u001b[39;00m\u001b[38;5;21;01m.\u001b[39;00m\u001b[38;5;21;01mplotting\u001b[39;00m \u001b[38;5;28;01mimport\u001b[39;00m plot_series\n",
      "File \u001b[0;32m~/.local/lib/python3.10/site-packages/geopandas/base.py:11\u001b[0m\n\u001b[1;32m      8\u001b[0m \u001b[38;5;28;01mfrom\u001b[39;00m \u001b[38;5;21;01mshapely\u001b[39;00m\u001b[38;5;21;01m.\u001b[39;00m\u001b[38;5;21;01mgeometry\u001b[39;00m \u001b[38;5;28;01mimport\u001b[39;00m MultiPoint, box\n\u001b[1;32m      9\u001b[0m \u001b[38;5;28;01mfrom\u001b[39;00m \u001b[38;5;21;01mshapely\u001b[39;00m\u001b[38;5;21;01m.\u001b[39;00m\u001b[38;5;21;01mgeometry\u001b[39;00m\u001b[38;5;21;01m.\u001b[39;00m\u001b[38;5;21;01mbase\u001b[39;00m \u001b[38;5;28;01mimport\u001b[39;00m BaseGeometry\n\u001b[0;32m---> 11\u001b[0m \u001b[38;5;28;01mfrom\u001b[39;00m \u001b[38;5;21;01m.\u001b[39;00m \u001b[38;5;28;01mimport\u001b[39;00m _compat \u001b[38;5;28;01mas\u001b[39;00m compat\n\u001b[1;32m     12\u001b[0m \u001b[38;5;28;01mfrom\u001b[39;00m \u001b[38;5;21;01m.\u001b[39;00m\u001b[38;5;21;01marray\u001b[39;00m \u001b[38;5;28;01mimport\u001b[39;00m GeometryArray, GeometryDtype, points_from_xy\n\u001b[1;32m     15\u001b[0m \u001b[38;5;28;01mdef\u001b[39;00m \u001b[38;5;21mis_geometry_type\u001b[39m(data):\n",
      "File \u001b[0;32m~/.local/lib/python3.10/site-packages/geopandas/_compat.py:25\u001b[0m\n\u001b[1;32m     22\u001b[0m SHAPELY_GE_204 \u001b[38;5;241m=\u001b[39m Version(shapely\u001b[38;5;241m.\u001b[39m__version__) \u001b[38;5;241m>\u001b[39m\u001b[38;5;241m=\u001b[39m Version(\u001b[38;5;124m\"\u001b[39m\u001b[38;5;124m2.0.4\u001b[39m\u001b[38;5;124m\"\u001b[39m)\n\u001b[1;32m     23\u001b[0m SHAPELY_GE_21 \u001b[38;5;241m=\u001b[39m Version(shapely\u001b[38;5;241m.\u001b[39m__version__) \u001b[38;5;241m>\u001b[39m\u001b[38;5;241m=\u001b[39m Version(\u001b[38;5;124m\"\u001b[39m\u001b[38;5;124m2.1rc1\u001b[39m\u001b[38;5;124m\"\u001b[39m)\n\u001b[0;32m---> 25\u001b[0m GEOS_GE_390 \u001b[38;5;241m=\u001b[39m \u001b[43mshapely\u001b[49m\u001b[38;5;241;43m.\u001b[39;49m\u001b[43mgeos_version\u001b[49m \u001b[38;5;241m>\u001b[39m\u001b[38;5;241m=\u001b[39m (\u001b[38;5;241m3\u001b[39m, \u001b[38;5;241m9\u001b[39m, \u001b[38;5;241m0\u001b[39m)\n\u001b[1;32m     26\u001b[0m GEOS_GE_310 \u001b[38;5;241m=\u001b[39m shapely\u001b[38;5;241m.\u001b[39mgeos_version \u001b[38;5;241m>\u001b[39m\u001b[38;5;241m=\u001b[39m (\u001b[38;5;241m3\u001b[39m, \u001b[38;5;241m10\u001b[39m, \u001b[38;5;241m0\u001b[39m)\n\u001b[1;32m     27\u001b[0m GEOS_GE_312 \u001b[38;5;241m=\u001b[39m shapely\u001b[38;5;241m.\u001b[39mgeos_version \u001b[38;5;241m>\u001b[39m\u001b[38;5;241m=\u001b[39m (\u001b[38;5;241m3\u001b[39m, \u001b[38;5;241m12\u001b[39m, \u001b[38;5;241m0\u001b[39m)\n",
      "\u001b[0;31mAttributeError\u001b[0m: module 'shapely' has no attribute 'geos_version'"
     ]
    }
   ],
   "source": [
    "import pandas as pd\n",
    "import geopandas as gpd\n",
    "import fiona\n",
    "import osmnx as ox"
   ]
  },
  {
   "cell_type": "markdown",
   "id": "483e96eb",
   "metadata": {},
   "source": [
    "# Etapa 1 : Obtener datos .kml de la ciudad de La Plata."
   ]
  },
  {
   "cell_type": "code",
   "execution_count": 3,
   "id": "0ca856b9",
   "metadata": {},
   "outputs": [
    {
     "ename": "NameError",
     "evalue": "name 'gpd' is not defined",
     "output_type": "error",
     "traceback": [
      "\u001b[0;31m---------------------------------------------------------------------------\u001b[0m",
      "\u001b[0;31mNameError\u001b[0m                                 Traceback (most recent call last)",
      "Cell \u001b[0;32mIn[3], line 1\u001b[0m\n\u001b[0;32m----> 1\u001b[0m gdf \u001b[38;5;241m=\u001b[39m \u001b[43mgpd\u001b[49m\u001b[38;5;241m.\u001b[39mread_file(\u001b[38;5;124m\"\u001b[39m\u001b[38;5;124mlaplata_cascourbano.kml\u001b[39m\u001b[38;5;124m\"\u001b[39m, driver\u001b[38;5;241m=\u001b[39m\u001b[38;5;124m\"\u001b[39m\u001b[38;5;124mKML\u001b[39m\u001b[38;5;124m\"\u001b[39m)\n\u001b[1;32m      2\u001b[0m \u001b[38;5;28mprint\u001b[39m(gdf\u001b[38;5;241m.\u001b[39mhead())\n",
      "\u001b[0;31mNameError\u001b[0m: name 'gpd' is not defined"
     ]
    }
   ],
   "source": [
    "gdf = gpd.read_file(\"laplata_cascourbano.kml\", driver=\"KML\")\n",
    "print(gdf.head())\n"
   ]
  },
  {
   "cell_type": "code",
   "execution_count": null,
   "id": "85763a02",
   "metadata": {},
   "outputs": [],
   "source": [
    "# Chequear cuántas capas tiene el archivo kml\n",
    "for layer in fiona.listlayers(\"laplata_cascourbano.kml\"):\n",
    "    print(layer)"
   ]
  },
  {
   "cell_type": "code",
   "execution_count": null,
   "id": "d52865cb",
   "metadata": {},
   "outputs": [],
   "source": [
    "# Convertir el archivo kml a geojson\n",
    "gdf.to_file(\"salida.geojson\", driver='GeoJSON')"
   ]
  },
  {
   "cell_type": "code",
   "execution_count": null,
   "id": "d92a1664",
   "metadata": {},
   "outputs": [],
   "source": [
    "# Plotear el archivo geojson\n",
    "gdf = gpd.read_file(\"salida.geojson\")\n",
    "gdf.plot()"
   ]
  },
  {
   "cell_type": "markdown",
   "id": "cef5952c",
   "metadata": {},
   "source": [
    "# Etapa 2 : Obtener datos de densidad poblacional de la ciudad de La Plata."
   ]
  },
  {
   "cell_type": "code",
   "execution_count": null,
   "id": "35397983",
   "metadata": {},
   "outputs": [],
   "source": [
    "# Dataset de densidad poblacional Argentina 2020 (1km resolución, ~4M puntos)\n",
    "pd.read_csv(\"arg_pd_2020_1km_ASCII_XYZ.csv\")"
   ]
  },
  {
   "cell_type": "code",
   "execution_count": null,
   "id": "c12fe9f8",
   "metadata": {},
   "outputs": [],
   "source": [
    "# Función para extraer datos de una ciudad específica del dataset completo\n",
    "def extract_city_data(city_name: str, bounds: dict) -> pd.DataFrame:\n",
    "\n",
    "    df = pd.read_csv(\"arg_pd_2020_1km_ASCII_XYZ.csv\")\n",
    "    \n",
    "    city_data = df[\n",
    "        (df['X'] >= bounds['x_min']) & \n",
    "        (df['X'] <= bounds['x_max']) & \n",
    "        (df['Y'] >= bounds['y_min']) & \n",
    "        (df['Y'] <= bounds['y_max'])\n",
    "    ]\n",
    "    \n",
    "    # Guardar subset\n",
    "    output_file = f\"{city_name.lower().replace(' ', '_')}_population_2020.csv\"\n",
    "    city_data.to_csv(output_file, index=False)\n",
    "    \n",
    "    print(\"Filas extraídas:\", f\"{len(city_data):,}\")\n",
    "    \n",
    "    return city_data"
   ]
  },
  {
   "cell_type": "code",
   "execution_count": null,
   "id": "edb7825b",
   "metadata": {},
   "outputs": [],
   "source": [
    "# Coordenadas aproximadas para La Plata\n",
    "la_plata_bounds = {\n",
    "   'x_min': -58.2,\n",
    "   'x_max': -57.7,\n",
    "   'y_min': -35.2,\n",
    "   'y_max': -34.7\n",
    "}\n",
    "\n",
    "# Extraer datos\n",
    "la_plata_data = extract_city_data(\"La Plata\", la_plata_bounds)\n"
   ]
  },
  {
   "cell_type": "markdown",
   "id": "0f418dfc",
   "metadata": {},
   "source": [
    "# Etapa 3 : Obtener datos catastrales/domiciliares de la ciudad de La Plata."
   ]
  },
  {
   "cell_type": "code",
   "execution_count": 4,
   "id": "d711eb7f",
   "metadata": {},
   "outputs": [
    {
     "ename": "NameError",
     "evalue": "name 'ox' is not defined",
     "output_type": "error",
     "traceback": [
      "\u001b[0;31m---------------------------------------------------------------------------\u001b[0m",
      "\u001b[0;31mNameError\u001b[0m                                 Traceback (most recent call last)",
      "Cell \u001b[0;32mIn[4], line 3\u001b[0m\n\u001b[1;32m      1\u001b[0m \u001b[38;5;66;03m# Descargar edificios y direcciones\u001b[39;00m\n\u001b[1;32m      2\u001b[0m tags \u001b[38;5;241m=\u001b[39m {\u001b[38;5;124m'\u001b[39m\u001b[38;5;124mbuilding\u001b[39m\u001b[38;5;124m'\u001b[39m: \u001b[38;5;28;01mTrue\u001b[39;00m, \u001b[38;5;124m'\u001b[39m\u001b[38;5;124maddr:housenumber\u001b[39m\u001b[38;5;124m'\u001b[39m: \u001b[38;5;28;01mTrue\u001b[39;00m}\n\u001b[0;32m----> 3\u001b[0m gdf \u001b[38;5;241m=\u001b[39m \u001b[43mox\u001b[49m\u001b[38;5;241m.\u001b[39mgeometries_from_place(\u001b[38;5;124m\"\u001b[39m\u001b[38;5;124mLa Plata, Buenos Aires, Argentina\u001b[39m\u001b[38;5;124m\"\u001b[39m, tags)\n\u001b[1;32m      5\u001b[0m \u001b[38;5;66;03m# Revisar resultados\u001b[39;00m\n\u001b[1;32m      6\u001b[0m gdf\u001b[38;5;241m.\u001b[39mhead()\n",
      "\u001b[0;31mNameError\u001b[0m: name 'ox' is not defined"
     ]
    }
   ],
   "source": [
    "# Descargar edificios y direcciones\n",
    "tags = {'building': True, 'addr:housenumber': True}\n",
    "gdf = ox.geometries_from_place(\"La Plata, Buenos Aires, Argentina\", tags)\n",
    "\n",
    "# Revisar resultados\n",
    "gdf.head()"
   ]
  },
  {
   "cell_type": "code",
   "execution_count": null,
   "id": "7860be6d",
   "metadata": {},
   "outputs": [],
   "source": []
  }
 ],
 "metadata": {
  "kernelspec": {
   "display_name": "Python 3",
   "language": "python",
   "name": "python3"
  },
  "language_info": {
   "codemirror_mode": {
    "name": "ipython",
    "version": 3
   },
   "file_extension": ".py",
   "mimetype": "text/x-python",
   "name": "python",
   "nbconvert_exporter": "python",
   "pygments_lexer": "ipython3",
   "version": "3.10.12"
  }
 },
 "nbformat": 4,
 "nbformat_minor": 5
}
