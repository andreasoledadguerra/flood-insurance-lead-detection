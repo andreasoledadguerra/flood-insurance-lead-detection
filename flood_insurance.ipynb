{
 "cells": [
  {
   "cell_type": "code",
   "execution_count": null,
   "id": "b198aec0",
   "metadata": {},
   "outputs": [],
   "source": [
    "import pandas as pd\n",
    "import geopandas as gpd\n",
    "import fiona\n",
    "import matplotlib.pyplot as plt\n",
    "from shapely.geometry import Point"
   ]
  },
  {
   "cell_type": "markdown",
   "id": "483e96eb",
   "metadata": {},
   "source": [
    "# Etapa 1 : Obtener datos .kml de la ciudad de La Plata."
   ]
  },
  {
   "cell_type": "code",
   "execution_count": null,
   "id": "0ca856b9",
   "metadata": {},
   "outputs": [],
   "source": [
    "gdf = gpd.read_file(\"laplata_cascourbano.kml\", driver=\"KML\")\n",
    "print(gdf.head())\n"
   ]
  },
  {
   "cell_type": "code",
   "execution_count": null,
   "id": "85763a02",
   "metadata": {},
   "outputs": [],
   "source": [
    "# Chequear cuántas capas tiene el archivo kml\n",
    "for layer in fiona.listlayers(\"laplata_cascourbano.kml\"):\n",
    "    print(layer)"
   ]
  },
  {
   "cell_type": "code",
   "execution_count": null,
   "id": "d52865cb",
   "metadata": {},
   "outputs": [],
   "source": [
    "# Convertir el archivo kml a geojson\n",
    "gdf.to_file(\"salida.geojson\", driver='GeoJSON')"
   ]
  },
  {
   "cell_type": "code",
   "execution_count": null,
   "id": "d92a1664",
   "metadata": {},
   "outputs": [],
   "source": [
    "# Plotear el archivo geojson\n",
    "gdf = gpd.read_file(\"salida.geojson\")\n",
    "gdf.plot()"
   ]
  },
  {
   "cell_type": "markdown",
   "id": "cef5952c",
   "metadata": {},
   "source": [
    "# Etapa 2 : Obtener datos de densidad poblacional de la ciudad de La Plata."
   ]
  },
  {
   "cell_type": "code",
   "execution_count": null,
   "id": "35397983",
   "metadata": {},
   "outputs": [],
   "source": [
    "# Dataset de densidad poblacional Argentina 2020 (1km resolución, ~4M puntos)\n",
    "pd.read_csv(\"arg_pd_2020_1km_ASCII_XYZ.csv\")"
   ]
  },
  {
   "cell_type": "code",
   "execution_count": null,
   "id": "c12fe9f8",
   "metadata": {},
   "outputs": [],
   "source": [
    "# Función para extraer datos de una ciudad específica del dataset completo\n",
    "def extract_city_data(city_name: str, bounds: dict) -> pd.DataFrame:\n",
    "\n",
    "    df = pd.read_csv(\"arg_pd_2020_1km_ASCII_XYZ.csv\")\n",
    "    \n",
    "    city_data = df[\n",
    "        (df['X'] >= bounds['x_min']) & \n",
    "        (df['X'] <= bounds['x_max']) & \n",
    "        (df['Y'] >= bounds['y_min']) & \n",
    "        (df['Y'] <= bounds['y_max'])\n",
    "    ]\n",
    "    \n",
    "    # Guardar subset\n",
    "    output_file = f\"{city_name.lower().replace(' ', '_')}_population_2020.csv\"\n",
    "    city_data.to_csv(output_file, index=False)\n",
    "    \n",
    "    print(\"Filas extraídas:\", f\"{len(city_data):,}\")\n",
    "    \n",
    "    return city_data"
   ]
  },
  {
   "cell_type": "code",
   "execution_count": null,
   "id": "edb7825b",
   "metadata": {},
   "outputs": [],
   "source": [
    "# Coordenadas aproximadas para La Plata\n",
    "la_plata_bounds = {\n",
    "   'x_min': -58.2,\n",
    "   'x_max': -57.7,\n",
    "   'y_min': -35.2,\n",
    "   'y_max': -34.7\n",
    "}\n",
    "\n",
    "# Extraer datos\n",
    "la_plata_data = extract_city_data(\"La Plata\", la_plata_bounds)\n"
   ]
  },
  {
   "cell_type": "code",
   "execution_count": null,
   "id": "88bbe212",
   "metadata": {},
   "outputs": [],
   "source": [
    "# Leer el archivo CSV de densidad de población de La Plata\n",
    "df = pd.read_csv('la_plata_population_2020.csv')\n",
    "    \n",
    "# Crear geometría de puntos usando X,Y como longitud,latitud\n",
    "geometry = [Point(xy) for xy in zip(df['X'], df['Y'])]\n",
    "    "
   ]
  },
  {
   "cell_type": "code",
   "execution_count": null,
   "id": "846705a8",
   "metadata": {},
   "outputs": [],
   "source": [
    "# Crear GeoDataFrame\n",
    "gdf = gpd.GeoDataFrame(df, geometry=geometry, crs='EPSG:4326')\n",
    "    \n",
    "# Agregar columna de densidad con nombre descriptivo\n",
    "gdf['densidad_poblacional_lp'] = gdf['Z']\n",
    "gdf\n"
   ]
  },
  {
   "cell_type": "code",
   "execution_count": null,
   "id": "3440d38d",
   "metadata": {},
   "outputs": [],
   "source": [
    "def export_to_geojson(gdf, output_path='la_plata_densidad.geojson'):\n",
    "    \n",
    "    gdf.to_file(output_path, driver='GeoJSON')\n",
    "    print(f\"Archivo exportado: {output_path}\")\n",
    "    return output_path"
   ]
  },
  {
   "cell_type": "code",
   "execution_count": null,
   "id": "75c543c4",
   "metadata": {},
   "outputs": [],
   "source": [
    "export_to_geojson(gdf)"
   ]
  },
  {
   "cell_type": "code",
   "execution_count": null,
   "id": "1c8c8c96",
   "metadata": {},
   "outputs": [],
   "source": []
  },
  {
   "cell_type": "code",
   "execution_count": null,
   "id": "a3367c62",
   "metadata": {},
   "outputs": [],
   "source": [
    "# Visualización de la densidad poblacional de La Plata\n",
    "fig, axes = plt.subplots(1, 2, figsize=(15, 6))\n",
    "\n",
    "# Gráfico de dispersión geográfica\n",
    "scatter = axes[0].scatter(\n",
    "    gdf['X'], gdf['Y'], c=gdf['Z'],\n",
    "    cmap='inferno', alpha=0.6, s=10\n",
    ")\n",
    "axes[0].set_xlabel('Longitud')\n",
    "axes[0].set_ylabel('Latitud')\n",
    "axes[0].set_title('Distribución Geográfica de Densidad Poblacional de La Plata')\n",
    "plt.colorbar(scatter, ax=axes[0], label='Densidad')\n",
    "\n",
    "# Histograma de densidades\n",
    "axes[1].hist(gdf['Z'], bins=50, alpha=0.7, color='skyblue', edgecolor='black')\n",
    "axes[1].set_xlabel('Densidad Poblacional')\n",
    "axes[1].set_ylabel('Frecuencia')\n",
    "axes[1].set_title('Distribución de Densidad Poblacional de La Plata')\n",
    "\n",
    "plt.tight_layout()\n",
    "plt.savefig('analisis_densidad_la_plata.png', dpi=300, bbox_inches='tight')\n",
    "plt.show()\n"
   ]
  },
  {
   "cell_type": "markdown",
   "id": "0f418dfc",
   "metadata": {},
   "source": [
    "# Etapa 3 : Obtener datos catastrales/domiciliares de la ciudad de La Plata."
   ]
  },
  {
   "cell_type": "markdown",
   "id": "f61ff7c4",
   "metadata": {},
   "source": []
  }
 ],
 "metadata": {
  "kernelspec": {
   "display_name": "Python 3",
   "language": "python",
   "name": "python3"
  },
  "language_info": {
   "codemirror_mode": {
    "name": "ipython",
    "version": 3
   },
   "file_extension": ".py",
   "mimetype": "text/x-python",
   "name": "python",
   "nbconvert_exporter": "python",
   "pygments_lexer": "ipython3",
   "version": "3.10.12"
  }
 },
 "nbformat": 4,
 "nbformat_minor": 5
}
