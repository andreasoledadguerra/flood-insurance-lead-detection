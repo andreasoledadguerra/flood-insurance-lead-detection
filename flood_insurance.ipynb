{
 "cells": [
  {
   "cell_type": "code",
   "execution_count": 1,
   "id": "b198aec0",
   "metadata": {},
   "outputs": [],
   "source": [
    "import pandas as pd\n",
    "import geopandas as gpd\n",
    "import fiona\n",
    "import matplotlib.pyplot as plt\n",
    "import numpy as np\n",
    "import contextily as ctx\n",
    "import rasterio\n",
    "from rasterio.crs import CRS\n",
    "from rasterio.transform import from_bounds\n",
    "from shapely import force_2d\n",
    "from shapely.geometry import box, Point, Polygon, MultiPolygon\n",
    "from scipy.spatial import cKDTree\n",
    "from sklearn.gaussian_process import GaussianProcessRegressor\n",
    "from sklearn.gaussian_process.kernels import RBF, WhiteKernel, ConstantKernel\n",
    "from flood_density.plots import city_bounds_and_density_plot\n",
    "from flood_density.preprocess import get_bounds_xy_min_max, extract_bounds_polygon, polygon_to_geodataframe, extract_city_data, coordinates_to_box,points_geocoordinates,convert_points_in_gdf, extract_city_bounds_from_df_to_gdf , gdf_to_geojson, clip_density_to_urban_area\n",
    "\n",
    "from typing import List, Tuple\n",
    "\n",
    "CRS_4326 = 4326\n"
   ]
  },
  {
   "cell_type": "markdown",
   "id": "483e96eb",
   "metadata": {},
   "source": [
    "# Etapa 1 : Obtener datos .kml de la ciudad de La Plata."
   ]
  },
  {
   "cell_type": "code",
   "execution_count": 2,
   "id": "7097d1c5",
   "metadata": {},
   "outputs": [],
   "source": [
    "def convert_kml_to_gdf(kml_file: str) -> gpd.GeoDataFrame:\n",
    "    gdf = gpd.read_file(kml_file, driver=\"KML\")\n",
    "    return gdf"
   ]
  },
  {
   "cell_type": "code",
   "execution_count": 3,
   "id": "12fd2d65",
   "metadata": {},
   "outputs": [
    {
     "name": "stderr",
     "output_type": "stream",
     "text": [
      "/home/andy/.local/lib/python3.10/site-packages/pyogrio/geopandas.py:275: UserWarning: More than one layer found in 'laplata_cascourbano.kml': 'La Plata' (default), 'La Plata (#2)', 'La Plata (#3)'. Specify layer parameter to avoid this warning.\n",
      "  result = read_func(\n"
     ]
    }
   ],
   "source": [
    "gdf_from_kml = convert_kml_to_gdf('laplata_cascourbano.kml')"
   ]
  },
  {
   "cell_type": "code",
   "execution_count": null,
   "id": "f399b1cf",
   "metadata": {},
   "outputs": [],
   "source": [
    "#def export_to_geojson(gdf: gpd.GeoDataFrame, output_path: str) -> gpd.GeoDataFrame:\n",
    "    #gdf.to_file(output_path, driver='GeoJSON')\n",
    "    #return gdf"
   ]
  },
  {
   "cell_type": "code",
   "execution_count": null,
   "id": "7af9d9e2",
   "metadata": {},
   "outputs": [],
   "source": [
    "#gdf_peligrosidad = export_to_geojson(gdf_from_kml, 'laplata_cascourbano.geojson')"
   ]
  },
  {
   "cell_type": "code",
   "execution_count": null,
   "id": "1eb7a930",
   "metadata": {},
   "outputs": [],
   "source": [
    "#def plot_gdf(gdf: gpd.GeoDataFrame):\n",
    "    return gdf.plot()"
   ]
  },
  {
   "cell_type": "code",
   "execution_count": null,
   "id": "8618c855",
   "metadata": {},
   "outputs": [],
   "source": [
    "#plot_gdf(gdf_peligrosidad)"
   ]
  },
  {
   "cell_type": "markdown",
   "id": "ee7cb6d5",
   "metadata": {},
   "source": [
    "# Etapa 2: Obtener las coordenadas de los puntos de la ciudad, formamos un polígono y luego, transformamos a un gdf.\n"
   ]
  },
  {
   "cell_type": "code",
   "execution_count": null,
   "id": "8f11c23e",
   "metadata": {},
   "outputs": [],
   "source": [
    "#¿Cómo obtengo bounds_dict? son coordenadas de la ciudad de La Plata Desde el archivo geojson"
   ]
  },
  {
   "cell_type": "code",
   "execution_count": null,
   "id": "8fb521a2",
   "metadata": {},
   "outputs": [],
   "source": [
    "# Cargar el archivo GeoJSON del plot\n",
    "gdf_la_plata = gpd.read_file(\"salida.geojson\")"
   ]
  },
  {
   "cell_type": "code",
   "execution_count": null,
   "id": "9144d7c1",
   "metadata": {},
   "outputs": [],
   "source": [
    "#Extraemos las coordenadas geográficas de la ciudad \n",
    "city_bounds_coordinates= get_bounds_xy_min_max(gdf_la_plata)\n",
    "city_bounds_coordinates"
   ]
  },
  {
   "cell_type": "code",
   "execution_count": null,
   "id": "0ed0639a",
   "metadata": {},
   "outputs": [],
   "source": [
    "# Convertimos las coordenadas de la ciudad a un box\n",
    "boxx = coordinates_to_box(city_bounds_coordinates)"
   ]
  },
  {
   "cell_type": "code",
   "execution_count": null,
   "id": "4d6757a7",
   "metadata": {},
   "outputs": [],
   "source": [
    "#Usar el dataframe del polígono que forma las coordenadas de la LP\n",
    "gdf_la_plata_from_polygon = gpd.GeoDataFrame({'geometry': [boxx]}, crs='EPSG:4326')"
   ]
  },
  {
   "cell_type": "code",
   "execution_count": null,
   "id": "e0d3d5a6",
   "metadata": {},
   "outputs": [],
   "source": [
    "# Convertir a EPSG 32721 (UTM zona 21S)\n",
    "gdf_la_plata_from_polygon = gdf_la_plata_from_polygon.to_crs(epsg=32721)"
   ]
  },
  {
   "cell_type": "markdown",
   "id": "5b5fdf1d",
   "metadata": {},
   "source": [
    "# Etapa 3 : Obtener y transformar datos de densidad poblacional de la ciudad de La Plata."
   ]
  },
  {
   "cell_type": "markdown",
   "id": "6d01b12a",
   "metadata": {},
   "source": [
    "Primero extraemos las filas que pertenecen a la ciudad de La Plata(sigue siendo un .csv), luego convertimos ese dataframe en un geodataframe."
   ]
  },
  {
   "cell_type": "code",
   "execution_count": null,
   "id": "30c382e9",
   "metadata": {},
   "outputs": [],
   "source": [
    "#Levantamos el dataset completo\n",
    "df_arg = pd.read_csv(\"arg_pd_2020_1km_ASCII_XYZ.csv\") "
   ]
  },
  {
   "cell_type": "code",
   "execution_count": null,
   "id": "ea374d82",
   "metadata": {},
   "outputs": [],
   "source": [
    "# Extraemos las filas referidas a la ciudad de La Plata\n",
    "df_lp_coordinates = extract_city_data(df_arg,'la_plata',city_bounds_coordinates)\n"
   ]
  },
  {
   "cell_type": "code",
   "execution_count": null,
   "id": "eb2c4159",
   "metadata": {},
   "outputs": [],
   "source": [
    "#Leemos los datos específicos de la ciudad de La Plata\n",
    "df_lp_coordinates = pd.read_csv('la_plata_population_2020.csv')\n"
   ]
  },
  {
   "cell_type": "code",
   "execution_count": null,
   "id": "d1bb0a21",
   "metadata": {},
   "outputs": [],
   "source": [
    "#Convertir dataframe de los puntos pertenecientes a la ciudad de La Plata en un geodataframe\n",
    "gdf_lp_coordinates = extract_city_bounds_from_df_to_gdf(df_lp_coordinates, 'Y','X')"
   ]
  },
  {
   "cell_type": "code",
   "execution_count": null,
   "id": "4e26435e",
   "metadata": {},
   "outputs": [],
   "source": [
    "# Extraemos las coordenadas de los puntos dentro de la ciudad de La Plata\n",
    "casco_urbano = clip_density_to_urban_area(gdf_lp_coordinates,gdf_la_plata)"
   ]
  },
  {
   "cell_type": "code",
   "execution_count": null,
   "id": "9ec17fc6",
   "metadata": {},
   "outputs": [],
   "source": [
    "# Función para forzar geometrías 2D\n",
    "#def to_2d(geom: gpd.GeoSeries) -> gpd.GeoSeries:\n",
    "#    if geom.has_z:\n",
    "#        return type(geom)([(x, y) for x, y, *rest in geom.coords])\n",
    "#    return geom"
   ]
  },
  {
   "cell_type": "code",
   "execution_count": null,
   "id": "04b6bb0b",
   "metadata": {},
   "outputs": [],
   "source": [
    "# Reproyectar a EPSG 32721 (UTM zona 21S)\n",
    "casco_urbano_utm = casco_urbano.to_crs(epsg=32721)"
   ]
  },
  {
   "cell_type": "code",
   "execution_count": null,
   "id": "8d6b2bbb",
   "metadata": {},
   "outputs": [],
   "source": [
    "# Calcular centroides en el CRS proyectado\n",
    "centroides = casco_urbano_utm.geometry.centroid"
   ]
  },
  {
   "cell_type": "code",
   "execution_count": null,
   "id": "0d3d75a3",
   "metadata": {},
   "outputs": [],
   "source": [
    "# Convertir centroides a un array de coordenadas\n",
    "coords_centroides = np.array([[pt.x, pt.y] for pt in centroides])"
   ]
  },
  {
   "cell_type": "code",
   "execution_count": null,
   "id": "5bc92af3",
   "metadata": {},
   "outputs": [],
   "source": [
    "# Extraer densidades de casco_urbano_utm\n",
    "values_density_lp = casco_urbano_utm['Z'].values"
   ]
  },
  {
   "cell_type": "code",
   "execution_count": null,
   "id": "9f3fc49b",
   "metadata": {},
   "outputs": [],
   "source": [
    "#Extraer los límites del polígono de la ciudad de La Plata\n",
    "bounds_lp = gdf_la_plata_from_polygon.total_bounds  # [minx, miny, maxx, maxy]\n",
    "bounds_lp"
   ]
  },
  {
   "cell_type": "code",
   "execution_count": null,
   "id": "45acc12b",
   "metadata": {},
   "outputs": [],
   "source": [
    "fig, ax = plt.subplots(figsize=(8, 6))\n",
    "sc = ax.scatter(coords_centroides[:, 0], coords_centroides[:, 1],\n",
    "                c=values_density_lp, s=100,\n",
    "                cmap='viridis', alpha=0.9,\n",
    "                edgecolor='black', linewidth=1,\n",
    "                marker='o')\n",
    "\n",
    "plt.colorbar(sc, ax=ax, label='Densidad')\n",
    "ax.set_title(\"Centroides (EPSG:32721)\")\n",
    "plt.show()"
   ]
  },
  {
   "cell_type": "markdown",
   "id": "4240c2cf",
   "metadata": {},
   "source": [
    "# Etapa 6 : Merge polígono y zona de densidad de la ciudad de La Plata en un plot."
   ]
  },
  {
   "cell_type": "code",
   "execution_count": null,
   "id": "79b4a2c4",
   "metadata": {},
   "outputs": [],
   "source": [
    "city_bounds_and_density_plot(gdf_la_plata_from_polygon, coords_centroides, values_density_lp, bounds_lp)"
   ]
  },
  {
   "cell_type": "code",
   "execution_count": null,
   "id": "f7f03afe",
   "metadata": {},
   "outputs": [],
   "source": [
    "# Visualización de la densidad poblacional de La Plata usando kriging\n",
    "\n",
    "# Extraer coordenadas de los centroides,y valores desde el GeoDataFrame\n",
    "coords =np.array([[point.x, point.y] for point in casco_utm.geometry.centroid]) \n",
    "values_density = casco_urbano['densidad_poblacional_lp'].values\n",
    "\n",
    "print(f\"Puntos de datos: {len(coords)}\")    \n",
    "print(f\"Rango de valores: {values_density.min():.2f} - {values_density.max():.2f}\")\n",
    "\n",
    "# Crear grid de puntos para interpolación\n",
    "grid_x, grid_y = np.mgrid[bounds_proj[0]:bounds_proj[2]:150j, bounds_proj[1]:bounds_proj[3]:150j]\n",
    "grid_coords = np.column_stack([grid_x.ravel(), grid_y.ravel()])\n",
    "\n",
    "#Definir kernel para el modelo de kriging\n",
    "kernel = (ConstantKernel(1.0) * RBF(length_scale=1000.0) + \n",
    "          WhiteKernel(noise_level=0.1, noise_level_bounds=(1e-10, 1e3)))\n",
    "\n",
    "# Crear modelo de kriging\n",
    "gpr = GaussianProcessRegressor(kernel=kernel,\n",
    "                                n_restarts_optimizer=10,\n",
    "                                alpha=1e-04,\n",
    "                                normalize_y=True)\n",
    "\n",
    "# Entrenar el modelo\n",
    "gpr.fit(coords, values_density)\n",
    "\n",
    "#Predecir en el grid\n",
    "grid_2_kriging, pred_std = gpr.predict(grid_coords, return_std=True)\n",
    "grid_z = grid_2_kriging.reshape(grid_x.shape)\n",
    "grid_uncertainty = pred_std.reshape(grid_x.shape)\n",
    "\n",
    "# Visualización de la superficie Kriging interpolada\n",
    "fig, ax = plt.subplots(figsize=(10, 10))\n",
    "\n",
    "# Plotear superficie Kriging interpolada\n",
    "contour = ax.contourf(grid_x, grid_y, grid_z, levels=30, cmap='viridis', alpha=0.5)\n",
    "\n",
    "# Plotear los polígonos originales con bordes\n",
    "casco_utm.plot(column='densidad_poblacional_lp', \n",
    "               cmap='viridis',\n",
    "               alpha=0.5,\n",
    "               edgecolor='black',\n",
    "               linewidth=1.0,\n",
    "               ax=ax)\n",
    "\n",
    "# Plotear los puntos centroides\n",
    "scatter = ax.scatter(coords[:, 0], coords[:, 1],\n",
    "                    c=values_density,\n",
    "                    cmap='viridis',\n",
    "                    s=30,\n",
    "                    edgecolors='black',\n",
    "                    linewidths=1,\n",
    "                    zorder=5)\n",
    "\n",
    "# Ajustar límites del gráfico según los límites de La Plata\n",
    "ax.set_xlim(bounds_proj[0], bounds_proj[2])\n",
    "ax.set_ylim(bounds_proj[1], bounds_proj[3])\n",
    "\n",
    "#Mapa base más sutil\n",
    "ctx.add_basemap(ax, crs=casco_utm.crs.to_string(),\n",
    "               source=ctx.providers.CartoDB.Positron,\n",
    "               alpha = 0.9)\n",
    "\n",
    "# Agregar colorbar para el scatter\n",
    "plt.colorbar(scatter, ax=ax, label='Densidad poblacional',shrink=0.7, aspect=25)\n",
    "\n",
    "# Agregar título y etiquetas\n",
    "ax.set_title('Interpolación Kriging - Densidad Poblacional La Plata')\n",
    "ax.set_xlabel('X (UTM)')\n",
    "ax.set_ylabel('Y (UTM)')\n",
    "\n",
    "plt.tight_layout()\n",
    "plt.show()"
   ]
  },
  {
   "cell_type": "code",
   "execution_count": null,
   "id": "080adb80",
   "metadata": {},
   "outputs": [],
   "source": [
    "def export_to_geotiff(grid_data: np.ndarray, gdf: gpd.GeoDataFrame, filename: str, crs_epsg: int = 3857):\n",
    "\n",
    "     # Crear un GeoDataFrame con los límites del área de La Plata en EPSG:4326\n",
    "    gdf_bounds_4326 = gpd.GeoDataFrame(geometry=[bbox], crs=\"EPSG:4326\")\n",
    "\n",
    "    # Transformar al CRS del plot\n",
    "    gdf_bounds_utm = gdf_bounds_4326.to_crs(casco_utm.crs)\n",
    "\n",
    "    # Obtener límites en coordenadas proyectadas\n",
    "    bounds_proj = gdf_bounds_utm.total_bounds  # [xmin, ymin, xmax, ymax]\n",
    "    height, width = grid_data.shape\n",
    "\n",
    "    # Calcula la transformación georreferenciada\n",
    "    transform = from_bounds(bounds_proj[0], bounds_proj[1], bounds_proj[2], bounds_proj[3], width, height)\n",
    "\n",
    "    with rasterio.open(\n",
    "        filename,\n",
    "        'w',\n",
    "        driver='GTiff',\n",
    "        height=height,\n",
    "        width=width,\n",
    "        count=1,\n",
    "        dtype=grid_data.dtype,\n",
    "        crs=CRS.from_epsg(crs_epsg),\n",
    "        transform=transform,\n",
    "        compress='lzw'\n",
    "    ) as dst:\n",
    "        dst.write(grid_data, 1)\n",
    "        dst.set_band_description(1, 'Densidad Poblacional Kriging')\n",
    "\n"
   ]
  },
  {
   "cell_type": "code",
   "execution_count": null,
   "id": "f27e36f1",
   "metadata": {},
   "outputs": [],
   "source": [
    "# Exportar superficie interpolada\n",
    "export_to_geotiff(grid_z, gdf_bounds_4326, 'kriging_densidad_poblacional.tif', 3857)"
   ]
  },
  {
   "cell_type": "markdown",
   "id": "0f418dfc",
   "metadata": {},
   "source": [
    "# Etapa 5 : superposición de mapas de densidad y peligrosidad de inundación de la ciudad de La Plata (QGIS)."
   ]
  }
 ],
 "metadata": {
  "kernelspec": {
   "display_name": "Python 3",
   "language": "python",
   "name": "python3"
  },
  "language_info": {
   "codemirror_mode": {
    "name": "ipython",
    "version": 3
   },
   "file_extension": ".py",
   "mimetype": "text/x-python",
   "name": "python",
   "nbconvert_exporter": "python",
   "pygments_lexer": "ipython3",
   "version": "3.10.12"
  }
 },
 "nbformat": 4,
 "nbformat_minor": 5
}
