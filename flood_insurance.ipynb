{
 "cells": [
  {
   "cell_type": "code",
   "execution_count": null,
   "id": "b198aec0",
   "metadata": {},
   "outputs": [],
   "source": [
    "import pandas as pd\n",
    "import geopandas as gpd\n",
    "import fiona\n",
    "import matplotlib.pyplot as plt\n",
    "from shapely.geometry import Point, Polygon, MultiPolygon\n",
    "from scipy.spatial import cKDTree"
   ]
  },
  {
   "cell_type": "markdown",
   "id": "483e96eb",
   "metadata": {},
   "source": [
    "# Etapa 1 : Obtener datos .kml de la ciudad de La Plata."
   ]
  },
  {
   "cell_type": "code",
   "execution_count": null,
   "id": "0ca856b9",
   "metadata": {},
   "outputs": [],
   "source": [
    "gdf = gpd.read_file(\"laplata_cascourbano.kml\", driver=\"KML\")\n",
    "print(gdf.head())\n"
   ]
  },
  {
   "cell_type": "code",
   "execution_count": null,
   "id": "85763a02",
   "metadata": {},
   "outputs": [],
   "source": [
    "# Chequear cuántas capas tiene el archivo kml\n",
    "for layer in fiona.listlayers(\"laplata_cascourbano.kml\"):\n",
    "    print(layer)"
   ]
  },
  {
   "cell_type": "code",
   "execution_count": null,
   "id": "d52865cb",
   "metadata": {},
   "outputs": [],
   "source": [
    "# Convertir el archivo kml a geojson\n",
    "gdf.to_file(\"salida.geojson\", driver='GeoJSON')"
   ]
  },
  {
   "cell_type": "code",
   "execution_count": null,
   "id": "d92a1664",
   "metadata": {},
   "outputs": [],
   "source": [
    "# Plotear el archivo geojson\n",
    "gdf = gpd.read_file(\"salida.geojson\")\n",
    "gdf.plot()"
   ]
  },
  {
   "cell_type": "markdown",
   "id": "cef5952c",
   "metadata": {},
   "source": [
    "# Etapa 2 : Obtener datos de densidad poblacional de la ciudad de La Plata."
   ]
  },
  {
   "cell_type": "code",
   "execution_count": null,
   "id": "35397983",
   "metadata": {},
   "outputs": [],
   "source": [
    "# Dataset de densidad poblacional Argentina 2020 (1km resolución, ~4M puntos)\n",
    "pd.read_csv(\"arg_pd_2020_1km_ASCII_XYZ.csv\")"
   ]
  },
  {
   "cell_type": "code",
   "execution_count": null,
   "id": "c12fe9f8",
   "metadata": {},
   "outputs": [],
   "source": [
    "# Función para extraer datos de una ciudad específica del dataset completo\n",
    "def extract_city_data(city_name: str, bounds: dict) -> pd.DataFrame:\n",
    "\n",
    "    df = pd.read_csv(\"arg_pd_2020_1km_ASCII_XYZ.csv\")\n",
    "    \n",
    "    city_data = df[\n",
    "        (df['X'] >= bounds['x_min']) & \n",
    "        (df['X'] <= bounds['x_max']) & \n",
    "        (df['Y'] >= bounds['y_min']) & \n",
    "        (df['Y'] <= bounds['y_max'])\n",
    "    ]\n",
    "    \n",
    "    # Guardar subset\n",
    "    output_file = f\"{city_name.lower().replace(' ', '_')}_population_2020.csv\"\n",
    "    city_data.to_csv(output_file, index=False)\n",
    "    \n",
    "    print(\"Filas extraídas:\", f\"{len(city_data):,}\")\n",
    "    \n",
    "    return city_data"
   ]
  },
  {
   "cell_type": "code",
   "execution_count": null,
   "id": "edb7825b",
   "metadata": {},
   "outputs": [],
   "source": [
    "# Coordenadas aproximadas para La Plata\n",
    "la_plata_bounds = {\n",
    "   'x_min': -58.2,\n",
    "   'x_max': -57.7,\n",
    "   'y_min': -35.2,\n",
    "   'y_max': -34.7\n",
    "}\n",
    "\n",
    "# Extraer datos\n",
    "la_plata_data = extract_city_data(\"La Plata\", la_plata_bounds)\n"
   ]
  },
  {
   "cell_type": "code",
   "execution_count": null,
   "id": "88bbe212",
   "metadata": {},
   "outputs": [],
   "source": [
    "# Leer el archivo CSV de densidad de población de La Plata\n",
    "df = pd.read_csv('la_plata_population_2020.csv')\n",
    "    \n",
    "# Crear geometría de puntos usando X,Y como longitud,latitud\n",
    "geometry = [Point(xy) for xy in zip(df['X'], df['Y'])]\n",
    "    "
   ]
  },
  {
   "cell_type": "code",
   "execution_count": null,
   "id": "846705a8",
   "metadata": {},
   "outputs": [],
   "source": [
    "# Crear GeoDataFrame\n",
    "CRS_4326 = 4326\n",
    "gdf_densidad= gpd.GeoDataFrame(df, geometry=geometry, crs=CRS_4326)\n",
    "    \n",
    "# Agregar columna de densidad con nombre descriptivo\n",
    "gdf_densidad['densidad_poblacional_lp'] = gdf_densidad['Z']\n",
    "gdf_densidad\n"
   ]
  },
  {
   "cell_type": "code",
   "execution_count": null,
   "id": "abde0f1b",
   "metadata": {},
   "outputs": [],
   "source": [
    "#gdf.to_crs() #cone esto cambio el sistema de referencia de coordenadas"
   ]
  },
  {
   "cell_type": "code",
   "execution_count": null,
   "id": "3440d38d",
   "metadata": {},
   "outputs": [],
   "source": [
    "def export_to_geojson(gdf_densidad: gpd.GeoDataFrame, output_path:str = \"la_plata_densidad.geojson\") -> str:\n",
    "        \"\"\"\n",
    "    Exporta un GeoDataFrame a formato GeoJSON\n",
    "    \n",
    "    Args:\n",
    "        gdf_densidad: GeoDataFrame con datos de densidad\n",
    "        output_path: Ruta de salida (default: \"la_plata_densidad.geojson\")\n",
    "    \n",
    "    Returns:\n",
    "        str: Ruta del archivo exportado\n",
    "    \"\"\"\n",
    "        \n",
    "        gdf_densidad.to_file(output_path, driver='GeoJSON')\n",
    "        print(f\"Archivo exportado: {output_path}\")\n",
    "        return output_path"
   ]
  },
  {
   "cell_type": "code",
   "execution_count": null,
   "id": "75c543c4",
   "metadata": {},
   "outputs": [],
   "source": [
    "export_to_geojson(gdf_densidad)"
   ]
  },
  {
   "cell_type": "code",
   "execution_count": null,
   "id": "a3367c62",
   "metadata": {},
   "outputs": [],
   "source": [
    "# Visualización de la densidad poblacional de La Plata\n",
    "fig, axes = plt.subplots(figsize=(6, 6))\n",
    "\n",
    "# Gráfico de dispersión geográfica\n",
    "scatter = axes.scatter(\n",
    "    gdf_densidad['X'], gdf_densidad['Y'], c=gdf_densidad['Z'],\n",
    "    cmap='inferno', alpha=0.6, s=10\n",
    ")\n",
    "axes.set_xlabel('Longitud')\n",
    "axes.set_ylabel('Latitud')\n",
    "axes.set_title('Distribución Geográfica de Densidad Poblacional de La Plata')\n",
    "plt.colorbar(scatter, ax=axes, label='Densidad')\n",
    "\n",
    "plt.tight_layout()\n",
    "plt.savefig('densidad_la_plata.png', dpi=300, bbox_inches='tight')\n",
    "plt.show()"
   ]
  },
  {
   "cell_type": "code",
   "execution_count": null,
   "id": "4fd96c69",
   "metadata": {},
   "outputs": [],
   "source": [
    "# Recortar el GeoDataFrame de densidad poblacional con el GeoDataFrame de La Plata"
   ]
  },
  {
   "cell_type": "code",
   "execution_count": null,
   "id": "8d8476d2",
   "metadata": {},
   "outputs": [],
   "source": [
    "def clip_density_to_urban_area(gdf_density: gpd.GeoDataFrame, gdf_geographical: gpd.GeoDataFrame) -> gpd.GeoDataFrame: \n",
    "    \"\"\"\n",
    "    Recorta los puntos de densidad que caen dentro del casco urbano de un límite geográfico dado.\n",
    "    \n",
    "    Args:\n",
    "        gdf_density: GeoDataFrame con datos de densidad\n",
    "        gdf_geographical: GeoDataFrame con límites geográficos\n",
    "\n",
    "    Returns:\n",
    "        gpd.GeoDataFrame: GeoDataFrame recortado a la zona urbana\n",
    "    \"\"\"\n",
    "    # Usar spatial join para mantener solo puntos dentro del casco urbano\n",
    "    points_in_casco = gpd.sjoin(gdf_density, gdf_geographical, how='inner', predicate='intersects')\n",
    "    \n",
    "    # Limpiar columnas duplicadas del join \n",
    "    points_in_casco = points_in_casco.drop(columns=[col for col in points_in_casco.columns if col.endswith('_right')]) \n",
    "    \n",
    "    return points_in_casco"
   ]
  },
  {
   "cell_type": "code",
   "execution_count": null,
   "id": "877a3b0d",
   "metadata": {},
   "outputs": [],
   "source": [
    "casco_urbano = clip_density_to_urban_area(gdf_densidad, gdf)"
   ]
  },
  {
   "cell_type": "code",
   "execution_count": null,
   "id": "17639dd9",
   "metadata": {},
   "outputs": [],
   "source": [
    "casco_urbano"
   ]
  },
  {
   "cell_type": "code",
   "execution_count": null,
   "id": "c956847c",
   "metadata": {},
   "outputs": [],
   "source": [
    "## Visualización simple \n",
    "#fig, ax = plt.subplots(figsize=(12, 10))\n",
    "#\n",
    "## Plotear el límite del casco urbano\n",
    "#gdf.boundary.plot(ax=ax, color='red', linewidth=2, alpha=0.8)\n",
    "#\n",
    "## Plotear los puntos de densidad\n",
    "#scatter = ax.scatter(casco_urbano['X'], casco_urbano['Y'], \n",
    "#                    c=casco_urbano['Z'], \n",
    "#                    cmap='viridis', \n",
    "#                    s=30, \n",
    "#                    alpha=0.7)\n",
    "#\n",
    "#plt.colorbar(scatter, label='Densidad Poblacional')\n",
    "#ax.set_title('Casco Urbano - La Plata')\n",
    "#ax.set_aspect('equal')\n",
    "#plt.show()"
   ]
  },
  {
   "cell_type": "code",
   "execution_count": null,
   "id": "d922e3c9",
   "metadata": {},
   "outputs": [],
   "source": []
  },
  {
   "cell_type": "code",
   "execution_count": null,
   "id": "08143891",
   "metadata": {},
   "outputs": [],
   "source": []
  },
  {
   "cell_type": "markdown",
   "id": "0f418dfc",
   "metadata": {},
   "source": [
    "# Etapa 3 : superposición de mapas de densidad y peligrosidad de inundación de la ciudad de La Plata (QGIS)."
   ]
  },
  {
   "cell_type": "code",
   "execution_count": null,
   "id": "9d924373",
   "metadata": {},
   "outputs": [],
   "source": [
    "# Verificaión de los sistemas de referencia espacial\n",
    "gdf_mapa = gpd.read_file(\"salida.geojson\")\n",
    "print(gdf.crs)\n",
    "print(gdf_mapa.crs)"
   ]
  },
  {
   "cell_type": "code",
   "execution_count": null,
   "id": "1b2a6b39",
   "metadata": {},
   "outputs": [],
   "source": []
  }
 ],
 "metadata": {
  "kernelspec": {
   "display_name": "Python 3",
   "language": "python",
   "name": "python3"
  },
  "language_info": {
   "codemirror_mode": {
    "name": "ipython",
    "version": 3
   },
   "file_extension": ".py",
   "mimetype": "text/x-python",
   "name": "python",
   "nbconvert_exporter": "python",
   "pygments_lexer": "ipython3",
   "version": "3.10.12"
  }
 },
 "nbformat": 4,
 "nbformat_minor": 5
}
