{
 "cells": [
  {
   "cell_type": "code",
   "execution_count": 34,
   "id": "b198aec0",
   "metadata": {},
   "outputs": [],
   "source": [
    "import pandas as pd\n",
    "import geopandas as gpd\n",
    "import fiona\n",
    "import matplotlib.pyplot as plt\n",
    "import numpy as np\n",
    "import contextily as ctx\n",
    "import rasterio\n",
    "from rasterio.crs import CRS\n",
    "from rasterio.transform import from_bounds\n",
    "from shapely.geometry import box, Point, Polygon, MultiPolygon\n",
    "from scipy.spatial import cKDTree\n",
    "from sklearn.gaussian_process import GaussianProcessRegressor\n",
    "from sklearn.gaussian_process.kernels import RBF,WhiteKernel,ConstantKernel\n",
    "from flood_density.plots import convert_kml_to_geojson\n",
    "from flood_density.preprocess import extract_city_bounds, extract_bounds_polygon, polygon_to_geodataframe, convert_gdf_to_geojson, extract_city_data, coordinates_to_box,points_geocoordinates,convert_points_in_gdf, extract_city_bounds_from_dataframe_to_geodataframe\n",
    "\n",
    "from typing import List, Tuple\n",
    "\n",
    "CRS_4326 = 4326\n"
   ]
  },
  {
   "cell_type": "markdown",
   "id": "483e96eb",
   "metadata": {},
   "source": [
    "# Etapa 1 : Obtener datos .kml de la ciudad de La Plata."
   ]
  },
  {
   "cell_type": "code",
   "execution_count": null,
   "id": "308ba982",
   "metadata": {},
   "outputs": [],
   "source": [
    "convert_kml_to_geojson(\"laplata_cascourbano.kml\", \"salida.geojson\")"
   ]
  },
  {
   "cell_type": "markdown",
   "id": "ee7cb6d5",
   "metadata": {},
   "source": [
    "# Etapa 2: Obtener las coordenadas de los puntos de la ciudad\n"
   ]
  },
  {
   "cell_type": "code",
   "execution_count": null,
   "id": "8f11c23e",
   "metadata": {},
   "outputs": [],
   "source": [
    "#¿Cómo obtengo bounds_dict? son coordenadas de la ciudad de La Plata Desde el archivo geojson"
   ]
  },
  {
   "cell_type": "code",
   "execution_count": null,
   "id": "8fb521a2",
   "metadata": {},
   "outputs": [],
   "source": [
    "# Cargar el archivo GeoJSON del plot\n",
    "gdf_la_plata = gpd.read_file(\"salida.geojson\")"
   ]
  },
  {
   "cell_type": "code",
   "execution_count": null,
   "id": "9144d7c1",
   "metadata": {},
   "outputs": [],
   "source": [
    "#Extraemos las coordenadas geográficas de la ciudad \n",
    "city_bounds_coordinates= extract_city_bounds(gdf_la_plata)\n",
    "city_bounds_coordinates"
   ]
  },
  {
   "cell_type": "code",
   "execution_count": null,
   "id": "08f42ab9",
   "metadata": {},
   "outputs": [],
   "source": [
    "polygon_coords = extract_bounds_polygon(city_bounds_coordinates)"
   ]
  },
  {
   "cell_type": "code",
   "execution_count": null,
   "id": "348fbb2c",
   "metadata": {},
   "outputs": [],
   "source": [
    "geo_polygon = polygon_to_geodataframe(polygon_coords, CRS_4326)\n"
   ]
  },
  {
   "cell_type": "code",
   "execution_count": null,
   "id": "7d4b0bb5",
   "metadata": {},
   "outputs": [],
   "source": [
    "convert_gdf_to_geojson(geo_polygon, \"polygon.geojson\")"
   ]
  },
  {
   "cell_type": "markdown",
   "id": "cef5952c",
   "metadata": {},
   "source": [
    "# Etapa 3 : Obtener datos de densidad poblacional de la ciudad de La Plata."
   ]
  },
  {
   "cell_type": "markdown",
   "id": "9d705af5",
   "metadata": {},
   "source": [
    "Primero extraemos las filas que pertenecen a la ciudad de La Plata(sigue siendo un .csv), luego convertimos ese dataframe en un geodataframe."
   ]
  },
  {
   "cell_type": "code",
   "execution_count": null,
   "id": "11ebfff2",
   "metadata": {},
   "outputs": [],
   "source": [
    "city_bounds_coordinates"
   ]
  },
  {
   "cell_type": "code",
   "execution_count": null,
   "id": "0ed0639a",
   "metadata": {},
   "outputs": [],
   "source": [
    "coordinates_to_box(city_bounds_coordinates)"
   ]
  },
  {
   "cell_type": "code",
   "execution_count": null,
   "id": "15ed6064",
   "metadata": {},
   "outputs": [],
   "source": [
    "# Create GeoDataFrame from the bounding box\n",
    "#gdf_la_plata = gpd.GeoDataFrame({'geometry': [bbox]}, crs='EPSG:4326')\n",
    "\n",
    "# Display the result\n",
    "#gdf_la_plata.to_file(\"la_plata_bounds.geojson\", driver='GeoJSON')"
   ]
  },
  {
   "cell_type": "markdown",
   "id": "83d1b690",
   "metadata": {},
   "source": [
    "# Etapa 4 : Transformar datos de densidad poblacional de la ciudad de La Plata."
   ]
  },
  {
   "cell_type": "code",
   "execution_count": null,
   "id": "30c382e9",
   "metadata": {},
   "outputs": [],
   "source": [
    "#Levantamos el dataset completo\n",
    "df_arg = pd.read_csv(\"arg_pd_2020_1km_ASCII_XYZ.csv\")"
   ]
  },
  {
   "cell_type": "code",
   "execution_count": null,
   "id": "ea374d82",
   "metadata": {},
   "outputs": [],
   "source": [
    "# Extraemos las filas referidas a la ciudad de La Plata\n",
    "df_lp_coordinates = extract_city_data(df_arg,'la_plata',city_bounds_coordinates)"
   ]
  },
  {
   "cell_type": "code",
   "execution_count": null,
   "id": "eb2c4159",
   "metadata": {},
   "outputs": [],
   "source": [
    "#Leemos los datos específicos de la ciudad de La Plata\n",
    "df_lp = pd.read_csv('la_plata_population_2020.csv')\n"
   ]
  },
  {
   "cell_type": "code",
   "execution_count": null,
   "id": "da7e16fc",
   "metadata": {},
   "outputs": [],
   "source": [
    "# Creamos un polígono con los puntos referidos a la ciudad\n",
    "points_for_density = points_geocoordinates(df_lp)"
   ]
  },
  {
   "cell_type": "code",
   "execution_count": null,
   "id": "c914befd",
   "metadata": {},
   "outputs": [],
   "source": [
    "points_for_density"
   ]
  },
  {
   "cell_type": "code",
   "execution_count": null,
   "id": "c9c90e9a",
   "metadata": {},
   "outputs": [],
   "source": [
    "# Guardamos los puntos geográficos en una columna (dataframe)\n",
    "df_geometry = convert_points_in_gdf(points_for_density,CRS_4326)"
   ]
  },
  {
   "cell_type": "code",
   "execution_count": null,
   "id": "36013cc5",
   "metadata": {},
   "outputs": [],
   "source": [
    "df_geometry"
   ]
  },
  {
   "cell_type": "code",
   "execution_count": null,
   "id": "846705a8",
   "metadata": {},
   "outputs": [],
   "source": [
    "# Agregar columna geometry\n",
    "df_lp_coordinates.loc[:, 'geometry'] = df_geometry['geometry'].values\n"
   ]
  },
  {
   "cell_type": "code",
   "execution_count": null,
   "id": "95e1cc07",
   "metadata": {},
   "outputs": [],
   "source": [
    "#Convertimos el dataframe en un geodataframe\n",
    "#extract_city_bounds_from_dataframe_to_geodataframe(df_lp_coordinates)"
   ]
  },
  {
   "cell_type": "code",
   "execution_count": null,
   "id": "16fcf303",
   "metadata": {},
   "outputs": [],
   "source": []
  },
  {
   "cell_type": "code",
   "execution_count": null,
   "id": "75c543c4",
   "metadata": {},
   "outputs": [],
   "source": [
    "#Convertimos df_lp_coordinates a un geojson\n",
    "#export_to_geojson(gdf)"
   ]
  },
  {
   "cell_type": "code",
   "execution_count": null,
   "id": "a3367c62",
   "metadata": {},
   "outputs": [],
   "source": [
    "def density_city_plot(gdf: gpd.GeoDataFrame, )\n",
    "\n",
    "# Visualización de la densidad poblacional de La Plata\n",
    "fig, axes = plt.subplots(figsize=(10, 10))\n",
    "\n",
    "# Gráfico de dispersión geográfica\n",
    "scatter = axes.scatter(\n",
    "    gdf_densidad['X'], gdf_densidad['Y'], c=gdf_densidad['Z'],\n",
    "    cmap='inferno', alpha=0.6, s=10\n",
    ")\n",
    "axes.set_xlabel('Longitud')\n",
    "axes.set_ylabel('Latitud')\n",
    "axes.set_title('Distribución Geográfica de Densidad Poblacional de La Plata')\n",
    "\n",
    "# Ajustar límites del gráfico según los límites de La Plata\n",
    "axes.set_xlim(bounds['x_min'], bounds['x_max'])\n",
    "axes.set_ylim(bounds['y_min'], bounds['y_max'])\n",
    "\n",
    "\n",
    "plt.colorbar(scatter, ax=axes, label='Densidad')\n",
    "plt.tight_layout()\n",
    "plt.savefig('densidad_la_plata.png', dpi=300, bbox_inches='tight')\n",
    "plt.show()"
   ]
  },
  {
   "cell_type": "code",
   "execution_count": null,
   "id": "88c72973",
   "metadata": {},
   "outputs": [],
   "source": [
    "def clip_density_to_urban_area(gdf_density: gpd.GeoDataFrame, gdf_geographical: gpd.GeoDataFrame) -> gpd.GeoDataFrame: \n",
    "    # Usar uniones espaciales para mantener solo puntos dentro del casco urbano\n",
    "    points_in_casco = gpd.sjoin(gdf_density, gdf_geographical, how='inner', predicate='intersects')\n",
    "    \n",
    "    # Limpiar columnas duplicadas del join \n",
    "    points_in_casco = points_in_casco.drop(columns=[col for col in points_in_casco.columns if col.endswith('_right')]) \n",
    "    \n",
    "    return points_in_casco"
   ]
  },
  {
   "cell_type": "code",
   "execution_count": null,
   "id": "dff5b005",
   "metadata": {},
   "outputs": [],
   "source": [
    "casco_urbano = clip_density_to_urban_area(gdf_densidad, gdf_geographical= gdf)"
   ]
  },
  {
   "cell_type": "code",
   "execution_count": null,
   "id": "3e7b057b",
   "metadata": {},
   "outputs": [],
   "source": [
    "casco_urbano"
   ]
  },
  {
   "cell_type": "code",
   "execution_count": null,
   "id": "4d406bcf",
   "metadata": {},
   "outputs": [],
   "source": [
    "# Convertir a Web Mercator (sist. de proyección cartográfica EPSG 3857)\n",
    "casco_utm = casco_urbano.to_crs(epsg=3857)"
   ]
  },
  {
   "cell_type": "code",
   "execution_count": null,
   "id": "934a3ad3",
   "metadata": {},
   "outputs": [],
   "source": [
    "# Crear un GeoDataFrame con los límites del área de La Plata en EPSG:4326\n",
    "gdf_bounds_4326 = gpd.GeoDataFrame(geometry=[bbox], crs=\"EPSG:4326\")\n",
    "\n",
    "# Transformar al CRS del plot\n",
    "gdf_bounds_utm = gdf_bounds_4326.to_crs(casco_utm.crs)\n",
    "\n",
    "# Obtener límites en coordenadas proyectadas\n",
    "bounds_proj = gdf_bounds_utm.total_bounds  # [xmin, ymin, xmax, ymax]"
   ]
  },
  {
   "cell_type": "code",
   "execution_count": null,
   "id": "1a77024e",
   "metadata": {},
   "outputs": [],
   "source": [
    "# Plotear usando un mapa base más clara y con mayor contraste\n",
    "fig, ax = plt.subplots(figsize=(10, 10))\n",
    "\n",
    "casco_utm.plot(column='densidad_poblacional_lp', \n",
    "               cmap='viridis',  \n",
    "               alpha=0.8,    \n",
    "               edgecolor='black',\n",
    "               linewidth=2,\n",
    "               ax=ax,\n",
    "               legend=True,\n",
    "               legend_kwds={'shrink': 0.7})\n",
    "\n",
    "# Mapa base\n",
    "ctx.add_basemap(ax, crs=casco_utm.crs.to_string(), \n",
    "                source=ctx.providers.CartoDB.Positron,  # Fondo más claro\n",
    "                alpha=0.7)  \n",
    "\n",
    "ax.set_title('Densidad Poblacional - Casco Urbano La Plata', fontsize=16)\n",
    "ax.axis('on')\n",
    "\n",
    "# Ajustar límites del gráfico según los límites de La Plata\n",
    "ax.set_xlim(bounds_proj[0], bounds_proj[2])\n",
    "ax.set_ylim(bounds_proj[1], bounds_proj[3])\n",
    "\n",
    "plt.tight_layout()\n",
    "plt.show()"
   ]
  },
  {
   "cell_type": "code",
   "execution_count": null,
   "id": "f7f03afe",
   "metadata": {},
   "outputs": [],
   "source": [
    "# Visualización de la densidad poblacional de La Plata usando kriging\n",
    "\n",
    "# Extraer coordenadas de los centroides,y valores desde el GeoDataFrame\n",
    "coords =np.array([[point.x, point.y] for point in casco_utm.geometry.centroid]) \n",
    "values_density = casco_urbano['densidad_poblacional_lp'].values\n",
    "\n",
    "print(f\"Puntos de datos: {len(coords)}\")    \n",
    "print(f\"Rango de valores: {values_density.min():.2f} - {values_density.max():.2f}\")\n",
    "\n",
    "# Crear grid de puntos para interpolación\n",
    "grid_x, grid_y = np.mgrid[bounds_proj[0]:bounds_proj[2]:150j, bounds_proj[1]:bounds_proj[3]:150j]\n",
    "grid_coords = np.column_stack([grid_x.ravel(), grid_y.ravel()])\n",
    "\n",
    "#Definir kernel para el modelo de kriging\n",
    "kernel = (ConstantKernel(1.0) * RBF(length_scale=1000.0) + \n",
    "          WhiteKernel(noise_level=0.1, noise_level_bounds=(1e-10, 1e3)))\n",
    "\n",
    "# Crear modelo de kriging\n",
    "gpr = GaussianProcessRegressor(kernel=kernel,\n",
    "                                n_restarts_optimizer=10,\n",
    "                                alpha=1e-04,\n",
    "                                normalize_y=True)\n",
    "\n",
    "# Entrenar el modelo\n",
    "gpr.fit(coords, values_density)\n",
    "\n",
    "#Predecir en el grid\n",
    "grid_2_kriging, pred_std = gpr.predict(grid_coords, return_std=True)\n",
    "grid_z = grid_2_kriging.reshape(grid_x.shape)\n",
    "grid_uncertainty = pred_std.reshape(grid_x.shape)\n",
    "\n",
    "# Visualización de la superficie Kriging interpolada\n",
    "fig, ax = plt.subplots(figsize=(10, 10))\n",
    "\n",
    "# Plotear superficie Kriging interpolada\n",
    "contour = ax.contourf(grid_x, grid_y, grid_z, levels=30, cmap='viridis', alpha=0.5)\n",
    "\n",
    "# Plotear los polígonos originales con bordes\n",
    "casco_utm.plot(column='densidad_poblacional_lp', \n",
    "               cmap='viridis',\n",
    "               alpha=0.5,\n",
    "               edgecolor='black',\n",
    "               linewidth=1.0,\n",
    "               ax=ax)\n",
    "\n",
    "# Plotear los puntos centroides\n",
    "scatter = ax.scatter(coords[:, 0], coords[:, 1],\n",
    "                    c=values_density,\n",
    "                    cmap='viridis',\n",
    "                    s=30,\n",
    "                    edgecolors='black',\n",
    "                    linewidths=1,\n",
    "                    zorder=5)\n",
    "\n",
    "# Ajustar límites del gráfico según los límites de La Plata\n",
    "ax.set_xlim(bounds_proj[0], bounds_proj[2])\n",
    "ax.set_ylim(bounds_proj[1], bounds_proj[3])\n",
    "\n",
    "#Mapa base más sutil\n",
    "ctx.add_basemap(ax, crs=casco_utm.crs.to_string(),\n",
    "               source=ctx.providers.CartoDB.Positron,\n",
    "               alpha = 0.9)\n",
    "\n",
    "# Agregar colorbar para el scatter\n",
    "plt.colorbar(scatter, ax=ax, label='Densidad poblacional',shrink=0.7, aspect=25)\n",
    "\n",
    "# Agregar título y etiquetas\n",
    "ax.set_title('Interpolación Kriging - Densidad Poblacional La Plata')\n",
    "ax.set_xlabel('X (UTM)')\n",
    "ax.set_ylabel('Y (UTM)')\n",
    "\n",
    "plt.tight_layout()\n",
    "plt.show()"
   ]
  },
  {
   "cell_type": "code",
   "execution_count": null,
   "id": "080adb80",
   "metadata": {},
   "outputs": [],
   "source": [
    "def export_to_geotiff(grid_data: np.ndarray, gdf: gpd.GeoDataFrame, filename: str, crs_epsg: int = 3857):\n",
    "\n",
    "     # Crear un GeoDataFrame con los límites del área de La Plata en EPSG:4326\n",
    "    gdf_bounds_4326 = gpd.GeoDataFrame(geometry=[bbox], crs=\"EPSG:4326\")\n",
    "\n",
    "    # Transformar al CRS del plot\n",
    "    gdf_bounds_utm = gdf_bounds_4326.to_crs(casco_utm.crs)\n",
    "\n",
    "    # Obtener límites en coordenadas proyectadas\n",
    "    bounds_proj = gdf_bounds_utm.total_bounds  # [xmin, ymin, xmax, ymax]\n",
    "    height, width = grid_data.shape\n",
    "\n",
    "    # Calcula la transformación georreferenciada\n",
    "    transform = from_bounds(bounds_proj[0], bounds_proj[1], bounds_proj[2], bounds_proj[3], width, height)\n",
    "\n",
    "    with rasterio.open(\n",
    "        filename,\n",
    "        'w',\n",
    "        driver='GTiff',\n",
    "        height=height,\n",
    "        width=width,\n",
    "        count=1,\n",
    "        dtype=grid_data.dtype,\n",
    "        crs=CRS.from_epsg(crs_epsg),\n",
    "        transform=transform,\n",
    "        compress='lzw'\n",
    "    ) as dst:\n",
    "        dst.write(grid_data, 1)\n",
    "        dst.set_band_description(1, 'Densidad Poblacional Kriging')\n",
    "\n"
   ]
  },
  {
   "cell_type": "code",
   "execution_count": null,
   "id": "f27e36f1",
   "metadata": {},
   "outputs": [],
   "source": [
    "# Exportar superficie interpolada\n",
    "export_to_geotiff(grid_z, gdf_bounds_4326, 'kriging_densidad_poblacional.tif', 3857)"
   ]
  },
  {
   "cell_type": "markdown",
   "id": "0f418dfc",
   "metadata": {},
   "source": [
    "# Etapa 5 : superposición de mapas de densidad y peligrosidad de inundación de la ciudad de La Plata (QGIS)."
   ]
  }
 ],
 "metadata": {
  "kernelspec": {
   "display_name": "Python 3",
   "language": "python",
   "name": "python3"
  },
  "language_info": {
   "codemirror_mode": {
    "name": "ipython",
    "version": 3
   },
   "file_extension": ".py",
   "mimetype": "text/x-python",
   "name": "python",
   "nbconvert_exporter": "python",
   "pygments_lexer": "ipython3",
   "version": "3.10.12"
  }
 },
 "nbformat": 4,
 "nbformat_minor": 5
}
