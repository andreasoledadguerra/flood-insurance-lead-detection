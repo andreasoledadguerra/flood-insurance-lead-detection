{
 "cells": [
  {
   "cell_type": "code",
   "execution_count": null,
   "id": "b198aec0",
   "metadata": {},
   "outputs": [
    {
     "ename": "ImportError",
     "evalue": "cannot import name 'polygon_to_geodataframe' from 'flood_density.preprocess' (/home/andy/projects/flood-insurance-lead-detection/flood_density/preprocess.py)",
     "output_type": "error",
     "traceback": [
      "\u001b[0;31m---------------------------------------------------------------------------\u001b[0m",
      "\u001b[0;31mImportError\u001b[0m                               Traceback (most recent call last)",
      "Cell \u001b[0;32mIn[1], line 18\u001b[0m\n\u001b[1;32m     16\u001b[0m \u001b[38;5;28;01mfrom\u001b[39;00m \u001b[38;5;21;01msklearn\u001b[39;00m\u001b[38;5;21;01m.\u001b[39;00m\u001b[38;5;21;01mgaussian_process\u001b[39;00m\u001b[38;5;21;01m.\u001b[39;00m\u001b[38;5;21;01mkernels\u001b[39;00m \u001b[38;5;28;01mimport\u001b[39;00m RBF, WhiteKernel, ConstantKernel\n\u001b[1;32m     17\u001b[0m \u001b[38;5;28;01mfrom\u001b[39;00m \u001b[38;5;21;01mflood_density\u001b[39;00m\u001b[38;5;21;01m.\u001b[39;00m\u001b[38;5;21;01mplots\u001b[39;00m \u001b[38;5;28;01mimport\u001b[39;00m plot_gdf, city_bounds_and_density_plot\n\u001b[0;32m---> 18\u001b[0m \u001b[38;5;28;01mfrom\u001b[39;00m \u001b[38;5;21;01mflood_density\u001b[39;00m\u001b[38;5;21;01m.\u001b[39;00m\u001b[38;5;21;01mpreprocess\u001b[39;00m \u001b[38;5;28;01mimport\u001b[39;00m convert_kml_to_gdf, export_to_geojson, get_bounds_xy_min_max, extract_bounds_polygon, polygon_to_geodataframe, extract_city_data, coordinates_to_box,points_geocoordinates,convert_points_in_gdf, extract_city_bounds_from_df_to_gdf , gdf_to_geojson, clip_density_to_urban_area\n\u001b[1;32m     20\u001b[0m \u001b[38;5;28;01mfrom\u001b[39;00m \u001b[38;5;21;01mtyping\u001b[39;00m \u001b[38;5;28;01mimport\u001b[39;00m List, Tuple, Callable\n\u001b[1;32m     22\u001b[0m CRS_4326 \u001b[38;5;241m=\u001b[39m \u001b[38;5;241m4326\u001b[39m\n",
      "\u001b[0;31mImportError\u001b[0m: cannot import name 'polygon_to_geodataframe' from 'flood_density.preprocess' (/home/andy/projects/flood-insurance-lead-detection/flood_density/preprocess.py)"
     ]
    }
   ],
   "source": [
    "import pandas as pd\n",
    "import geopandas as gpd\n",
    "import fiona\n",
    "import matplotlib.pyplot as plt\n",
    "import numpy as np\n",
    "import contextily as ctx\n",
    "import rasterio\n",
    "from rasterio.crs import CRS\n",
    "from rasterio.transform import from_bounds\n",
    "from shapely import force_2d\n",
    "from shapely.geometry import box, Point, Polygon, MultiPolygon\n",
    "from scipy.spatial import cKDTree\n",
    "from sklearn.gaussian_process import GaussianProcessRegressor\n",
    "from pykrige.rk import Krige\n",
    "from pykrige.ok import OrdinaryKriging\n",
    "from sklearn.gaussian_process.kernels import RBF, WhiteKernel, ConstantKernel\n",
    "from flood_density.plots import plot_gdf, city_bounds_and_density_plot\n",
    "from flood_density.preprocess import convert_kml_to_gdf, export_to_geojson, get_bounds_xy_min_max, extract_bounds_polygon, polygon_to_gdf, extract_city_data, coordinates_to_box,points_geocoordinates,convert_points_in_gdf, extract_city_bounds_from_df_to_gdf , gdf_to_geojson, clip_density_to_urban_area\n",
    "\n",
    "from typing import List, Tuple, Callable\n",
    "\n",
    "CRS_4326 = 4326\n"
   ]
  },
  {
   "cell_type": "markdown",
   "id": "483e96eb",
   "metadata": {},
   "source": [
    "# Etapa 1 : Obtener datos .kml de la ciudad de La Plata."
   ]
  },
  {
   "cell_type": "code",
   "execution_count": null,
   "id": "12fd2d65",
   "metadata": {},
   "outputs": [],
   "source": [
    "gdf_from_kml = convert_kml_to_gdf('laplata_cascourbano.kml')"
   ]
  },
  {
   "cell_type": "code",
   "execution_count": null,
   "id": "7af9d9e2",
   "metadata": {},
   "outputs": [],
   "source": [
    "gdf_peligrosidad = export_to_geojson(gdf_from_kml, 'laplata_cascourbano.geojson')"
   ]
  },
  {
   "cell_type": "code",
   "execution_count": null,
   "id": "8618c855",
   "metadata": {},
   "outputs": [],
   "source": [
    "plot_peligrosidad = plot_gdf(gdf_peligrosidad)"
   ]
  },
  {
   "cell_type": "markdown",
   "id": "ee7cb6d5",
   "metadata": {},
   "source": [
    "# Etapa 2: Obtener las coordenadas de los puntos de la ciudad, formamos un polígono y luego, transformamos a un gdf.\n"
   ]
  },
  {
   "cell_type": "code",
   "execution_count": null,
   "id": "8f11c23e",
   "metadata": {},
   "outputs": [],
   "source": [
    "#¿Cómo obtengo bounds_dict? son coordenadas de la ciudad de La Plata Desde el archivo geojson"
   ]
  },
  {
   "cell_type": "code",
   "execution_count": null,
   "id": "9144d7c1",
   "metadata": {},
   "outputs": [],
   "source": [
    "#Extraemos las coordenadas geográficas de la ciudad \n",
    "city_bounds_coordinates= get_bounds_xy_min_max(gdf_peligrosidad)\n",
    "city_bounds_coordinates"
   ]
  },
  {
   "cell_type": "code",
   "execution_count": null,
   "id": "0ed0639a",
   "metadata": {},
   "outputs": [],
   "source": [
    "# Convertimos las coordenadas de la ciudad a un box\n",
    "boxx = coordinates_to_box(city_bounds_coordinates)"
   ]
  },
  {
   "cell_type": "code",
   "execution_count": null,
   "id": "4d6757a7",
   "metadata": {},
   "outputs": [],
   "source": [
    "#Usar el dataframe del polígono que forma las coordenadas de la LP\n",
    "gdf_la_plata_from_polygon = gpd.GeoDataFrame({'geometry': [boxx]}, crs='EPSG:4326')"
   ]
  },
  {
   "cell_type": "code",
   "execution_count": null,
   "id": "e0d3d5a6",
   "metadata": {},
   "outputs": [],
   "source": [
    "# Convertir a EPSG 32721 (UTM zona 21S)\n",
    "gdf_la_plata_from_polygon = gdf_la_plata_from_polygon.to_crs(epsg=32721)"
   ]
  },
  {
   "cell_type": "markdown",
   "id": "5b5fdf1d",
   "metadata": {},
   "source": [
    "# Etapa 3 : Obtener y transformar datos de densidad poblacional de la ciudad de La Plata."
   ]
  },
  {
   "cell_type": "markdown",
   "id": "6d01b12a",
   "metadata": {},
   "source": [
    "Primero extraemos las filas que pertenecen a la ciudad de La Plata(sigue siendo un .csv), luego convertimos ese dataframe en un geodataframe."
   ]
  },
  {
   "cell_type": "code",
   "execution_count": null,
   "id": "30c382e9",
   "metadata": {},
   "outputs": [],
   "source": [
    "#Levantamos el dataset completo\n",
    "df_arg = pd.read_csv(\"arg_pd_2020_1km_ASCII_XYZ.csv\") "
   ]
  },
  {
   "cell_type": "code",
   "execution_count": null,
   "id": "ea374d82",
   "metadata": {},
   "outputs": [],
   "source": [
    "# Extraemos las filas referidas a la ciudad de La Plata\n",
    "df_lp_coordinates = extract_city_data(df_arg,'la_plata',city_bounds_coordinates)\n",
    "df_lp_coordinates"
   ]
  },
  {
   "cell_type": "code",
   "execution_count": null,
   "id": "eb2c4159",
   "metadata": {},
   "outputs": [],
   "source": [
    "#Leemos los datos específicos de la ciudad de La Plata\n",
    "df_lp_coordinates = pd.read_csv('la_plata_population_2020.csv')\n",
    "df_lp_coordinates\n"
   ]
  },
  {
   "cell_type": "code",
   "execution_count": null,
   "id": "d1bb0a21",
   "metadata": {},
   "outputs": [],
   "source": [
    "#Convertir dataframe de los puntos pertenecientes a la ciudad de La Plata en un geodataframe\n",
    "gdf_lp_coordinates = extract_city_bounds_from_df_to_gdf(df_lp_coordinates, 'Y','X')"
   ]
  },
  {
   "cell_type": "code",
   "execution_count": null,
   "id": "4e26435e",
   "metadata": {},
   "outputs": [],
   "source": [
    "# Extraemos las coordenadas de los puntos dentro de la ciudad de La Plata\n",
    "casco_urbano = clip_density_to_urban_area(gdf_lp_coordinates,gdf_peligrosidad)"
   ]
  },
  {
   "cell_type": "code",
   "execution_count": null,
   "id": "04b6bb0b",
   "metadata": {},
   "outputs": [],
   "source": [
    "# Reproyectar a EPSG 32721 (UTM zona 21S)\n",
    "casco_urbano_utm = casco_urbano.to_crs(epsg=32721)\n",
    "casco_urbano_utm"
   ]
  },
  {
   "cell_type": "code",
   "execution_count": null,
   "id": "8d6b2bbb",
   "metadata": {},
   "outputs": [],
   "source": [
    "# Calcular centroides en el CRS proyectado\n",
    "centroides = casco_urbano_utm.geometry.centroid"
   ]
  },
  {
   "cell_type": "code",
   "execution_count": null,
   "id": "0d3d75a3",
   "metadata": {},
   "outputs": [],
   "source": [
    "# Convertir centroides a un array de coordenadas\n",
    "coords_centroides = np.array([[pt.x, pt.y] for pt in centroides])"
   ]
  },
  {
   "cell_type": "code",
   "execution_count": null,
   "id": "5bc92af3",
   "metadata": {},
   "outputs": [],
   "source": [
    "# Extraer densidades de casco_urbano_utm\n",
    "values_density_lp = casco_urbano_utm['Z'].values"
   ]
  },
  {
   "cell_type": "code",
   "execution_count": null,
   "id": "9f3fc49b",
   "metadata": {},
   "outputs": [],
   "source": [
    "#Extraer los límites del polígono de la ciudad de La Plata\n",
    "bounds_lp = gdf_la_plata_from_polygon.total_bounds  # [minx, miny, maxx, maxy]\n",
    "bounds_lp"
   ]
  },
  {
   "cell_type": "code",
   "execution_count": null,
   "id": "45acc12b",
   "metadata": {},
   "outputs": [],
   "source": [
    "fig, ax = plt.subplots(figsize=(8, 6))\n",
    "sc = ax.scatter(coords_centroides[:, 0], coords_centroides[:, 1],\n",
    "                c=values_density_lp, s=100,\n",
    "                cmap='viridis', alpha=0.9,\n",
    "                edgecolor='black', linewidth=1,\n",
    "                marker='o')\n",
    "\n",
    "plt.colorbar(sc, ax=ax, label='Densidad')\n",
    "ax.set_title(\"Centroides (EPSG:32721)\")\n",
    "plt.show()"
   ]
  },
  {
   "cell_type": "markdown",
   "id": "4240c2cf",
   "metadata": {},
   "source": [
    "# Etapa 4 : Merge polígono y zona de densidad de la ciudad de La Plata en un plot para corroborar consistencia geográfica."
   ]
  },
  {
   "cell_type": "code",
   "execution_count": null,
   "id": "79b4a2c4",
   "metadata": {},
   "outputs": [],
   "source": [
    "city_bounds_and_density_plot(gdf_la_plata_from_polygon, coords_centroides, values_density_lp, bounds_lp)"
   ]
  },
  {
   "cell_type": "markdown",
   "id": "958243ae",
   "metadata": {},
   "source": [
    "# Etapa 5 :  Visualización de la densidad poblacional de La Plata usando kriging."
   ]
  },
  {
   "cell_type": "code",
   "execution_count": null,
   "id": "5980123c",
   "metadata": {},
   "outputs": [],
   "source": [
    "casco_urbano_utm"
   ]
  },
  {
   "cell_type": "code",
   "execution_count": null,
   "id": "b87f428f",
   "metadata": {},
   "outputs": [],
   "source": [
    "values_density_lp = casco_urbano_utm['Z'].values"
   ]
  },
  {
   "cell_type": "code",
   "execution_count": null,
   "id": "41522bcd",
   "metadata": {},
   "outputs": [],
   "source": [
    "# 1. Preparar los datos (se queda)\n",
    "\n",
    "def prepare_data(gdf: gpd.GeoDataFrame, value_column: str):\n",
    "    coords = np.array([[point.x, point.y] for point in gdf.geometry.centroid])\n",
    "    values = gdf[value_column].values\n",
    "    print(f\"Datos de entrada: {len(coords)}\")\n",
    "    print(f\"Rango de valores: {values.min():.2f} - {values.max():.2f}\")\n",
    "    return coords, values"
   ]
  },
  {
   "cell_type": "code",
   "execution_count": null,
   "id": "bab5688a",
   "metadata": {},
   "outputs": [],
   "source": [
    "prepare_data(casco_urbano_utm, 'Z')"
   ]
  },
  {
   "cell_type": "code",
   "execution_count": null,
   "id": "1171210a",
   "metadata": {},
   "outputs": [],
   "source": [
    "# 2. Ajustar el modelo de Kriging\n",
    "#def fit_kriging(coords: np.ndarray, values: np.ndarray) -> OrdinaryKriging:\n",
    "#    OK = OrdinaryKriging(\n",
    "#        coords[:,0], coords[:,1], values,\n",
    "#        variogram_model='gaussian',\n",
    "#        verbose=False,\n",
    "#        enable_plotting=False\n",
    "#    )\n",
    "#    return OK"
   ]
  },
  {
   "cell_type": "code",
   "execution_count": null,
   "id": "5362f5f5",
   "metadata": {},
   "outputs": [],
   "source": [
    "#model_fit_kriging = fit_kriging(coords_centroides, values_density_lp)"
   ]
  },
  {
   "cell_type": "code",
   "execution_count": null,
   "id": "33b69140",
   "metadata": {},
   "outputs": [],
   "source": [
    "# 3. Crear malla para interpolar\n",
    "#def create_grid(bounds: Tuple[float, float, float, float], step: int = 100) -> Tuple[np.ndarray, np.ndarray]:\n",
    "#    x = np.linspace(bounds[0], bounds[1], step)\n",
    "#    y = np.linspace(bounds[2], bounds[3], step)\n",
    "#    grid_x, grid_y = np.meshgrid(x, y)\n",
    "#    return grid_x, grid_y"
   ]
  },
  {
   "cell_type": "code",
   "execution_count": null,
   "id": "27d5f060",
   "metadata": {},
   "outputs": [],
   "source": [
    "#grid = create_grid(bounds_lp, step=100)"
   ]
  },
  {
   "cell_type": "code",
   "execution_count": null,
   "id": "03944a9f",
   "metadata": {},
   "outputs": [],
   "source": [
    "##def interpolate_grid(bounds: Tuple[float, float, float, float], step: int = 100) -> Tuple[np.ndarray, np.ndarray]:\n",
    "#    \"\"\"\n",
    "#    Genera las coordenadas de la malla donde luego se predicen valores con OrdinaryKriging.\n",
    "#    \"\"\"\n",
    "#    x = np.linspace(bounds[0], bounds[1], step)\n",
    "#    y = np.linspace(bounds[2], bounds[3], step)\n",
    "#    grid_x, grid_y = np.meshgrid(x, y)\n",
    "#    return grid_x, grid_y\n"
   ]
  },
  {
   "cell_type": "code",
   "execution_count": null,
   "id": "0925288c",
   "metadata": {},
   "outputs": [],
   "source": [
    "#grid_x, grid_y = interpolate_grid(bounds_lp, step=100)\n"
   ]
  },
  {
   "cell_type": "code",
   "execution_count": null,
   "id": "7f2c748a",
   "metadata": {},
   "outputs": [],
   "source": [
    "#def predict_grid(model: OrdinaryKriging, grid_x: np.ndarray, grid_y: np.ndarray) -> Tuple[np.ndarray, np.ndarray]:\n",
    "#    \"\"\"\n",
    "#    Predice valores e incertidumbres en un grid usando OrdinaryKriging.\n",
    "#    \"\"\"\n",
    "#    z, ss = model.execute('grid', grid_x[0], grid_y[:,0])\n",
    "#    return z, ss\n"
   ]
  },
  {
   "cell_type": "code",
   "execution_count": null,
   "id": "731fafa2",
   "metadata": {},
   "outputs": [],
   "source": [
    "#predict_grid(model_fit_kriging, grid_x, grid_y)"
   ]
  },
  {
   "cell_type": "code",
   "execution_count": null,
   "id": "fc72ecdd",
   "metadata": {},
   "outputs": [],
   "source": [
    "#def plot_kriging_results_with_basemap(gdf: gpd.GeoDataFrame, \n",
    "#                                      coords: np.ndarray, \n",
    "#                                      bounds: Tuple[float, float, float, float], \n",
    "#                                      grid_x: np.ndarray, \n",
    "#                                      grid_y: np.ndarray, \n",
    "#                                      model: OrdinaryKriging, \n",
    "#                                      predict_fn: Callable[[OrdinaryKriging, np.ndarray, np.ndarray], Tuple[np.ndarray, np.ndarray]]) -> plt.Figure:\n",
    "#\n",
    "#    fig, ax = plt.subplots(figsize=(10, 10))\n",
    "#\n",
    "#    # Obtener la superficie interpolada desde la función predict_fn\n",
    "#    grid_z, ss = predict_fn(model, grid_x, grid_y)\n",
    "#    \n",
    "#    # Plotear superficie Kriging interpolada\n",
    "#    contour = ax.contourf(grid_x, grid_y, grid_z, levels=30, cmap='viridis', alpha=0.5)\n",
    "#    \n",
    "#\n",
    "#    # Plotear los polígonos originales\n",
    "#    casco_urbano_utm.plot(column='Z', \n",
    "#               cmap='viridis',\n",
    "#               alpha=0.5,\n",
    "#               edgecolor='black',\n",
    "#               linewidth=1.0,\n",
    "#               ax=ax)\n",
    "#\n",
    "#    # Plotear los polígonos originales con bordes\n",
    "#    casco_urbano_utm.plot(column='Z', \n",
    "#               cmap='viridis',\n",
    "#               alpha=0.5,\n",
    "#               edgecolor='black',\n",
    "#               linewidth=1.0,\n",
    "#               ax=ax)\n",
    "#\n",
    "#    # Plotear los puntos centroides\n",
    "#    scatter = ax.scatter(coords[:, 0], coords[:, 1],\n",
    "#                    c=gdf['Z'],\n",
    "#                    cmap='viridis',\n",
    "#                    s=30,\n",
    "#                    edgecolors='black',\n",
    "#                    linewidths=1,\n",
    "#                    zorder=5)\n",
    "#\n",
    "#    # Ajustar límites del gráfico según los límites de La Plata\n",
    "#    ax.set_xlim(bounds[0], bounds[2])\n",
    "#    ax.set_ylim(bounds[1], bounds[3])\n",
    "#\n",
    "#    #Mapa base más sutil\n",
    "#    ctx.add_basemap(ax, crs=casco_urbano_utm.crs.to_string(),\n",
    "#                   source=ctx.providers.CartoDB.Positron,\n",
    "#                   alpha = 0.9)\n",
    "#\n",
    "#    # Agregar colorbar para el scatter\n",
    "#    plt.colorbar(scatter, ax=ax, label='Densidad poblacional',shrink=0.7, aspect=25)\n",
    "#\n",
    "#    # Agregar título y etiquetas\n",
    "#    ax.set_title('Interpolación Kriging - Densidad Poblacional La Plata')\n",
    "#    ax.set_xlabel('X (UTM)')\n",
    "#    ax.set_ylabel('Y (UTM)')\n",
    "#\n",
    "#    plt.tight_layout()\n",
    "#    plt.show()\n",
    "#"
   ]
  },
  {
   "cell_type": "code",
   "execution_count": null,
   "id": "8812e99d",
   "metadata": {},
   "outputs": [],
   "source": [
    "#plot_kriging_results_with_basemap(casco_urbano_utm, coords_centroides, bounds_lp, grid_x, grid_y, model_fit_kriging, predict_grid)"
   ]
  },
  {
   "cell_type": "code",
   "execution_count": null,
   "id": "f92491a3",
   "metadata": {},
   "outputs": [],
   "source": [
    "# 5. Pipeline principal\n",
    "#def run_kriging_pipeline(geodf, value_column, bounds, step=100):\n",
    "#    coords, values = prepare_data(geodf, value_column)\n",
    "#    model = fit_kriging(coords, values)\n",
    "#    grid_xx, grid_yy, z = interpolate_grid(model, bounds, step)\n",
    "#    plot_kriging_results(grid_xx, grid_yy, z, coords, values, bounds)"
   ]
  },
  {
   "cell_type": "markdown",
   "id": "92d9847f",
   "metadata": {},
   "source": [
    "----------------------------------------------------------------------------------------------------------------------------------------------------"
   ]
  },
  {
   "cell_type": "code",
   "execution_count": null,
   "id": "e59bc47c",
   "metadata": {},
   "outputs": [],
   "source": [
    "# 2. Ajustar el modelo de Kriging\n",
    "\n",
    "def create_kriging_kernel(constant_value=1.0, length_scale=1000.0, noise_level=0.1,\n",
    "                         length_scale_bounds=(1e-5, 1e5), noise_level_bounds=(1e-10, 1e3)):\n",
    "    \"\"\"\n",
    "    Crea un kernel para un modelo de Kriging (Gaussian Process).\n",
    "    \n",
    "    El kernel resultante tiene la forma: C * RBF + WhiteKernel\n",
    "    donde C es una constante, RBF es el kernel de función de base radial,\n",
    "    y WhiteKernel modela el ruido en las observaciones.\n",
    "    \n",
    "    Parámetros:\n",
    "    -----------\n",
    "    constant_value : float, default=1.0\n",
    "        Valor inicial del ConstantKernel (amplitud del proceso)\n",
    "    length_scale : float, default=1000.0\n",
    "        Valor inicial del RBF kernel (escala de correlación espacial)\n",
    "    noise_level : float, default=0.1\n",
    "        Valor inicial del WhiteKernel (nivel de ruido)\n",
    "    length_scale_bounds : tuple, default=(1e-5, 1e5)\n",
    "        Límites para optimización del parámetro length_scale del RBF\n",
    "    noise_level_bounds : tuple, default=(1e-10, 1e3)\n",
    "        Límites para optimización del parámetro noise_level del WhiteKernel\n",
    "    \n",
    "    Returns:\n",
    "    --------\n",
    "    kernel : sklearn.gaussian_process.kernels.Kernel\n",
    "        Objeto kernel listo para usar en GaussianProcessRegressor\n",
    "\n",
    "    \"\"\"\n",
    "    # Kernel constante (amplitud)\n",
    "    constant_kernel = ConstantKernel(constant_value, constant_value_bounds=\"fixed\")\n",
    "    \n",
    "    # Kernel RBF (correlación espacial)\n",
    "    rbf_kernel = RBF(length_scale=length_scale, length_scale_bounds=length_scale_bounds)\n",
    "    \n",
    "    # Kernel de ruido\n",
    "    noise_kernel = WhiteKernel(noise_level=noise_level, noise_level_bounds=noise_level_bounds)\n",
    "    \n",
    "    # Combinar kernels: (Constante * RBF) + Ruido\n",
    "    kernel = constant_kernel * rbf_kernel + noise_kernel\n",
    "    \n",
    "    return kernel"
   ]
  },
  {
   "cell_type": "code",
   "execution_count": null,
   "id": "94e80be5",
   "metadata": {},
   "outputs": [],
   "source": [
    "kernel = create_kriging_kernel()\n",
    "print(kernel)\n"
   ]
  },
  {
   "cell_type": "code",
   "execution_count": null,
   "id": "5884d6bd",
   "metadata": {},
   "outputs": [],
   "source": [
    "# 3. Generar el modelo GaussianProcessRegressor\n",
    "def gaussian_process_regressor(kernel = kernel, coords: np.ndarray, values: np.ndarray) -> GaussianProcessRegressor:\n",
    "    gpr = GaussianProcessRegressor(kernel=kernel, alpha=1e-6, n_restarts_optimizer=10)\n",
    "    gpr.fit(coords, values)\n",
    "    return gpr"
   ]
  },
  {
   "cell_type": "code",
   "execution_count": null,
   "id": "1f2b0018",
   "metadata": {},
   "outputs": [],
   "source": [
    "# 4. Crear malla para interpolar\n",
    "\n",
    "#def create_grid(bounds: Tuple[float, float, float, float], step: int = 100) -> Tuple[np.ndarray, np.ndarray]:\n",
    "#    x = np.linspace(bounds[0], bounds[1], step)\n",
    "#    y = np.linspace(bounds[2], bounds[3], step)\n",
    "#    grid_x, grid_y = np.meshgrid(x, y)\n",
    "#    return grid_x, grid_y\n",
    "\n",
    "\n",
    "def create_grid(bounds: Tuple[float, float, float, float], step: int = 100) -> Tuple[np.ndarray, np.ndarray]:\n",
    "    grid_x, grid_y = np.mgrid[bounds[0]:bounds[2]:100j, bounds[1]:bounds[3]:100j]\n",
    "    grid_coords = np.column_stack([grid_x.ravel(), grid_y.ravel()])\n",
    "    return grid_x, grid_y, grid_coords"
   ]
  },
  {
   "cell_type": "code",
   "execution_count": null,
   "id": "053afc2d",
   "metadata": {},
   "outputs": [],
   "source": [
    "# Visualización de la densidad poblacional de La Plata usando kriging\n",
    "\n",
    "# Extraer coordenadas y valores desde el GeoDataFrame\n",
    "coords =np.array([[point.x, point.y] for point in casco_utm.geometry.centroid])\n",
    "values = casco_urbano['densidad_poblacional_lp'].values\n",
    "\n",
    "print(f\"Puntos de datos: {len(coords)}\")\n",
    "print(f\"Rango de valores: {values.min():.2f} - {values.max():.2f}\")\n",
    "\n",
    "#Definir kernel para el modelo de kriging\n",
    "kernel = (ConstantKernel(1.0) * RBF(length_scale=1000.0) + \n",
    "          WhiteKernel(noise_level=0.1, noise_level_bounds=(1e-10, 1e3)))\n",
    "\n",
    "# Crear modelo de kriging\n",
    "gpr = GaussianProcessRegressor(kernel=kernel,\n",
    "                                n_restarts_optimizer=10,\n",
    "                                alpha=1e-04,\n",
    "                                normalize_y=True)\n",
    "\n",
    "# Crear grid de puntos para interpolación\n",
    "bounds_casco_lp = casco_utm.total_bounds\n",
    "grid_x, grid_y = np.mgrid[bounds_casco_lp[0]:bounds_casco_lp[2]:100j, bounds_casco_lp[1]:bounds_casco_lp[3]:100j]\n",
    "grid_coords = np.column_stack([grid_x.ravel(), grid_y.ravel()])\n",
    "\n",
    "\n",
    "\n",
    "# Entrenar el modelo\n",
    "gpr.fit(coords, values)\n",
    "\n",
    "#Predecir en el grid\n",
    "grid_2_kriging, pred_std = gpr.predict(grid_coords, return_std=True)\n",
    "grid_z = grid_2_kriging.reshape(grid_x.shape)\n",
    "grid_uncertainty = pred_std.reshape(grid_x.shape)\n",
    "\n",
    "# Visualización de la superficie Kriging interpolada\n",
    "fig, ax = plt.subplots(figsize=(8, 10))\n",
    "\n",
    "# Plotear superficie Kriging interpolada\n",
    "contour = ax.contourf(grid_x, grid_y, grid_z, levels=30, cmap='viridis', alpha=0.7)\n",
    "\n",
    "# Plotear los polígonos originales con bordes\n",
    "casco_utm.plot(column='densidad_poblacional_lp', \n",
    "               cmap='viridis',\n",
    "               alpha=0.5,\n",
    "               edgecolor='black',\n",
    "               linewidth=1.0,\n",
    "               ax=ax)\n",
    "\n",
    "# Plotear los puntos centroides\n",
    "scatter = ax.scatter(coords[:, 0], coords[:, 1],\n",
    "                    c=values,\n",
    "                    cmap='viridis',\n",
    "                    s=30,\n",
    "                    edgecolors='black',\n",
    "                    linewidths=1,\n",
    "                    zorder=5)\n",
    "\n",
    "#Mapa base más sutil\n",
    "ctx.add_basemap(ax, crs=casco_utm.crs.to_string(),\n",
    "               source=ctx.providers.CartoDB.Positron,\n",
    "               alpha = 0.9)\n",
    "\n",
    "# Agregar colorbar para el scatter\n",
    "plt.colorbar(scatter, ax=ax, label='Densidad poblacional',shrink=0.7, aspect=25)\n",
    "\n",
    "# Agregar título y etiquetas\n",
    "ax.set_title('Interpolación Kriging - Densidad Poblacional La Plata')\n",
    "ax.set_xlabel('X (UTM)')\n",
    "ax.set_ylabel('Y (UTM)')\n",
    "\n",
    "plt.tight_layout()\n",
    "plt.show()\n"
   ]
  },
  {
   "cell_type": "code",
   "execution_count": null,
   "id": "080adb80",
   "metadata": {},
   "outputs": [],
   "source": [
    "def export_to_geotiff(grid_data: np.ndarray, gdf: gpd.GeoDataFrame,  crs_epsg: int = 32721):\n",
    "\n",
    "     # Crear un GeoDataFrame con los límites del área de La Plata en EPSG:4326\n",
    "    boxx = coordinates_to_box(city_bounds_coordinates) \n",
    "    gdf_la_plata_from_polygon = gpd.GeoDataFrame({'geometry': [boxx]}, crs='EPSG:4326')\n",
    "    \n",
    "    # Transformar al CRS del plot\n",
    "    gdf_la_plata_from_polygon = gdf_la_plata_from_polygon.to_crs(epsg=32721)\n",
    "\n",
    "    # Obtener límites en coordenadas proyectadas\n",
    "    bounds_proj = gdf_la_plata_from_polygon.total_bounds  # [xmin, ymin, xmax, ymax]\n",
    "    height, width = grid_data.shape\n",
    "\n",
    "    # Calcula la transformación georreferenciada\n",
    "    transform = from_bounds(bounds_proj[0], bounds_proj[1], bounds_proj[2], bounds_proj[3], width, height)\n",
    "\n",
    "    with rasterio.open(\n",
    "        filename,\n",
    "        'w',\n",
    "        driver='GTiff',\n",
    "        height=height,\n",
    "        width=width,\n",
    "        count=1,\n",
    "        dtype=grid_data.dtype,\n",
    "        crs=CRS.from_epsg(crs_epsg),\n",
    "        transform=transform,\n",
    "        compress='lzw'\n",
    "    ) as dst:\n",
    "        dst.write(grid_data, 1)\n",
    "        dst.set_band_description(1, 'Densidad Poblacional Kriging')\n",
    "\n"
   ]
  },
  {
   "cell_type": "code",
   "execution_count": null,
   "id": "f27e36f1",
   "metadata": {},
   "outputs": [],
   "source": [
    "# Exportar superficie interpolada\n",
    "export_to_geotiff(grid_z, gdf_la_plata_from_polygon, 32721)"
   ]
  },
  {
   "cell_type": "markdown",
   "id": "0f418dfc",
   "metadata": {},
   "source": [
    "# Etapa 5 : superposición de mapas de densidad y peligrosidad de inundación de la ciudad de La Plata (QGIS)."
   ]
  }
 ],
 "metadata": {
  "kernelspec": {
   "display_name": "Python 3",
   "language": "python",
   "name": "python3"
  },
  "language_info": {
   "codemirror_mode": {
    "name": "ipython",
    "version": 3
   },
   "file_extension": ".py",
   "mimetype": "text/x-python",
   "name": "python",
   "nbconvert_exporter": "python",
   "pygments_lexer": "ipython3",
   "version": "3.10.12"
  }
 },
 "nbformat": 4,
 "nbformat_minor": 5
}
