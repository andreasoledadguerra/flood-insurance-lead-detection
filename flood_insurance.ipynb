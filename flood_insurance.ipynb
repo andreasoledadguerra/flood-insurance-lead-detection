{
 "cells": [
  {
   "cell_type": "code",
   "execution_count": 1,
   "id": "b198aec0",
   "metadata": {},
   "outputs": [],
   "source": [
    "import pandas as pd\n",
    "import geopandas as gpd\n",
    "import fiona\n",
    "import matplotlib.pyplot as plt\n",
    "import numpy as np\n",
    "import contextily as ctx\n",
    "import rasterio\n",
    "from rasterio.crs import CRS\n",
    "from rasterio.transform import from_bounds\n",
    "from shapely import force_2d\n",
    "from shapely.geometry import box, Point, Polygon, MultiPolygon\n",
    "from scipy.spatial import cKDTree\n",
    "from sklearn.gaussian_process import GaussianProcessRegressor\n",
    "from sklearn.gaussian_process.kernels import RBF, WhiteKernel, ConstantKernel\n",
    "from flood_density.plots import convert_kml_to_geojson\n",
    "from flood_density.preprocess import get_bounds_xy_min_max, extract_bounds_polygon, polygon_to_geodataframe, extract_city_data, coordinates_to_box,points_geocoordinates,convert_points_in_gdf, extract_city_bounds_from_df_to_gdf , gdf_to_geojson\n",
    "\n",
    "from typing import List, Tuple\n",
    "\n",
    "CRS_4326 = 4326\n"
   ]
  },
  {
   "cell_type": "markdown",
   "id": "483e96eb",
   "metadata": {},
   "source": [
    "# Etapa 1 : Obtener datos .kml de la ciudad de La Plata."
   ]
  },
  {
   "cell_type": "code",
   "execution_count": null,
   "id": "308ba982",
   "metadata": {},
   "outputs": [],
   "source": [
    "convert_kml_to_geojson(\"laplata_cascourbano.kml\", \"salida.geojson\")"
   ]
  },
  {
   "cell_type": "markdown",
   "id": "ee7cb6d5",
   "metadata": {},
   "source": [
    "# Etapa 2: Obtener las coordenadas de los puntos de la ciudad\n"
   ]
  },
  {
   "cell_type": "code",
   "execution_count": null,
   "id": "8f11c23e",
   "metadata": {},
   "outputs": [],
   "source": [
    "#¿Cómo obtengo bounds_dict? son coordenadas de la ciudad de La Plata Desde el archivo geojson"
   ]
  },
  {
   "cell_type": "code",
   "execution_count": null,
   "id": "8fb521a2",
   "metadata": {},
   "outputs": [],
   "source": [
    "# Cargar el archivo GeoJSON del plot\n",
    "gdf_la_plata = gpd.read_file(\"salida.geojson\")"
   ]
  },
  {
   "cell_type": "code",
   "execution_count": null,
   "id": "9144d7c1",
   "metadata": {},
   "outputs": [],
   "source": [
    "#Extraemos las coordenadas geográficas de la ciudad \n",
    "city_bounds_coordinates= get_bounds_xy_min_max(gdf_la_plata)\n",
    "city_bounds_coordinates"
   ]
  },
  {
   "cell_type": "code",
   "execution_count": null,
   "id": "08f42ab9",
   "metadata": {},
   "outputs": [],
   "source": [
    "# Extraemos el polígono de los límites de la ciudad\n",
    "#polygon_coords = extract_bounds_polygon(city_bounds_coordinates)"
   ]
  },
  {
   "cell_type": "code",
   "execution_count": null,
   "id": "24cdb0b3",
   "metadata": {},
   "outputs": [],
   "source": [
    "#type(polygon_coords)"
   ]
  },
  {
   "cell_type": "code",
   "execution_count": null,
   "id": "348fbb2c",
   "metadata": {},
   "outputs": [],
   "source": [
    "# Convertimos el polígono a un GeoDataFrame\n",
    "#geo_polygon = polygon_to_geodataframe(polygon_coords, CRS_4326)"
   ]
  },
  {
   "cell_type": "code",
   "execution_count": null,
   "id": "7b67e9c6",
   "metadata": {},
   "outputs": [],
   "source": [
    "#def convert_gdf_to_geojson(gdf: gpd.GeoDataFrame, output_file: str) -> None:\n",
    "#    gdf.to_file(output_file, driver='GeoJSON')\n",
    "#        return gdf.plot()"
   ]
  },
  {
   "cell_type": "code",
   "execution_count": null,
   "id": "7d4b0bb5",
   "metadata": {},
   "outputs": [],
   "source": [
    "#convert_gdf_to_geojson(geo_polygon, \"polygon.geojson\")"
   ]
  },
  {
   "cell_type": "code",
   "execution_count": null,
   "id": "11ebfff2",
   "metadata": {},
   "outputs": [],
   "source": [
    "city_bounds_coordinates"
   ]
  },
  {
   "cell_type": "code",
   "execution_count": null,
   "id": "0ed0639a",
   "metadata": {},
   "outputs": [],
   "source": [
    "# Convertimos las coordenadas de la ciudad a un box\n",
    "boxx = coordinates_to_box(city_bounds_coordinates)"
   ]
  },
  {
   "cell_type": "code",
   "execution_count": null,
   "id": "15ed6064",
   "metadata": {},
   "outputs": [],
   "source": [
    "# Create GeoDataFrame from the bounding box\n",
    "gdf_la_plata = gpd.GeoDataFrame({'geometry': [boxx]}, crs='EPSG:4326')\n",
    "\n",
    "# Display the result\n",
    "#gdf_la_plata.to_file(\"la_plata_bounds.geojson\", driver='GeoJSON')"
   ]
  },
  {
   "cell_type": "markdown",
   "id": "5b5fdf1d",
   "metadata": {},
   "source": [
    "# Etapa 3 : Obtener y transformar datos de densidad poblacional de la ciudad de La Plata."
   ]
  },
  {
   "cell_type": "markdown",
   "id": "6d01b12a",
   "metadata": {},
   "source": [
    "Primero extraemos las filas que pertenecen a la ciudad de La Plata(sigue siendo un .csv), luego convertimos ese dataframe en un geodataframe."
   ]
  },
  {
   "cell_type": "code",
   "execution_count": null,
   "id": "30c382e9",
   "metadata": {},
   "outputs": [],
   "source": [
    "#Levantamos el dataset completo\n",
    "df_arg = pd.read_csv(\"arg_pd_2020_1km_ASCII_XYZ.csv\")"
   ]
  },
  {
   "cell_type": "code",
   "execution_count": null,
   "id": "ea374d82",
   "metadata": {},
   "outputs": [],
   "source": [
    "# Extraemos las filas referidas a la ciudad de La Plata\n",
    "df_lp_coordinates = extract_city_data(df_arg,'la_plata',city_bounds_coordinates)\n"
   ]
  },
  {
   "cell_type": "code",
   "execution_count": null,
   "id": "857ac1b7",
   "metadata": {},
   "outputs": [],
   "source": [
    "display(df_lp_coordinates)"
   ]
  },
  {
   "cell_type": "code",
   "execution_count": null,
   "id": "eb2c4159",
   "metadata": {},
   "outputs": [],
   "source": [
    "#Leemos los datos específicos de la ciudad de La Plata\n",
    "df_lp_coordinates = pd.read_csv('la_plata_population_2020.csv')\n"
   ]
  },
  {
   "cell_type": "code",
   "execution_count": null,
   "id": "fbebb4a0",
   "metadata": {},
   "outputs": [],
   "source": [
    "df_lp_coordinates"
   ]
  },
  {
   "cell_type": "code",
   "execution_count": null,
   "id": "d1bb0a21",
   "metadata": {},
   "outputs": [],
   "source": [
    "#Convertir dataframe de los puntos pertenecientes a la ciudad de La Plata en un geodataframe\n",
    "gdf_lp_coordinates = extract_city_bounds_from_df_to_gdf(df_lp_coordinates, 'Y','X')"
   ]
  },
  {
   "cell_type": "code",
   "execution_count": null,
   "id": "e90e6530",
   "metadata": {},
   "outputs": [],
   "source": []
  },
  {
   "cell_type": "code",
   "execution_count": null,
   "id": "5ae5aa31",
   "metadata": {},
   "outputs": [],
   "source": [
    "gdf_lp_coordinates"
   ]
  },
  {
   "cell_type": "code",
   "execution_count": null,
   "id": "88c72973",
   "metadata": {},
   "outputs": [],
   "source": [
    "#TODO : PASAR AL MODULO PREPROCESS.PY UNAVEZ QUE FUNCIONE TODO BIEN\n",
    "def clip_density_to_urban_area(gdf_1: gpd.GeoDataFrame, gdf_2: gpd.GeoDataFrame) -> gpd.GeoDataFrame: \n",
    "    # Usar uniones espaciales para mantener solo puntos dentro del casco urbano\n",
    "    points_in_casco = gpd.sjoin(gdf_1, gdf_2, how='inner', predicate='intersects')\n",
    "    \n",
    "    # Limpiar columnas duplicadas del join \n",
    "    points_in_casco = points_in_casco.drop(columns=[col for col in points_in_casco.columns if col.endswith('_right')]) \n",
    "    \n",
    "    return points_in_casco"
   ]
  },
  {
   "cell_type": "code",
   "execution_count": null,
   "id": "cb4dd587",
   "metadata": {},
   "outputs": [],
   "source": [
    "casco_urbano = clip_density_to_urban_area(gdf_la_plata,gdf_lp_coordinates)"
   ]
  },
  {
   "cell_type": "code",
   "execution_count": null,
   "id": "b95652f5",
   "metadata": {},
   "outputs": [],
   "source": [
    "casco_urbano.head()"
   ]
  },
  {
   "cell_type": "code",
   "execution_count": null,
   "id": "4d406bcf",
   "metadata": {},
   "outputs": [],
   "source": [
    "# Convertir a Web Mercator (sist. de proyección cartográfica EPSG 3857:3d)"
   ]
  },
  {
   "cell_type": "markdown",
   "id": "3b670c9e",
   "metadata": {},
   "source": [
    "# Etapa 4: Manipulación del polígono que encierra el casco de la ciudad de La Plata"
   ]
  },
  {
   "cell_type": "code",
   "execution_count": null,
   "id": "74597007",
   "metadata": {},
   "outputs": [],
   "source": [
    "#Usar el dataframe del polígono que forma las coordenadas de la LP\n",
    "gdf_la_plata_from_polygon = gpd.GeoDataFrame({'geometry': [boxx]}, crs='EPSG:4326')\n"
   ]
  },
  {
   "cell_type": "code",
   "execution_count": null,
   "id": "5ad7c16d",
   "metadata": {},
   "outputs": [],
   "source": [
    "# Convertir a EPSG 32721 (UTM zona 21S)\n",
    "gdf_la_plata_from_polygon = gdf_la_plata_from_polygon.to_crs(epsg=32721)"
   ]
  },
  {
   "cell_type": "markdown",
   "id": "fe542f1f",
   "metadata": {},
   "source": [
    "# Etapa 5 : Extraer los puntos de densidad que pertenecen al casco de la ciudad de La Plata"
   ]
  },
  {
   "cell_type": "code",
   "execution_count": null,
   "id": "e3857728",
   "metadata": {},
   "outputs": [],
   "source": [
    "casco_urbano_2d = casco_urbano.copy()\n",
    "casco_urbano_2d[\"geometry\"] = casco_urbano_2d.geometry.apply(lambda g: shapely.force_2d(g))\n",
    "casco_urbano_utm = casco_urbano_2d.to_crs(epsg=32721)\n",
    "centroides = casco_urbano_utm.geometry.centroid\n"
   ]
  },
  {
   "cell_type": "code",
   "execution_count": null,
   "id": "f2bfdbd3",
   "metadata": {},
   "outputs": [],
   "source": [
    "casco_urbano.head()"
   ]
  },
  {
   "cell_type": "code",
   "execution_count": null,
   "id": "ca0ad567",
   "metadata": {},
   "outputs": [],
   "source": [
    "# Reproyectar a EPSG 32721 (UTM zona 21S)\n",
    "casco_urbano_utm = casco_urbano.to_crs(epsg=32721)"
   ]
  },
  {
   "cell_type": "code",
   "execution_count": null,
   "id": "06d1e63a",
   "metadata": {},
   "outputs": [],
   "source": [
    "casco_urbano_utm.head()"
   ]
  },
  {
   "cell_type": "code",
   "execution_count": null,
   "id": "8d6b2bbb",
   "metadata": {},
   "outputs": [],
   "source": [
    "# Calcular centroides en el CRS proyectado\n",
    "centroides = casco_urbano_utm.geometry.centroid"
   ]
  },
  {
   "cell_type": "code",
   "execution_count": null,
   "id": "f63b4844",
   "metadata": {},
   "outputs": [],
   "source": [
    "centroides"
   ]
  },
  {
   "cell_type": "code",
   "execution_count": null,
   "id": "5bc92af3",
   "metadata": {},
   "outputs": [],
   "source": [
    "# Extraer densidades de casco_urbano_utm\n",
    "values_density = casco_urbano_utm['Z'].values #TODO potential issue with this line"
   ]
  },
  {
   "cell_type": "code",
   "execution_count": null,
   "id": "9f3fc49b",
   "metadata": {},
   "outputs": [],
   "source": [
    "#Extraer los límites del polígono de la ciudad de La Plata\n",
    "bounds = gdf_la_plata_from_polygon.total_bounds  # [minx, miny, maxx, maxy]\n"
   ]
  },
  {
   "cell_type": "markdown",
   "id": "7aab2cc1",
   "metadata": {},
   "source": [
    "#PROBLEMA DETECTADO (Y RESUELTO): bounds no estaba en metros, sino en grados."
   ]
  },
  {
   "cell_type": "markdown",
   "id": "4240c2cf",
   "metadata": {},
   "source": [
    "# Etapa 6 : Merge polígono y zona de densidad de la ciudad de La Plata usando Open Street Map"
   ]
  },
  {
   "cell_type": "code",
   "execution_count": null,
   "id": "97e9dceb",
   "metadata": {},
   "outputs": [],
   "source": [
    "\n",
    "bounds = gdf_la_plata_from_polygon.total_bounds\n",
    "\n",
    "fig, ax = plt.subplots(figsize=(12, 10))\n",
    "\n",
    "try:\n",
    "    ctx.add_basemap(ax, crs='EPSG:32721', \n",
    "                    source=ctx.providers.CartoDB.Positron,\n",
    "                    zoom=12,  # Zoom para área urbana\n",
    "                    alpha=0.7)\n",
    "except Exception as e:\n",
    "    print(f\"Error: {e}\")\n",
    "\n",
    "# Plot polígono\n",
    "gdf_la_plata_from_polygon.plot(ax=ax, facecolor='none', edgecolor='red', \n",
    "                              linewidth=2, alpha=0.8)\n",
    "\n",
    "# Plot puntos de densidad (todos en el mismo lugar)\n",
    "sc = ax.scatter(coords[:, 0], coords[:, 1], \n",
    "                c=values_density, s=100,\n",
    "                cmap='viridis', alpha=0.9, \n",
    "                edgecolor='black', linewidth=1,\n",
    "                marker='o')\n",
    "\n",
    "# Usar bounds del polígono\n",
    "ax.set_xlim(bounds[0], bounds[2])\n",
    "ax.set_ylim(bounds[1], bounds[3])\n",
    "\n",
    "plt.colorbar(sc, ax=ax, label='Densidad Poblacional', shrink=0.8)\n",
    "ax.set_title('Densidad en contexto del Casco Urbano', fontsize=16)\n",
    "plt.tight_layout()\n",
    "plt.show()"
   ]
  },
  {
   "cell_type": "code",
   "execution_count": null,
   "id": "f7f03afe",
   "metadata": {},
   "outputs": [],
   "source": [
    "# Visualización de la densidad poblacional de La Plata usando kriging\n",
    "\n",
    "# Extraer coordenadas de los centroides,y valores desde el GeoDataFrame\n",
    "coords =np.array([[point.x, point.y] for point in casco_utm.geometry.centroid]) \n",
    "values_density = casco_urbano['densidad_poblacional_lp'].values\n",
    "\n",
    "print(f\"Puntos de datos: {len(coords)}\")    \n",
    "print(f\"Rango de valores: {values_density.min():.2f} - {values_density.max():.2f}\")\n",
    "\n",
    "# Crear grid de puntos para interpolación\n",
    "grid_x, grid_y = np.mgrid[bounds_proj[0]:bounds_proj[2]:150j, bounds_proj[1]:bounds_proj[3]:150j]\n",
    "grid_coords = np.column_stack([grid_x.ravel(), grid_y.ravel()])\n",
    "\n",
    "#Definir kernel para el modelo de kriging\n",
    "kernel = (ConstantKernel(1.0) * RBF(length_scale=1000.0) + \n",
    "          WhiteKernel(noise_level=0.1, noise_level_bounds=(1e-10, 1e3)))\n",
    "\n",
    "# Crear modelo de kriging\n",
    "gpr = GaussianProcessRegressor(kernel=kernel,\n",
    "                                n_restarts_optimizer=10,\n",
    "                                alpha=1e-04,\n",
    "                                normalize_y=True)\n",
    "\n",
    "# Entrenar el modelo\n",
    "gpr.fit(coords, values_density)\n",
    "\n",
    "#Predecir en el grid\n",
    "grid_2_kriging, pred_std = gpr.predict(grid_coords, return_std=True)\n",
    "grid_z = grid_2_kriging.reshape(grid_x.shape)\n",
    "grid_uncertainty = pred_std.reshape(grid_x.shape)\n",
    "\n",
    "# Visualización de la superficie Kriging interpolada\n",
    "fig, ax = plt.subplots(figsize=(10, 10))\n",
    "\n",
    "# Plotear superficie Kriging interpolada\n",
    "contour = ax.contourf(grid_x, grid_y, grid_z, levels=30, cmap='viridis', alpha=0.5)\n",
    "\n",
    "# Plotear los polígonos originales con bordes\n",
    "casco_utm.plot(column='densidad_poblacional_lp', \n",
    "               cmap='viridis',\n",
    "               alpha=0.5,\n",
    "               edgecolor='black',\n",
    "               linewidth=1.0,\n",
    "               ax=ax)\n",
    "\n",
    "# Plotear los puntos centroides\n",
    "scatter = ax.scatter(coords[:, 0], coords[:, 1],\n",
    "                    c=values_density,\n",
    "                    cmap='viridis',\n",
    "                    s=30,\n",
    "                    edgecolors='black',\n",
    "                    linewidths=1,\n",
    "                    zorder=5)\n",
    "\n",
    "# Ajustar límites del gráfico según los límites de La Plata\n",
    "ax.set_xlim(bounds_proj[0], bounds_proj[2])\n",
    "ax.set_ylim(bounds_proj[1], bounds_proj[3])\n",
    "\n",
    "#Mapa base más sutil\n",
    "ctx.add_basemap(ax, crs=casco_utm.crs.to_string(),\n",
    "               source=ctx.providers.CartoDB.Positron,\n",
    "               alpha = 0.9)\n",
    "\n",
    "# Agregar colorbar para el scatter\n",
    "plt.colorbar(scatter, ax=ax, label='Densidad poblacional',shrink=0.7, aspect=25)\n",
    "\n",
    "# Agregar título y etiquetas\n",
    "ax.set_title('Interpolación Kriging - Densidad Poblacional La Plata')\n",
    "ax.set_xlabel('X (UTM)')\n",
    "ax.set_ylabel('Y (UTM)')\n",
    "\n",
    "plt.tight_layout()\n",
    "plt.show()"
   ]
  },
  {
   "cell_type": "code",
   "execution_count": null,
   "id": "080adb80",
   "metadata": {},
   "outputs": [],
   "source": [
    "def export_to_geotiff(grid_data: np.ndarray, gdf: gpd.GeoDataFrame, filename: str, crs_epsg: int = 3857):\n",
    "\n",
    "     # Crear un GeoDataFrame con los límites del área de La Plata en EPSG:4326\n",
    "    gdf_bounds_4326 = gpd.GeoDataFrame(geometry=[bbox], crs=\"EPSG:4326\")\n",
    "\n",
    "    # Transformar al CRS del plot\n",
    "    gdf_bounds_utm = gdf_bounds_4326.to_crs(casco_utm.crs)\n",
    "\n",
    "    # Obtener límites en coordenadas proyectadas\n",
    "    bounds_proj = gdf_bounds_utm.total_bounds  # [xmin, ymin, xmax, ymax]\n",
    "    height, width = grid_data.shape\n",
    "\n",
    "    # Calcula la transformación georreferenciada\n",
    "    transform = from_bounds(bounds_proj[0], bounds_proj[1], bounds_proj[2], bounds_proj[3], width, height)\n",
    "\n",
    "    with rasterio.open(\n",
    "        filename,\n",
    "        'w',\n",
    "        driver='GTiff',\n",
    "        height=height,\n",
    "        width=width,\n",
    "        count=1,\n",
    "        dtype=grid_data.dtype,\n",
    "        crs=CRS.from_epsg(crs_epsg),\n",
    "        transform=transform,\n",
    "        compress='lzw'\n",
    "    ) as dst:\n",
    "        dst.write(grid_data, 1)\n",
    "        dst.set_band_description(1, 'Densidad Poblacional Kriging')\n",
    "\n"
   ]
  },
  {
   "cell_type": "code",
   "execution_count": null,
   "id": "f27e36f1",
   "metadata": {},
   "outputs": [],
   "source": [
    "# Exportar superficie interpolada\n",
    "export_to_geotiff(grid_z, gdf_bounds_4326, 'kriging_densidad_poblacional.tif', 3857)"
   ]
  },
  {
   "cell_type": "markdown",
   "id": "0f418dfc",
   "metadata": {},
   "source": [
    "# Etapa 5 : superposición de mapas de densidad y peligrosidad de inundación de la ciudad de La Plata (QGIS)."
   ]
  }
 ],
 "metadata": {
  "kernelspec": {
   "display_name": "Python 3",
   "language": "python",
   "name": "python3"
  },
  "language_info": {
   "codemirror_mode": {
    "name": "ipython",
    "version": 3
   },
   "file_extension": ".py",
   "mimetype": "text/x-python",
   "name": "python",
   "nbconvert_exporter": "python",
   "pygments_lexer": "ipython3",
   "version": "3.10.12"
  }
 },
 "nbformat": 4,
 "nbformat_minor": 5
}
