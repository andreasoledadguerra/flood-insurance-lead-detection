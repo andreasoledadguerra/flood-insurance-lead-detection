{
 "cells": [
  {
   "cell_type": "code",
   "execution_count": null,
   "id": "b198aec0",
   "metadata": {},
   "outputs": [],
   "source": [
    "import pandas as pd\n",
    "import geopandas as gpd\n",
    "import fiona\n",
    "import matplotlib.pyplot as plt\n",
    "import numpy as np\n",
    "import contextily as ctx\n",
    "import rasterio\n",
    "from rasterio.crs import CRS\n",
    "from rasterio.transform import from_bounds\n",
    "from shapely.geometry import Point, Polygon, MultiPolygon,box\n",
    "from scipy.spatial import cKDTree\n",
    "from sklearn.gaussian_process import GaussianProcessRegressor\n",
    "from sklearn.gaussian_process.kernels import RBF,WhiteKernel,ConstantKernel\n"
   ]
  },
  {
   "cell_type": "markdown",
   "id": "483e96eb",
   "metadata": {},
   "source": [
    "# Etapa 1 : Obtener datos .kml de la ciudad de La Plata."
   ]
  },
  {
   "cell_type": "code",
   "execution_count": null,
   "id": "0ca856b9",
   "metadata": {},
   "outputs": [],
   "source": [
    "gdf = gpd.read_file(\"laplata_cascourbano.kml\", driver=\"KML\")\n",
    "display(gdf)"
   ]
  },
  {
   "cell_type": "code",
   "execution_count": null,
   "id": "85763a02",
   "metadata": {},
   "outputs": [],
   "source": [
    "# Chequear cuántas capas tiene el archivo kml\n",
    "for layer in fiona.listlayers(\"laplata_cascourbano.kml\"):\n",
    "    print(layer)"
   ]
  },
  {
   "cell_type": "code",
   "execution_count": null,
   "id": "d52865cb",
   "metadata": {},
   "outputs": [],
   "source": [
    "# Convertir el archivo kml a geojson\n",
    "gdf.to_file(\"salida.geojson\", driver='GeoJSON')"
   ]
  },
  {
   "cell_type": "code",
   "execution_count": null,
   "id": "d92a1664",
   "metadata": {},
   "outputs": [],
   "source": [
    "# Plotear el archivo geojson\n",
    "gdf = gpd.read_file(\"salida.geojson\")\n",
    "gdf.plot()"
   ]
  },
  {
   "cell_type": "markdown",
   "id": "cef5952c",
   "metadata": {},
   "source": [
    "# Etapa 2 : Obtener datos de densidad poblacional de la ciudad de La Plata."
   ]
  },
  {
   "cell_type": "code",
   "execution_count": null,
   "id": "35397983",
   "metadata": {},
   "outputs": [],
   "source": [
    "# Dataset de densidad poblacional Argentina 2020 (1km resolución, ~4M puntos)\n",
    "pd.read_csv(\"arg_pd_2020_1km_ASCII_XYZ.csv\")"
   ]
  },
  {
   "cell_type": "code",
   "execution_count": null,
   "id": "c12fe9f8",
   "metadata": {},
   "outputs": [],
   "source": [
    "# Función para extraer datos de una ciudad específica del dataset completo\n",
    "def extract_city_data(city_name: str, bounds: dict) -> pd.DataFrame:\n",
    "\n",
    "    df = pd.read_csv(\"arg_pd_2020_1km_ASCII_XYZ.csv\")\n",
    "    \n",
    "    city_data = df[\n",
    "        (df['X'] >= bounds['x_min']) & \n",
    "        (df['X'] <= bounds['x_max']) & \n",
    "        (df['Y'] >= bounds['y_min']) & \n",
    "        (df['Y'] <= bounds['y_max'])\n",
    "    ]\n",
    "    \n",
    "    # Guardar subset\n",
    "    output_file = f\"{city_name.lower().replace(' ', '_')}_population_2020.csv\"\n",
    "    city_data.to_csv(output_file, index=False)\n",
    "    \n",
    "    print(\"Filas extraídas:\", f\"{len(city_data):,}\")\n",
    "    \n",
    "    return city_data"
   ]
  },
  {
   "cell_type": "code",
   "execution_count": null,
   "id": "7260c9c7",
   "metadata": {},
   "outputs": [],
   "source": []
  },
  {
   "cell_type": "code",
   "execution_count": null,
   "id": "edb7825b",
   "metadata": {},
   "outputs": [],
   "source": [
    "# Coordenadas aproximadas para La Plata\n",
    "la_plata_bounds = {\n",
    "   'x_min': -58.2,\n",
    "   'x_max': -57.7,\n",
    "   'y_min': -35.2,\n",
    "   'y_max': -34.7\n",
    "}\n",
    "\n",
    "# Extraer datos\n",
    "la_plata_data = extract_city_data(\"La Plata\", la_plata_bounds)\n"
   ]
  },
  {
   "cell_type": "code",
   "execution_count": null,
   "id": "88bbe212",
   "metadata": {},
   "outputs": [],
   "source": [
    "# Leer el archivo CSV de densidad de población de La Plata\n",
    "df = pd.read_csv('la_plata_population_2020.csv')\n",
    "    \n",
    "# Crear geometría de puntos usando X,Y como longitud,latitud\n",
    "geometry = [Point(xy) for xy in zip(df['X'], df['Y'])]\n",
    "    "
   ]
  },
  {
   "cell_type": "code",
   "execution_count": null,
   "id": "846705a8",
   "metadata": {},
   "outputs": [],
   "source": [
    "# Crear GeoDataFrame\n",
    "CRS_4326 = 4326\n",
    "gdf_densidad= gpd.GeoDataFrame(df, geometry=geometry, crs=CRS_4326)\n",
    "    \n",
    "# Agregar columna de densidad con nombre descriptivo\n",
    "gdf_densidad['densidad_poblacional_lp'] = gdf_densidad['Z']\n",
    "gdf_densidad\n"
   ]
  },
  {
   "cell_type": "code",
   "execution_count": null,
   "id": "abde0f1b",
   "metadata": {},
   "outputs": [],
   "source": [
    "#gdf.to_crs() #con esto cambio el sistema de referencia de coordenadas"
   ]
  },
  {
   "cell_type": "code",
   "execution_count": null,
   "id": "3440d38d",
   "metadata": {},
   "outputs": [],
   "source": [
    "def export_to_geojson(gdf_densidad: gpd.GeoDataFrame, output_path:str = \"la_plata_densidad.geojson\") -> str:\n",
    "        \"\"\"\n",
    "    Exporta un GeoDataFrame a formato GeoJSON\n",
    "    \n",
    "    Args:\n",
    "        gdf_densidad: GeoDataFrame con datos de densidad\n",
    "        output_path: Ruta de salida (default: \"la_plata_densidad.geojson\")\n",
    "    \n",
    "    Returns:\n",
    "        str: Ruta del archivo exportado\n",
    "    \"\"\"\n",
    "        \n",
    "        gdf_densidad.to_file(output_path, driver='GeoJSON')\n",
    "        print(f\"Archivo exportado: {output_path}\")\n",
    "        return output_path"
   ]
  },
  {
   "cell_type": "code",
   "execution_count": null,
   "id": "75c543c4",
   "metadata": {},
   "outputs": [],
   "source": [
    "export_to_geojson(gdf_densidad)"
   ]
  },
  {
   "cell_type": "code",
   "execution_count": null,
   "id": "a3367c62",
   "metadata": {},
   "outputs": [],
   "source": [
    "# Visualización de la densidad poblacional de La Plata\n",
    "fig, axes = plt.subplots(figsize=(6, 6))\n",
    "\n",
    "# Gráfico de dispersión geográfica\n",
    "scatter = axes.scatter(\n",
    "    gdf_densidad['X'], gdf_densidad['Y'], c=gdf_densidad['Z'],\n",
    "    cmap='inferno', alpha=0.6, s=10\n",
    ")\n",
    "axes.set_xlabel('Longitud')\n",
    "axes.set_ylabel('Latitud')\n",
    "axes.set_title('Distribución Geográfica de Densidad Poblacional de La Plata')\n",
    "plt.colorbar(scatter, ax=axes, label='Densidad')\n",
    "\n",
    "plt.tight_layout()\n",
    "plt.savefig('densidad_la_plata.png', dpi=300, bbox_inches='tight')\n",
    "plt.show()"
   ]
  },
  {
   "cell_type": "code",
   "execution_count": null,
   "id": "55c08a29",
   "metadata": {},
   "outputs": [],
   "source": [
    "# Recortar el GeoDataFrame de densidad poblacional con el GeoDataFrame de La Plata"
   ]
  },
  {
   "cell_type": "code",
   "execution_count": null,
   "id": "88c72973",
   "metadata": {},
   "outputs": [],
   "source": [
    "def clip_density_to_urban_area(gdf_density: gpd.GeoDataFrame, gdf_geographical: gpd.GeoDataFrame) -> gpd.GeoDataFrame: \n",
    "    \"\"\"\n",
    "    Recorta los puntos de densidad que caen dentro del casco urbano de un límite geográfico dado.\n",
    "    \n",
    "    Args:\n",
    "        gdf_density: GeoDataFrame con datos de densidad\n",
    "        gdf_geographical: GeoDataFrame con límites geográficos\n",
    "\n",
    "    Returns:\n",
    "        gpd.GeoDataFrame: GeoDataFrame recortado a la zona urbana\n",
    "    \"\"\"\n",
    "    # Usar uniones espaciales para mantener solo puntos dentro del casco urbano\n",
    "    points_in_casco = gpd.sjoin(gdf_density, gdf_geographical, how='inner', predicate='intersects')\n",
    "    \n",
    "    # Limpiar columnas duplicadas del join \n",
    "    points_in_casco = points_in_casco.drop(columns=[col for col in points_in_casco.columns if col.endswith('_right')]) \n",
    "    \n",
    "    return points_in_casco"
   ]
  },
  {
   "cell_type": "code",
   "execution_count": null,
   "id": "dff5b005",
   "metadata": {},
   "outputs": [],
   "source": [
    "casco_urbano = clip_density_to_urban_area(gdf_densidad, gdf_geographical= gdf)"
   ]
  },
  {
   "cell_type": "code",
   "execution_count": null,
   "id": "3e7b057b",
   "metadata": {},
   "outputs": [],
   "source": [
    "casco_urbano"
   ]
  },
  {
   "cell_type": "code",
   "execution_count": null,
   "id": "4d406bcf",
   "metadata": {},
   "outputs": [],
   "source": [
    "# Convertir a Web Mercator (sist. de proyección cartográfica EPSG 3857)\n",
    "casco_utm = casco_urbano.to_crs(epsg=3857)"
   ]
  },
  {
   "cell_type": "code",
   "execution_count": null,
   "id": "1a77024e",
   "metadata": {},
   "outputs": [],
   "source": [
    "# Plotear usando un mapa base más clara y con mayor contraste\n",
    "fig, ax = plt.subplots(figsize=(8, 8))\n",
    "\n",
    "casco_utm.plot(column='densidad_poblacional_lp', \n",
    "               cmap='viridis',  \n",
    "               alpha=0.8,    \n",
    "               edgecolor='black',\n",
    "               linewidth=2,\n",
    "               ax=ax,\n",
    "               legend=True,\n",
    "               legend_kwds={'shrink': 1.0})\n",
    "\n",
    "# Mapa base\n",
    "ctx.add_basemap(ax, crs=casco_utm.crs.to_string(), \n",
    "                source=ctx.providers.CartoDB.Positron,  # Fondo más claro\n",
    "                alpha=0.7)  \n",
    "\n",
    "ax.set_title('Densidad Poblacional - Casco Urbano La Plata', fontsize=16)\n",
    "ax.axis('on')\n",
    "plt.tight_layout()\n",
    "plt.show()"
   ]
  },
  {
   "cell_type": "code",
   "execution_count": null,
   "id": "f7f03afe",
   "metadata": {},
   "outputs": [],
   "source": [
    "# Visualización de la densidad poblacional de La Plata usando kriging\n",
    "\n",
    "# Extraer coordenadas de los centroides,y valores desde el GeoDataFrame\n",
    "coords =np.array([[point.x, point.y] for point in casco_utm.geometry.centroid]) \n",
    "values_density = casco_urbano['densidad_poblacional_lp'].values\n",
    "\n",
    "print(f\"Puntos de datos: {len(coords)}\")    \n",
    "print(f\"Rango de valores: {values_density.min():.2f} - {values_density.max():.2f}\")\n",
    "\n",
    "# Crear grid de puntos para interpolación\n",
    "bounds_casco_lp = casco_utm.total_bounds\n",
    "grid_x, grid_y = np.mgrid[bounds_casco_lp[0]:bounds_casco_lp[2]:150j, bounds_casco_lp[1]:bounds_casco_lp[3]:150j]\n",
    "grid_coords = np.column_stack([grid_x.ravel(), grid_y.ravel()])\n",
    "\n",
    "#Definir kernel para el modelo de kriging\n",
    "kernel = (ConstantKernel(1.0) * RBF(length_scale=1000.0) + \n",
    "          WhiteKernel(noise_level=0.1, noise_level_bounds=(1e-10, 1e3)))\n",
    "\n",
    "# Crear modelo de kriging\n",
    "gpr = GaussianProcessRegressor(kernel=kernel,\n",
    "                                n_restarts_optimizer=10,\n",
    "                                alpha=1e-04,\n",
    "                                normalize_y=True)\n",
    "\n",
    "# Entrenar el modelo\n",
    "gpr.fit(coords, values_density)\n",
    "\n",
    "#Predecir en el grid\n",
    "grid_2_kriging, pred_std = gpr.predict(grid_coords, return_std=True)\n",
    "grid_z = grid_2_kriging.reshape(grid_x.shape)\n",
    "grid_uncertainty = pred_std.reshape(grid_x.shape)\n",
    "\n",
    "# Visualización de la superficie Kriging interpolada\n",
    "fig, ax = plt.subplots(figsize=(8, 10))\n",
    "\n",
    "# Plotear superficie Kriging interpolada\n",
    "contour = ax.contourf(grid_x, grid_y, grid_z, levels=30, cmap='viridis', alpha=0.7)\n",
    "\n",
    "# Plotear los polígonos originales con bordes\n",
    "casco_utm.plot(column='densidad_poblacional_lp', \n",
    "               cmap='viridis',\n",
    "               alpha=0.5,\n",
    "               edgecolor='black',\n",
    "               linewidth=1.0,\n",
    "               ax=ax)\n",
    "\n",
    "# Plotear los puntos centroides\n",
    "scatter = ax.scatter(coords[:, 0], coords[:, 1],\n",
    "                    c=values_density,\n",
    "                    cmap='viridis',\n",
    "                    s=30,\n",
    "                    edgecolors='black',\n",
    "                    linewidths=1,\n",
    "                    zorder=5)\n",
    "\n",
    "#Mapa base más sutil\n",
    "ctx.add_basemap(ax, crs=casco_utm.crs.to_string(),\n",
    "               source=ctx.providers.CartoDB.Positron,\n",
    "               alpha = 0.9)\n",
    "\n",
    "# Agregar colorbar para el scatter\n",
    "plt.colorbar(scatter, ax=ax, label='Densidad poblacional',shrink=0.7, aspect=25)\n",
    "\n",
    "# Agregar título y etiquetas\n",
    "ax.set_title('Interpolación Kriging - Densidad Poblacional La Plata')\n",
    "ax.set_xlabel('X (UTM)')\n",
    "ax.set_ylabel('Y (UTM)')\n",
    "\n",
    "plt.tight_layout()\n",
    "plt.show()"
   ]
  },
  {
   "cell_type": "code",
   "execution_count": null,
   "id": "080adb80",
   "metadata": {},
   "outputs": [],
   "source": [
    "def export_to_geotiff(grid_data: np.ndarray, gdf: gpd.GeoDataFrame, filename: str, crs_epsg: int = 3857):\n",
    "    \"\"\"\n",
    "    Exporta una grilla (raster 2D) a un archivo GeoTIFF usando los límites geográficos de un GeoDataFrame.\n",
    "    \n",
    "    Parámetros:\n",
    "    - grid_data: np.ndarray 2D, la grilla interpolada (como grid_z)\n",
    "    - gdf: GeoDataFrame con CRS definido\n",
    "    - filename: str, nombre de salida\n",
    "    - crs_epsg: entero del sistema de coordenadas (ej. 3857)\n",
    "    \"\"\"\n",
    "    bounds = gdf.total_bounds  # [minx, miny, maxx, maxy]\n",
    "    height, width = grid_data.shape\n",
    "\n",
    "    # Calcula la transformación georreferenciada\n",
    "    transform = from_bounds(bounds[0], bounds[1], bounds[2], bounds[3], width, height)\n",
    "\n",
    "    with rasterio.open(\n",
    "        filename,\n",
    "        'w',\n",
    "        driver='GTiff',\n",
    "        height=height,\n",
    "        width=width,\n",
    "        count=1,\n",
    "        dtype=grid_data.dtype,\n",
    "        crs=CRS.from_epsg(crs_epsg),\n",
    "        transform=transform,\n",
    "        compress='lzw'\n",
    "    ) as dst:\n",
    "        dst.write(grid_data, 1)\n",
    "        dst.set_band_description(1, 'Densidad Poblacional Kriging')\n",
    "\n",
    "    print(f\"Archivo exportado correctamente: {filename}\")\n"
   ]
  },
  {
   "cell_type": "code",
   "execution_count": null,
   "id": "f27e36f1",
   "metadata": {},
   "outputs": [],
   "source": [
    "# Exportar superficie interpolada\n",
    "export_to_geotiff(grid_z, casco_utm, 'kriging_densidad_poblacional.tif', 3857)"
   ]
  },
  {
   "cell_type": "markdown",
   "id": "0f418dfc",
   "metadata": {},
   "source": [
    "# Etapa 3 : superposición de mapas de densidad y peligrosidad de inundación de la ciudad de La Plata (QGIS)."
   ]
  },
  {
   "cell_type": "code",
   "execution_count": null,
   "id": "9d924373",
   "metadata": {},
   "outputs": [],
   "source": [
    "# Verificaión de los sistemas de referencia espacial\n",
    "gdf_mapa = gpd.read_file(\"salida.geojson\")\n",
    "print(gdf.crs)\n",
    "print(gdf_mapa.crs)"
   ]
  },
  {
   "cell_type": "code",
   "execution_count": null,
   "id": "ea6780fb",
   "metadata": {},
   "outputs": [],
   "source": []
  },
  {
   "cell_type": "code",
   "execution_count": null,
   "id": "8c5b562c",
   "metadata": {},
   "outputs": [],
   "source": []
  },
  {
   "cell_type": "code",
   "execution_count": null,
   "id": "ccde8c21",
   "metadata": {},
   "outputs": [],
   "source": []
  }
 ],
 "metadata": {
  "kernelspec": {
   "display_name": "Python 3",
   "language": "python",
   "name": "python3"
  },
  "language_info": {
   "codemirror_mode": {
    "name": "ipython",
    "version": 3
   },
   "file_extension": ".py",
   "mimetype": "text/x-python",
   "name": "python",
   "nbconvert_exporter": "python",
   "pygments_lexer": "ipython3",
   "version": "3.10.12"
  }
 },
 "nbformat": 4,
 "nbformat_minor": 5
}
